{
 "cells": [
  {
   "cell_type": "markdown",
   "metadata": {
    "slideshow": {
     "slide_type": "slide"
    }
   },
   "source": [
    "<img src=\"200px-NASA_logo.png\">\n",
    "\n",
    "# GSFC Mission Design Lab (MDL) IRAD:  \"CATTENS\"\n",
    "\n",
    "\n",
    "\n",
    "<hr>\n",
    "\n",
    "Steve Waterbury  \n",
    "GSFC Python Bootcamp  \n",
    "June 17, 2016"
   ]
  },
  {
   "cell_type": "markdown",
   "metadata": {
    "slideshow": {
     "slide_type": "slide"
    }
   },
   "source": [
    "# Consequences of a suboptimal modeling environment\n",
    "\n",
    "<img src=\"fiddlesticks.jpg\" width=550 height=350>\n",
    "\n",
    "# ... suboptimal products!"
   ]
  },
  {
   "cell_type": "markdown",
   "metadata": {
    "slideshow": {
     "slide_type": "slide"
    }
   },
   "source": [
    "# Contents\n",
    "\n",
    "* In a Nutshell\n",
    "* Scope and Goals\n",
    "* Stretch Goals\n",
    "* **DEMO**:  Excel data import\n",
    "* Simple Architecture Diagram\n",
    "* Use of Ontologies (Domain Modeling)\n",
    "* Simple examples (Product / Versionable Product)\n",
    "* **DEMO**:  generating DB tables and application classes from ontology\n",
    "* **DEMO**:  object viewer / editor\n",
    "* Implementation Roadmap and Schedule Targets"
   ]
  },
  {
   "cell_type": "markdown",
   "metadata": {
    "slideshow": {
     "slide_type": "slide"
    }
   },
   "source": [
    "# In a Nutshell\n",
    "\n",
    "* Develop a next-generation of \"PRIME\" (MDL Database)"
   ]
  },
  {
   "cell_type": "markdown",
   "metadata": {
    "slideshow": {
     "slide_type": "fragment"
    }
   },
   "source": [
    "* With improved flexibility / evolvability"
   ]
  },
  {
   "cell_type": "markdown",
   "metadata": {
    "slideshow": {
     "slide_type": "fragment"
    }
   },
   "source": [
    "* And better maintainability / documentation"
   ]
  },
  {
   "cell_type": "markdown",
   "metadata": {
    "slideshow": {
     "slide_type": "slide"
    }
   },
   "source": [
    "# Scope and Goals\n",
    "\n",
    "* Support for the MDL collaborative process"
   ]
  },
  {
   "cell_type": "markdown",
   "metadata": {
    "slideshow": {
     "slide_type": "fragment"
    }
   },
   "source": [
    "* Mission Requirements capture, flowdown, and allocation"
   ]
  },
  {
   "cell_type": "markdown",
   "metadata": {
    "slideshow": {
     "slide_type": "fragment"
    }
   },
   "source": [
    "* Mission Con-Ops process modeling"
   ]
  },
  {
   "cell_type": "markdown",
   "metadata": {
    "slideshow": {
     "slide_type": "fragment"
    }
   },
   "source": [
    "* Mission Elements and Components modeling\n",
    "\n",
    "  - Mission Systems assembly structure\n",
    "  - Master Equipment List (MEL)  \n"
   ]
  },
  {
   "cell_type": "markdown",
   "metadata": {
    "slideshow": {
     "slide_type": "fragment"
    }
   },
   "source": [
    "* Parts Library:  re-use of component models"
   ]
  },
  {
   "cell_type": "markdown",
   "metadata": {
    "slideshow": {
     "slide_type": "fragment"
    }
   },
   "source": [
    "* Tracking of figures of merit\n",
    "\n",
    "  - Performance budgets by subsystem and component\n",
    "  - Resource budgets by subsystem and component\n",
    "  - Customizable reporting / presentation"
   ]
  },
  {
   "cell_type": "markdown",
   "metadata": {
    "slideshow": {
     "slide_type": "slide"
    }
   },
   "source": [
    "# Stretch / Long-Term Goals\n",
    "\n",
    "* Data exchange with other engineering and science tools"
   ]
  },
  {
   "cell_type": "markdown",
   "metadata": {
    "slideshow": {
     "slide_type": "fragment"
    }
   },
   "source": [
    "* Requirements Management [demo]"
   ]
  },
  {
   "cell_type": "markdown",
   "metadata": {
    "slideshow": {
     "slide_type": "fragment"
    }
   },
   "source": [
    "* Engineering Parts / Models Repository and Library Service"
   ]
  },
  {
   "cell_type": "markdown",
   "metadata": {
    "slideshow": {
     "slide_type": "fragment"
    }
   },
   "source": [
    "* Engineering Data Integration Service (e.g. Excel, STEP, other formats)"
   ]
  },
  {
   "cell_type": "markdown",
   "metadata": {
    "slideshow": {
     "slide_type": "fragment"
    }
   },
   "source": [
    "* Engineering Knowledgebase / AI Service [\"SkyNet\"]\n",
    "  - Searchable component histories / where used\n",
    "  - System validation rules\n",
    "  - NASA systems requirements database (e.g., GEVS) \n",
    "  "
   ]
  },
  {
   "cell_type": "markdown",
   "metadata": {
    "slideshow": {
     "slide_type": "fragment"
    }
   },
   "source": [
    "* Architecture for collaborative engineering tools and services:\n",
    "\n",
    "  - Sharing of models in real-time for distributed teams\n",
    "  - Engineering team status \"dashboard\" functions\n",
    "  - External tool and service integration via rpc API's and pub/sub channels\n",
    "  - Integrated text messaging within work sessions"
   ]
  },
  {
   "cell_type": "markdown",
   "metadata": {
    "slideshow": {
     "slide_type": "slide"
    }
   },
   "source": [
    "# Architecture Diagram\n",
    "\n",
    "<img src=\"cattens_architecture.png\">"
   ]
  },
  {
   "cell_type": "markdown",
   "metadata": {
    "slideshow": {
     "slide_type": "slide"
    }
   },
   "source": [
    "# Use of Ontologies\n",
    "\n",
    "* An \"upper ontology\" provides an abstract domain model"
   ]
  },
  {
   "cell_type": "markdown",
   "metadata": {
    "slideshow": {
     "slide_type": "fragment"
    }
   },
   "source": [
    "* Extended by specific ontologies (e.g., MDL)"
   ]
  },
  {
   "cell_type": "markdown",
   "metadata": {
    "slideshow": {
     "slide_type": "fragment"
    }
   },
   "source": [
    "* Supports extension to related sub-domains (ME, EE, etc.)"
   ]
  },
  {
   "cell_type": "markdown",
   "metadata": {
    "slideshow": {
     "slide_type": "fragment"
    }
   },
   "source": [
    "* In CATTENS, ontology -> db tables and app classes"
   ]
  },
  {
   "cell_type": "markdown",
   "metadata": {
    "slideshow": {
     "slide_type": "fragment"
    }
   },
   "source": [
    "* Ontology provides formal basis for:\n",
    "  - AI-like capabilities\n",
    "  - Inference engines\n",
    "  - Rule engines\n",
    "  - Machine learning\n",
    "  - Reasoning / extrapolation\n",
    "  - Intelligent optimizations"
   ]
  },
  {
   "cell_type": "markdown",
   "metadata": {
    "slideshow": {
     "slide_type": "slide"
    }
   },
   "source": [
    "# Example:  \"Product\"\n",
    "\n",
    "<img src=\"pgef_product_onto.png\">\n"
   ]
  },
  {
   "cell_type": "markdown",
   "metadata": {
    "slideshow": {
     "slide_type": "slide"
    }
   },
   "source": [
    "# Example:  \"Versionable Product\"\n",
    "\n",
    "<img src=\"pgef_versionable_onto.png\">\n"
   ]
  },
  {
   "cell_type": "markdown",
   "metadata": {
    "slideshow": {
     "slide_type": "slide"
    }
   },
   "source": [
    "# DEMO:  \n",
    "# Ontology -> DB and App Classes\n",
    "\n",
    "* DB tables and application classes are generated from the Ontology"
   ]
  },
  {
   "cell_type": "markdown",
   "metadata": {
    "slideshow": {
     "slide_type": "slide"
    }
   },
   "source": [
    "# DEMO:  \n",
    "# Basic Object Viewer / Editor\n",
    "\n",
    "* Generated at runtime from the ontology-defined class schemas"
   ]
  },
  {
   "cell_type": "markdown",
   "metadata": {
    "slideshow": {
     "slide_type": "slide"
    }
   },
   "source": [
    "# Work Plan / Targets (April 30)\n",
    "\n",
    "* Desktop Client (Alpha), with:\n",
    "  - Basic Requirements Management\n",
    "  - Basic Part / Component Modeling\n",
    "  - Basic Mission Modeling\n",
    "    + Architecture\n",
    "    + Con Ops (simplified process model)  "
   ]
  },
  {
   "cell_type": "markdown",
   "metadata": {
    "slideshow": {
     "slide_type": "slide"
    }
   },
   "source": [
    "# Work Plan / Targets (July 30)\n",
    "\n",
    "* Desktop Client (Beta), with:\n",
    "  - Intermediate Requirements Management (levels 2-4)\n",
    "    + Allocation to mission elements, subsystems, components\n",
    "  - Intermediate Part / Component Modeling\n",
    "    + Interface definitions\n",
    "  - Intermediate Mission Modeling\n",
    "    + Con Ops (improved process model)\n",
    "    + Element and subsystem interfaces / interactions  \n",
    "\n",
    "\n",
    "* Server (Alpha), with:\n",
    "  - Basic Repository Service\n",
    "    + Add/Modify/Delete share Requirements Definitions\n",
    "    + Add/Modify/Delete shared Mission Models\n",
    "  - Basic Parts Library Service\n",
    "    + Add/Modify/Delete Part Models  "
   ]
  },
  {
   "cell_type": "markdown",
   "metadata": {
    "slideshow": {
     "slide_type": "slide"
    }
   },
   "source": [
    "# Work Plan / Targets (Sept. 30)\n",
    "\n",
    "* Desktop Client (Release), with:\n",
    "  - Real-time Status Dashboard\n",
    "    + MDL Study event updates\n",
    "    + Change request notifications\n",
    "    + Customized event notifications\n",
    "  - Part / Component Modeling\n",
    "  - Mission Modeling  \n",
    "\n",
    "\n",
    "* Server (Release), with:\n",
    "  - Repository Service\n",
    "  - Parts Library Service\n",
    "  - Basic Publish-Subscribe Event Channels"
   ]
  }
 ],
 "metadata": {
  "celltoolbar": "Slideshow",
  "kernelspec": {
   "display_name": "Python 2",
   "language": "python",
   "name": "python2"
  },
  "language_info": {
   "codemirror_mode": {
    "name": "ipython",
    "version": 2
   },
   "file_extension": ".py",
   "mimetype": "text/x-python",
   "name": "python",
   "nbconvert_exporter": "python",
   "pygments_lexer": "ipython2",
   "version": "2.7.11"
  }
 },
 "nbformat": 4,
 "nbformat_minor": 0
}
