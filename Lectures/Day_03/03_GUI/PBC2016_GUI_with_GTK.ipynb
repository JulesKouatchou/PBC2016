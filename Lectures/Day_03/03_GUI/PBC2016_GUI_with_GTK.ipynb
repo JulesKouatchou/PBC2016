{
 "cells": [
  {
   "cell_type": "markdown",
   "metadata": {},
   "source": [
    "## Reference Documents"
   ]
  },
  {
   "cell_type": "markdown",
   "metadata": {},
   "source": [
    "<UL>\n",
    "<LI> <A HREF=\"http://www.gtk.org/\">The GTK+ Project</A>\n",
    "<LI> <A HREF=\"http://www.pygtk.org\">PyGTK: GTK+ for Pythony</A>\n",
    "<LI> <A HREF=\"http://www.pygtk.org/pygtk2tutorial/index.html\">PyGTK Tutorial</A>\n",
    "<LI> <A HREF=\"http://www.amazon.com/Foundations-Development-Experts-Voice-Source/dp/1590597931/\">\"Foundations of GTK+ Development\" book</A>\n",
    "</UL>"
   ]
  },
  {
   "cell_type": "markdown",
   "metadata": {},
   "source": [
    "## Tutorial"
   ]
  },
  {
   "cell_type": "raw",
   "metadata": {},
   "source": [
    "General structure of a GTK program:\n",
    "\n",
    "widget=gtk.WIDGETNAME() #create widget\n",
    "\n",
    "widget.show()\n",
    "\n",
    "gtk.main()\n",
    "\n",
    "gtk.main_quit()    # to quit"
   ]
  },
  {
   "cell_type": "markdown",
   "metadata": {},
   "source": [
    "#### The simplest GTK window\n",
    "\n",
    "Note: this code will never terminate, even if you delete the window - you have to restart kernel to continue"
   ]
  },
  {
   "cell_type": "code",
   "execution_count": null,
   "metadata": {
    "collapsed": true
   },
   "outputs": [],
   "source": [
    "import pygtk\n",
    "pygtk.require('2.0')\n",
    "import gtk\n",
    "\n",
    "# create a window at top level\n",
    "window = gtk.Window(gtk.WINDOW_TOPLEVEL)\n",
    "# tells GTK to show it\n",
    "window.show()\n",
    "\n",
    "# start gtk loop\n",
    "gtk.main()\n",
    "\n",
    "# does not help!\n",
    "gtk.main_quit()"
   ]
  },
  {
   "cell_type": "markdown",
   "metadata": {},
   "source": [
    "### Events, Signals and Callbacks"
   ]
  },
  {
   "cell_type": "markdown",
   "metadata": {},
   "source": [
    "GTK+ is an event driven toolkit, which means it will sleep in gtk.main() until an event occurs and control is passed to the appropriate function.\n",
    "\n",
    "This passing of control is done using the idea of \"signals\". (Note that these signals are not the same as the operating system signals). When an event occurs, such as the press of a mouse button, the appropriate signal will be \"emitted\" by the widget that was pressed. This is how GTK+ does most of its useful work. There are signals that all widgets inherit, such as \"destroy\", and there are signals that are widget specific, such as \"toggled\" on a toggle button.\n",
    "\n",
    "Events are special signals emitted by the windows managers\n",
    "\n",
    "To make a widget perform an action, one has to set up a signal handler to catch these signals and call the appropriate function. This function is called \"callback function\"<BR>\n",
    "<BR>\n",
    "<B><I>def callback_func(widget, callback_data)</I></B><BR>\n",
    "<BR>\n",
    "<B><I>handler_id = widget.connect(event_name, callback_func, callback_data)</I></B>"
   ]
  },
  {
   "cell_type": "markdown",
   "metadata": {},
   "source": [
    "#### A window which can be deleted"
   ]
  },
  {
   "cell_type": "code",
   "execution_count": null,
   "metadata": {
    "collapsed": false
   },
   "outputs": [],
   "source": [
    "import pygtk\n",
    "pygtk.require('2.0')\n",
    "import gtk\n",
    "\n",
    "# callback function - closes gtk\n",
    "def destroy_fun(widget, data=None):\n",
    "    print \"\\\"destroy\\\" signal occurred\"\n",
    "    gtk.main_quit()\n",
    "\n",
    "window = gtk.Window(gtk.WINDOW_TOPLEVEL)  \n",
    "\n",
    "# Here we connect the \"destroy\" event to a signal handler.  \n",
    "# This event occurs when we call gtk_widget_destroy() on the window\n",
    "window.connect(\"destroy\", destroy_fun)\n",
    "\n",
    "window.show()\n",
    "\n",
    "gtk.main()"
   ]
  },
  {
   "cell_type": "markdown",
   "metadata": {},
   "source": [
    "#### A window with a button\n",
    "\n",
    "* <A HREF=\"http://www.pygtk.org/pygtk2tutorial/ch-ButtonWidget.html#sec-NormalButtons\">Button</A>"
   ]
  },
  {
   "cell_type": "code",
   "execution_count": null,
   "metadata": {
    "collapsed": false
   },
   "outputs": [],
   "source": [
    "import pygtk\n",
    "pygtk.require('2.0')\n",
    "import gtk\n",
    "\n",
    "class HelloWorld:\n",
    "\n",
    "    # This is a callback function. The data arguments are ignored in this example.\n",
    "    def hello(self, widget, data=None):\n",
    "        print \"Hello World\"\n",
    "\n",
    "    def destroy_func(self, widget, data=None):\n",
    "        print \"\\\"destroy\\\" signal occurred\"\n",
    "        gtk.main_quit()\n",
    "\n",
    "    def __init__(self):\n",
    "        # create a new window\n",
    "        self.window = gtk.Window(gtk.WINDOW_TOPLEVEL)\n",
    "        # connect callback functions\n",
    "        self.window.connect(\"destroy\", self.destroy_func)\n",
    "    \n",
    "        # Sets the border width of the window.\n",
    "        self.window.set_border_width(10)\n",
    "    \n",
    "        # Creates a new button with the label \"Hello World\".\n",
    "        self.button = gtk.Button(\"Hello World\")\n",
    "        # When the button receives the \"clicked\" signal, it will call the\n",
    "        # function hello() passing it None as its argument.  The hello() function is defined above.\n",
    "        self.button.connect(\"clicked\", self.hello, None)\n",
    "        \n",
    "        # This packs the button into the window (a GTK container).\n",
    "        self.window.add(self.button)\n",
    "        # The final step is to display this newly created widget.\n",
    "        self.button.show()\n",
    "    \n",
    "        # and the window\n",
    "        self.window.show()\n",
    "\n",
    "    def main(self):\n",
    "        # All PyGTK applications must have a gtk.main(). Control ends here\n",
    "        # and waits for an event to occur (like a key press or mouse event).\n",
    "        gtk.main()\n",
    "\n",
    "# If the program is run directly or passed as an argument to the python\n",
    "# interpreter then create a HelloWorld instance and show it\n",
    "if __name__ == \"__main__\":\n",
    "    hello = HelloWorld()\n",
    "    hello.main()"
   ]
  },
  {
   "cell_type": "markdown",
   "metadata": {},
   "source": [
    "### Packing\n",
    "\n",
    "* <A HREF=\"http://www.pygtk.org/pygtk2tutorial/ch-PackingWidgets.html\">Help</A>"
   ]
  },
  {
   "cell_type": "markdown",
   "metadata": {},
   "source": [
    "When creating an application, you'll want to put more than one widget inside a window. This is where packing comes in. Most packing is done by creating boxes. These are invisible widget containers that we can pack our widgets into which come in two forms, a horizontal box, and a vertical box. \n",
    "\n",
    "When packing widgets into a horizontal box, the objects are inserted horizontally from left to right or right to left depending on the call used. \n",
    "\n",
    "In a vertical box, widgets are packed from top to bottom or vice versa. You may use any combination of boxes inside or beside other boxes to create the desired effect."
   ]
  },
  {
   "cell_type": "markdown",
   "metadata": {},
   "source": [
    "#### Packing with pack_back/pack_end and delete_event"
   ]
  },
  {
   "cell_type": "markdown",
   "metadata": {},
   "source": [
    "* Packing in vertical and horizontal boxes - comment the corresponding lines in the core\n",
    "* Prevent closing the window with windows manager command - \"delete_event\" handler"
   ]
  },
  {
   "cell_type": "raw",
   "metadata": {},
   "source": [
    "hbox = gtk.HBox(homogeneous=False, spacing=0)\n",
    "vbox = gtk.VBox(homogeneous=False, spacing=0)\n",
    "\n",
    "box.pack_start(child, expand=True, fill=True, padding=0) \n",
    "box.pack_end(child, expand=True, fill=True, padding=0)"
   ]
  },
  {
   "cell_type": "code",
   "execution_count": null,
   "metadata": {
    "collapsed": false
   },
   "outputs": [],
   "source": [
    "import pygtk\n",
    "pygtk.require('2.0')\n",
    "import gtk\n",
    "\n",
    "class HelloWorld:\n",
    "\n",
    "    # This is a callback function. The data arguments are ignored\n",
    "    def hello(self, widget, data=None):\n",
    "        print \"Hello World\"\n",
    "\n",
    "    # prevent closing the window by the windows manager\n",
    "    # If you return FALSE in the \"delete_event\" signal handler, GTK will emit the \"destroy\" signal. \n",
    "    # Returning TRUE means you don't want the window to be destroyed.\n",
    "    # This is useful for popping up 'are you sure you want to quit?' type dialogs.\n",
    "    def delete_event_func(self, widget, event, data=None):\n",
    "        print \"\\\"delete_event\\\" occurred\"\n",
    "        return True\n",
    "\n",
    "    def destroy_func(self, widget, data=None):\n",
    "        print \"\\\"destroy\\\" signal occurred\"\n",
    "        gtk.main_quit()\n",
    "\n",
    "    def __init__(self):\n",
    "        # create a new window\n",
    "        self.window = gtk.Window(gtk.WINDOW_TOPLEVEL)\n",
    "        # Sets the border width of the window.\n",
    "        self.window.set_border_width(10)\n",
    "        \n",
    "        # connect callback functions\n",
    "        self.window.connect(\"destroy\", self.destroy_func)\n",
    "        # When the window is given the \"delete_event\" signal (this is given by the window manager, usually by the \"close\" option, \n",
    "        # or on the titlebar), we ask it to call the delete_event () function as defined above. \n",
    "        # The data passed to the callback function is NULL and is ignored in the callback function.\n",
    "        self.window.connect(\"delete_event\", self.delete_event_func)\n",
    "   \n",
    "    \n",
    "        # pack in either VBox or HBox ------------------- \n",
    "        # create a vertical box\n",
    "        #self.box = gtk.VBox(False, 10)\n",
    "        # create a horizontal box\n",
    "        self.box = gtk.HBox(False, 10)        \n",
    "        # pack in either VBox or HBox ------------------- \n",
    "        \n",
    "        # This packs the button into the window (a GTK container).\n",
    "        self.window.add(self.box)\n",
    "    \n",
    "        # \"Hello World\" button\n",
    "        self.button1 = gtk.Button(\"Hello World\")\n",
    "        self.button1.connect(\"clicked\", self.hello, None)\n",
    "        self.box.pack_start(self.button1, False, False, 5)\n",
    "        self.button1.show()\n",
    "\n",
    "        # \"Quit\" button\n",
    "        self.button2 = gtk.Button(\"Quit\")\n",
    "        # This will cause the window to be destroyed by calling gtk_widget_destroy(window) when \"clicked\".  \n",
    "        # The destroy signal could come from here, or the window manager.\n",
    "        self.button2.connect_object(\"clicked\", gtk.Widget.destroy, self.window)\n",
    "        self.box.pack_start(self.button2, False, False, 5)\n",
    "        self.button2.show()\n",
    "        \n",
    "        self.box.show()\n",
    "        self.window.show()\n",
    "\n",
    "\n",
    "if __name__ == \"__main__\":\n",
    "    hello = HelloWorld()\n",
    "    gtk.main()"
   ]
  },
  {
   "cell_type": "markdown",
   "metadata": {},
   "source": [
    "#### Packing with Table"
   ]
  },
  {
   "cell_type": "markdown",
   "metadata": {},
   "source": [
    "* <A HREF=\"http://www.pygtk.org/pygtk2tutorial/sec-PackingUsingTables.html\">Table</A>"
   ]
  },
  {
   "cell_type": "raw",
   "metadata": {},
   "source": [
    "table = gtk.Table(rows=1, columns=1, homogeneous=False)\n",
    "\n",
    "rows and columns positions:\n",
    "\n",
    "  0            1             2\n",
    "0+----------+----------+\n",
    "  |             |            |\n",
    "1+----------+----------+\n",
    "  |             |            |\n",
    "2+----------+----------+\n",
    "\n",
    "# add widget to the table\n",
    "table.attach(widget, left_attach, right_attach, top_attach, bottom_attach,\n",
    "                     xoptions=EXPAND|FILL, yoptions=EXPAND|FILL, xpadding=0, ypadding=0)"
   ]
  },
  {
   "cell_type": "code",
   "execution_count": null,
   "metadata": {
    "collapsed": false
   },
   "outputs": [],
   "source": [
    "import pygtk\n",
    "pygtk.require('2.0')\n",
    "import gtk\n",
    "\n",
    "class HelloWorld:\n",
    "\n",
    "    # This is a callback function. \n",
    "    # prints the value of argument\n",
    "    def hello(self, widget, data=None):\n",
    "        print \"Hello World %s\" % (data if data else '')\n",
    "\n",
    "    def __init__(self):\n",
    "        # create a new window\n",
    "        self.window = gtk.Window(gtk.WINDOW_TOPLEVEL)\n",
    "        self.window.set_title(\"Table\")\n",
    "        self.window.set_border_width(10)\n",
    "        # connect callback functions for closing the window\n",
    "        self.window.connect(\"destroy\", lambda w: gtk.main_quit() )\n",
    "         \n",
    "        # Create a 2x2 table and add it to window\n",
    "        self.table = gtk.Table(2, 2, True)\n",
    "        self.window.add(self.table)\n",
    "               \n",
    "        # \"Hello World\" button\n",
    "        self.button1 = gtk.Button(\"Hello World\")\n",
    "        self.button1.connect(\"clicked\", self.hello, None)\n",
    "        # Insert button 1 into the upper left quadrant of the table\n",
    "        self.table.attach(self.button1, 0, 1, 0, 1)\n",
    "        self.button1.show()\n",
    "\n",
    "        # \"Quit\" button\n",
    "        self.button2 = gtk.Button(\"Quit\")\n",
    "        # This will cause the window to be destroyed by calling gtk_widget_destroy(window) when \"clicked\".  \n",
    "        # The destroy signal could come from here, or the window manager.\n",
    "        self.button2.connect_object(\"clicked\", gtk.Widget.destroy, self.window)\n",
    "        # Insert button2 into the upper left quadrant of the table\n",
    "        self.table.attach(self.button2, 0, 2, 1, 2)\n",
    "        self.button2.show()\n",
    "\n",
    "        # \"Hello World2\" button\n",
    "        self.button11 = gtk.Button(\"Hello World2\")\n",
    "        # providing data for the callback function\n",
    "        self.button11.connect(\"clicked\", self.hello, '2')\n",
    "        # Insert button11 into the upper left quadrant of the table\n",
    "        self.table.attach(self.button11, 1, 2, 0, 1)\n",
    "        self.button11.show()\n",
    "        \n",
    "        self.table.show()\n",
    "        self.window.show()\n",
    "\n",
    "\n",
    "# If the program is run directly or passed as an argument to the python\n",
    "# interpreter then create a HelloWorld instance and show it\n",
    "if __name__ == \"__main__\":\n",
    "    hello = HelloWorld()\n",
    "    gtk.main()"
   ]
  },
  {
   "cell_type": "markdown",
   "metadata": {},
   "source": [
    "### Other widgets"
   ]
  },
  {
   "cell_type": "markdown",
   "metadata": {},
   "source": [
    "The general steps to using a widget in PyGTK are:\n",
    "\n",
    "* invoke gtk. - one of various functions to create a new widget. \n",
    "* Connect all signals and events we wish to use to the appropriate handlers.\n",
    "* Set the attributes of the widget.\n",
    "* Pack the widget into a container using the appropriate call such as gtk.Container.add() or gtk.Box.pack_start() .\n",
    "* gtk.Widget.show() the widget.\n",
    "\n",
    "show() lets GTK know that we are done setting the attributes of the widget, and it is ready to be displayed. You may also use gtk.Widget.hide() to make it disappear again. \n",
    "\n",
    "The order in which you show the widgets is not important, but I suggest showing the window last so the whole window pops up at once rather than seeing the individual widgets come up on the screen as they're formed. The children of a widget (a window is a widget too) will not be displayed until the window itself is shown using the show() method."
   ]
  },
  {
   "cell_type": "markdown",
   "metadata": {},
   "source": [
    "* <A HREF=\"http://www.pygtk.org/pygtk2tutorial/ch-WidgetOverview.html#sec-WidgetHierarchy\">Widget Hierarchy</A>"
   ]
  },
  {
   "cell_type": "markdown",
   "metadata": {},
   "source": [
    "#### Text Entry, Checkbox, Label, and Dialog"
   ]
  },
  {
   "cell_type": "markdown",
   "metadata": {},
   "source": [
    "* <A HREF=\"http://www.pygtk.org/pygtk2tutorial/sec-TextEntries.html\"> Text Entry</A>\n",
    "* <A HREF=\"http://www.pygtk.org/pygtk2tutorial/sec-CheckButtons.html\">CheckButton</A>\n",
    "* <A HREF=\"http://www.pygtk.org/pygtk2tutorial/ch-MiscellaneousWidgets.html#sec-Labels\">Label</A>\n",
    "* <A HREF=\"http://www.pygtk.org/pygtk2tutorial/sec-Dialogs.html\">Dialog</A>"
   ]
  },
  {
   "cell_type": "code",
   "execution_count": null,
   "metadata": {
    "collapsed": false
   },
   "outputs": [],
   "source": [
    "import pygtk\n",
    "pygtk.require('2.0')\n",
    "import gtk\n",
    "\n",
    "class EntryExample:\n",
    "\n",
    "    # Handle delete request - ask for confirmation\n",
    "    def delete_event_func(self, widget, event, data=None):\n",
    "        print \"\\\"delete_event\\\" occurred\"\n",
    "        # create notification window\n",
    "        dialog = gtk.Dialog(title='Confirmation',\n",
    "                            parent=self.window,\n",
    "                            flags=0,\n",
    "                            buttons=(gtk.STOCK_CANCEL, gtk.RESPONSE_REJECT,\n",
    "                                     gtk.STOCK_OK, gtk.RESPONSE_ACCEPT))\n",
    "        label = gtk.Label('Close this window?')\n",
    "        dialog.vbox.pack_start(label)\n",
    "        label.show()\n",
    "        # get response\n",
    "        response = dialog.run()\n",
    "        dialog.destroy()\n",
    "        # do clear frames\n",
    "        if response == gtk.RESPONSE_ACCEPT:\n",
    "            return False\n",
    "        else:\n",
    "            return True \n",
    "    \n",
    "    \n",
    "    def enter_callback(self, widget, data=None):\n",
    "        entry_text = widget.get_text()\n",
    "        self.label.set_label(entry_text)\n",
    "        print \"Entry contents: %s\\n\" % entry_text\n",
    "\n",
    "    def entry_toggle_editable(self, checkbutton, entry):\n",
    "        entry.set_editable(checkbutton.get_active())\n",
    "\n",
    "    def entry_toggle_visibility(self, checkbutton, entry):\n",
    "        entry.set_visibility(checkbutton.get_active())\n",
    "\n",
    "    def __init__(self):\n",
    "        # create a new window\n",
    "        self.window = gtk.Window(gtk.WINDOW_TOPLEVEL)\n",
    "        self.window.set_size_request(200, 150)\n",
    "        self.window.set_title(\"GTK Entry\")\n",
    "        self.window.connect(\"delete_event\", self.delete_event_func)\n",
    "        self.window.connect(\"destroy\", lambda x: gtk.main_quit())\n",
    "\n",
    "        vbox = gtk.VBox(False, 0)\n",
    "        self.window.add(vbox)\n",
    "        vbox.show()\n",
    "\n",
    "        # Label widget - to show text\n",
    "        self.label=gtk.Label('entry appears here')\n",
    "        vbox.pack_start(self.label, True, True, 20)\n",
    "        self.label.show()\n",
    "        \n",
    "        # Entry widget - to enter text\n",
    "        entry = gtk.Entry()\n",
    "        entry.set_max_length(50)\n",
    "        entry.connect(\"activate\", self.enter_callback, entry)\n",
    "        # set function: set some value for a widget\n",
    "        entry.set_text(\"hello world\")\n",
    "        entry.select_region(0, len(entry.get_text()))\n",
    "        vbox.pack_start(entry, True, True, 0)\n",
    "        entry.show()\n",
    "\n",
    "        hbox = gtk.HBox(False, 0)\n",
    "        vbox.add(hbox)\n",
    "        hbox.show()\n",
    "                                  \n",
    "        # CheckButton widget\n",
    "        check = gtk.CheckButton(\"Editable\")\n",
    "        hbox.pack_start(check, True, True, 0)\n",
    "        check.connect(\"toggled\", self.entry_toggle_editable, entry)\n",
    "        # set this check box in inactive state at start of the program\n",
    "        check.set_active(False)\n",
    "        # set Entry widget according to CheckButton state\n",
    "        entry.set_editable(check.get_active())\n",
    "        check.show()\n",
    "    \n",
    "        # CheckButton widget\n",
    "        check = gtk.CheckButton(\"Visible\")\n",
    "        hbox.pack_start(check, True, True, 0)\n",
    "        check.connect(\"toggled\", self.entry_toggle_visibility, entry)\n",
    "        # set this check box in active state at start of the program\n",
    "        check.set_active(True)\n",
    "        check.show()\n",
    "                                   \n",
    "        # add stock icon to the button\n",
    "        button = gtk.Button(stock=gtk.STOCK_CLOSE)\n",
    "        vbox.pack_start(button, True, False, 0)\n",
    "        button.connect_object(\"clicked\", gtk.Widget.destroy, self.window)\n",
    "       \n",
    "        button.show()\n",
    "        self.window.show()\n",
    "\n",
    "if __name__ == \"__main__\":\n",
    "    EntryExample()\n",
    "    gtk.main()"
   ]
  },
  {
   "cell_type": "markdown",
   "metadata": {},
   "source": [
    "### Integrating matplotlib figure into a custom GUI application"
   ]
  },
  {
   "cell_type": "markdown",
   "metadata": {},
   "source": [
    "Relies on Matplotlib backend - in this case  GTKAgg"
   ]
  },
  {
   "cell_type": "code",
   "execution_count": 2,
   "metadata": {
    "collapsed": false
   },
   "outputs": [],
   "source": [
    "import pygtk\n",
    "pygtk.require('2.0')\n",
    "import gtk\n",
    "\n",
    "import matplotlib as mpl\n",
    "from numpy import *\n",
    "\n",
    "# Import some low-level Matplotlib stuff\n",
    "from matplotlib.backends.backend_gtkagg import FigureCanvasGTKAgg as FigureCanvas\n",
    "#from matplotlib.backends.backend_gtkcairo import FigureCanvasGTKCairo as FigureCanvas\n",
    "\n",
    "\n",
    "class MatplotlibExample:\n",
    "\n",
    "    # Handle delete request - ask for confirmation\n",
    "    def delete_event_func(self, widget, event, data=None):\n",
    "        # create notification window\n",
    "        dialog = gtk.Dialog(title='Confirmation',\n",
    "                                        parent=widget,\n",
    "                                        flags=0,\n",
    "                                        buttons=(gtk.STOCK_CANCEL, gtk.RESPONSE_REJECT,\n",
    "                                                        gtk.STOCK_OK, gtk.RESPONSE_ACCEPT))\n",
    "        label = gtk.Label('Close this window?')\n",
    "        dialog.vbox.pack_start(label)\n",
    "        label.show()\n",
    "        # get response\n",
    "        response = dialog.run()\n",
    "        dialog.destroy()\n",
    "        if response == gtk.RESPONSE_ACCEPT:\n",
    "            return False\n",
    "        else:\n",
    "            return True \n",
    "    \n",
    "    \n",
    "    # this function does the plotting\n",
    "    def plot_callback(self, widget, data=None):\n",
    "        x = linspace(0,2*pi,1000)\n",
    "        self.ax.plot(x, eval(self.plot_fun))\n",
    "        self.canvas.draw()\n",
    "\n",
    "    # this function clears axes  \n",
    "    def clear_axes_callback(self, widget, data=None):\n",
    "        self.ax.cla()\n",
    "        self.canvas.draw()\n",
    "        \n",
    "    # this function gets the textual representation of the function to be plotted  \n",
    "    def get_function_callback(self, text_entry_widget, data=None):\n",
    "        # save function as a string\n",
    "        self.plot_fun = text_entry_widget.get_text()\n",
    "        # show entered function in GUI\n",
    "        self.label.set_label(\"Plot: %s\\n\" % self.plot_fun)\n",
    "\n",
    "    \n",
    "    def __init__(self):\n",
    "        # create a new window\n",
    "        window = gtk.Window(gtk.WINDOW_TOPLEVEL)\n",
    "        window.set_size_request(800, 450)\n",
    "        window.set_title(\"Plot f(x)\")\n",
    "        window.connect(\"delete_event\", self.delete_event_func)\n",
    "        window.connect(\"destroy\", lambda x: gtk.main_quit())\n",
    "\n",
    "        # HBox contains Matplotlib canvas and VBox with Widgets\n",
    "        hbox= gtk.HBox(False,10)\n",
    "        window.add(hbox)\n",
    "        \n",
    "        # Normal Matplotlib stuff \n",
    "        fig = mpl.figure.Figure()  # create Figure\n",
    "        # setting axes\n",
    "        self.ax = fig.add_axes([.1,.1,.85,.85]) \n",
    "        self.ax.set_xlim([-.05, 6.3])\n",
    "\n",
    "        # Matplotlib low-level (backend) stuff\n",
    "        # get figure canvas - this is gtk.DrawArea, an object which GTK understands\n",
    "        self.canvas = FigureCanvas(fig)\n",
    "        hbox.pack_start(self.canvas, True, True)\n",
    "        \n",
    "        \n",
    "        # VBox for Buttons and TextEntry Widget\n",
    "        vbox = gtk.VBox(False, 0)\n",
    "        hbox.pack_start(vbox, False,False,10)\n",
    "\n",
    "        # Label widget - to show function to be plotted\n",
    "        self.label=gtk.Label('Plot:')\n",
    "        vbox.pack_start(self.label, True, True, 20)\n",
    "        \n",
    "        # Entry widget - to enter function to be plotted\n",
    "        entry = gtk.Entry(50)\n",
    "        vbox.pack_start(entry, True, True, 5)\n",
    "        entry.connect(\"activate\", self.get_function_callback, None)\n",
    "        # set function: set default function\n",
    "        entry.set_text(\"sin(x)\")\n",
    "        self.plot_fun=entry.get_text()\n",
    "        \n",
    "        # Plot Button\n",
    "        plot_button = gtk.Button('Plot')\n",
    "        vbox.pack_start(plot_button, True, False, 10)\n",
    "        plot_button.connect_object(\"clicked\", self.plot_callback, None)\n",
    "\n",
    "        # Clear Button\n",
    "        plot_button = gtk.Button('Clear Plot')\n",
    "        vbox.pack_start(plot_button, True, False, 10)\n",
    "        plot_button.connect_object(\"clicked\", self.clear_axes_callback, None)\n",
    "       \n",
    "        # Close Button\n",
    "        quit_button = gtk.Button(stock=gtk.STOCK_CLOSE)\n",
    "        vbox.pack_start(quit_button, True, False, 0)\n",
    "        quit_button.connect_object(\"clicked\", gtk.Widget.destroy, window)\n",
    "        \n",
    "        window.show_all()\n",
    "\n",
    "if __name__ == \"__main__\":\n",
    "    MatplotlibExample()\n",
    "    gtk.main()"
   ]
  }
 ],
 "metadata": {
  "kernelspec": {
   "display_name": "Python 2",
   "language": "python",
   "name": "python2"
  },
  "language_info": {
   "codemirror_mode": {
    "name": "ipython",
    "version": 2
   },
   "file_extension": ".py",
   "mimetype": "text/x-python",
   "name": "python",
   "nbconvert_exporter": "python",
   "pygments_lexer": "ipython2",
   "version": "2.7.10"
  }
 },
 "nbformat": 4,
 "nbformat_minor": 0
}
