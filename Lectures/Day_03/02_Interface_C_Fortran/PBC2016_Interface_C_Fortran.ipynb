{
 "cells": [
  {
   "cell_type": "markdown",
   "metadata": {},
   "source": [
    "# Fortran magic's documentation\n",
    "\n",
    "Fortran magic is an [IPython](http://ipython.org) extension that help to use fortran code in an interactive session. \n",
    "\n",
    "It adds a `%%fortran` cell magic that compile and import the Fortran code in the cell, using [F2py](http://wiki.scipy.org/F2py).\n",
    "\n",
    "The contents of the cell are written to a `.f90` file in the\n",
    "directory `IPYTHONDIR/fortran` using a filename with the hash of the\n",
    "code. This file is then compiled. The resulting module\n",
    "is imported and all of its symbols are injected into the user's\n",
    "namespace.\n",
    "\n",
    "\n",
    "* Author: Martín Gaitán <gaitan@gmail.com> heavily modeified by John (EBo) David <John.L.David@NASA.gov>\n",
    "* Homepage: https://github.com/mgaitan/fortran_magic \n",
    "* Twitter: [@tin`_`nqn`_`](https://twitter.com/tin_nqn_)\n",
    "* License: BSD\n",
    "\n",
    "This software was originally sponsored by [Phasety](http://phasety.com)\n",
    "\n",
    "Feedback, report of issues and pull requests are welcome!"
   ]
  },
  {
   "cell_type": "markdown",
   "metadata": {},
   "source": [
    "## Install or upgrade\n",
    "\n",
    "You can install or upgrade via `pip`\n",
    "\n",
    "        pip install -U fortran-magic\n",
    "\n",
    "or directly from the repository using `%install_ext` magic command.\n",
    "\n",
    "        %install_ext https://raw.github.com/mgaitan/fortran_magic/master/fortranmagic.py\n",
    "        \n",
    "or with conda\n",
    "\n",
    "        conda install -c IOOS fortran-magic\n",
    "        \n",
    "Also update SciPy"
   ]
  },
  {
   "cell_type": "markdown",
   "metadata": {},
   "source": [
    "# Usage \n",
    "\n",
    "Then you are ready to load the magic "
   ]
  },
  {
   "cell_type": "code",
   "execution_count": null,
   "metadata": {
    "collapsed": false
   },
   "outputs": [],
   "source": [
    "%load_ext fortranmagic"
   ]
  },
  {
   "cell_type": "markdown",
   "metadata": {},
   "source": [
    "To load it each time IPython starts, list it in your configuration file:\n",
    "\n",
    "    c.InteractiveShellApp.extensions = [\n",
    "        'fortranmagic'\n",
    "    ]"
   ]
  },
  {
   "cell_type": "markdown",
   "metadata": {},
   "source": [
    "## Basic example\n",
    "\n",
    "Just mark the cell with `%%fortran` in the first line. The code will be highlighted accordingly and compiled when the cell is run "
   ]
  },
  {
   "cell_type": "code",
   "execution_count": null,
   "metadata": {
    "collapsed": false
   },
   "outputs": [],
   "source": [
    "%%fortran\n",
    "\n",
    "subroutine f1(x, y, z)\n",
    "    real, intent(in) :: x,y\n",
    "    real, intent(out) :: z\n",
    "\n",
    "    z = sin(x+y)\n",
    "\n",
    "end subroutine f1"
   ]
  },
  {
   "cell_type": "code",
   "execution_count": null,
   "metadata": {
    "collapsed": false
   },
   "outputs": [],
   "source": [
    "f1(1.0, 2.1415)"
   ]
  },
  {
   "cell_type": "code",
   "execution_count": null,
   "metadata": {
    "collapsed": false
   },
   "outputs": [],
   "source": [
    "print f1.__doc__"
   ]
  },
  {
   "cell_type": "markdown",
   "metadata": {},
   "source": [
    "## Verbosity\n",
    "\n",
    "By default the magic only returns output when the compilation process fails. But you can increase the verbosity with the flag `-v`"
   ]
  },
  {
   "cell_type": "code",
   "execution_count": null,
   "metadata": {
    "collapsed": false
   },
   "outputs": [],
   "source": [
    "%%fortran -v \n",
    "\n",
    "module hi\n",
    "  integer :: five = 5\n",
    "end module   "
   ]
  },
  {
   "cell_type": "code",
   "execution_count": null,
   "metadata": {
    "collapsed": false
   },
   "outputs": [],
   "source": [
    "%%fortran -vv \n",
    "\n",
    "module hi\n",
    "  integer :: five = 5\n",
    "end module   "
   ]
  },
  {
   "cell_type": "code",
   "execution_count": null,
   "metadata": {
    "collapsed": false
   },
   "outputs": [],
   "source": [
    "%%fortran -vvv\n",
    "\n",
    "module hi\n",
    "  integer :: five = 5\n",
    "end module   "
   ]
  },
  {
   "cell_type": "markdown",
   "metadata": {},
   "source": [
    "## Using f2py options\n",
    "\n",
    "Almost all f2py's command line options are exposed to the `%%fortran` cell magic. See the docstring for detail. For example:"
   ]
  },
  {
   "cell_type": "code",
   "execution_count": null,
   "metadata": {
    "collapsed": false
   },
   "outputs": [],
   "source": [
    "%%fortran --fcompiler gnu95 --compiler unix --f90flags \"-d\" --noarch\n",
    "C\n",
    "      SUBROUTINE ZADD(A,B,C,N)\n",
    "C\n",
    "      DOUBLE COMPLEX A(*)\n",
    "      DOUBLE COMPLEX B(*)\n",
    "      DOUBLE COMPLEX C(*)\n",
    "      INTEGER N\n",
    "      DO 20 J = 1, N\n",
    "         C(J) = A(J)+B(J)\n",
    " 20   CONTINUE\n",
    "      END\n"
   ]
  },
  {
   "cell_type": "code",
   "execution_count": null,
   "metadata": {
    "collapsed": false
   },
   "outputs": [],
   "source": [
    "print(zadd.__doc__)"
   ]
  },
  {
   "cell_type": "markdown",
   "metadata": {},
   "source": [
    "## Linking resources\n",
    "\n",
    "Use `--link` option. This is `--link-<resource>` in f2py command line"
   ]
  },
  {
   "cell_type": "code",
   "execution_count": null,
   "metadata": {
    "collapsed": false
   },
   "outputs": [],
   "source": [
    "%%fortran --link lapack -vv\n",
    "\n",
    "subroutine solve(A, b, x, n)\n",
    "    ! solve the matrix equation A*x=b using LAPACK\n",
    "    implicit none\n",
    "\n",
    "    real*8, dimension(n,n), intent(in) :: A\n",
    "    real*8, dimension(n), intent(in) :: b\n",
    "    real*8, dimension(n), intent(out) :: x\n",
    "\n",
    "    integer :: i, j, pivot(n), ok\n",
    "\n",
    "    integer, intent(in) :: n\n",
    "    x = b\n",
    "\n",
    "    ! find the solution using the LAPACK routine SGESV\n",
    "    call DGESV(n, 1, A, n, pivot, x, n, ok)\n",
    "    \n",
    "end subroutine"
   ]
  },
  {
   "cell_type": "code",
   "execution_count": null,
   "metadata": {
    "collapsed": false
   },
   "outputs": [],
   "source": [
    "import numpy as np\n",
    "A = np.array([[1, 2.5], [-3, 4]])\n",
    "b = np.array([1, 2.5])"
   ]
  },
  {
   "cell_type": "code",
   "execution_count": null,
   "metadata": {
    "collapsed": false
   },
   "outputs": [],
   "source": [
    "solve?"
   ]
  },
  {
   "cell_type": "markdown",
   "metadata": {},
   "source": [
    "Which is, by the way, the same than"
   ]
  },
  {
   "cell_type": "code",
   "execution_count": null,
   "metadata": {
    "collapsed": false
   },
   "outputs": [],
   "source": [
    "np.linalg.solve(A, b)"
   ]
  },
  {
   "cell_type": "markdown",
   "metadata": {},
   "source": [
    "## Extra arguments\n",
    "\n",
    "F2py could have many other arguments. You could append extra arguments with `--extra`. For example:\n",
    "\n",
    "\n",
    "      %%fortran --extra '-L/path/to/open/ -lopenblas'\n",
    "      \n",
    "      %%fortran --extra '-D<define> -U<name>'\n",
    "   \n",
    "      %%fortran --extra '-DPREPEND_FORTRAN -DUPPERCASE_FORTRAN'\n",
    "      \n",
    "The option `--extra` could be given multiple times."
   ]
  },
  {
   "cell_type": "markdown",
   "metadata": {},
   "source": [
    "## Save options\n",
    "\n",
    "By default, `%%fortran` call to `f2py` without parameters (except, of course, the `-m` and `-c` needed to compile a new module). You can change this behaviour with `%fortran_config`. This line magic can be used in three different ways:\n",
    "\n",
    "\n",
    "    %fortran_config\n",
    "\n",
    "        Show the current custom configuration\n",
    "\n",
    "    %fortran_config --defaults\n",
    "\n",
    "        Delete the current configuration and back to defaults\n",
    "\n",
    "    %fortran_config <other options>\n",
    "\n",
    "        Save (persitently) <other options> to use with %%fortran. The same arguments allowed for `%%fortran` are available\n",
    "        \n",
    "For example, to set the highest verbose level (`-vvv`) and `gnu95` as default `--fcompiler`:"
   ]
  },
  {
   "cell_type": "code",
   "execution_count": null,
   "metadata": {
    "collapsed": false
   },
   "outputs": [],
   "source": [
    "%fortran_config -vvv --fcompiler gnu95"
   ]
  },
  {
   "cell_type": "markdown",
   "metadata": {},
   "source": [
    "Now the use of `%%fortran` will include `-vvv --fcompiler gnu95` implicitly"
   ]
  },
  {
   "cell_type": "code",
   "execution_count": null,
   "metadata": {
    "collapsed": false
   },
   "outputs": [],
   "source": [
    "%%fortran\n",
    "\n",
    "module hi\n",
    "  integer :: five = 5\n",
    "end module   "
   ]
  },
  {
   "cell_type": "markdown",
   "metadata": {},
   "source": [
    "We can see whatever the default config has"
   ]
  },
  {
   "cell_type": "code",
   "execution_count": null,
   "metadata": {
    "collapsed": false
   },
   "outputs": [],
   "source": [
    "%fortran_config"
   ]
  },
  {
   "cell_type": "markdown",
   "metadata": {},
   "source": [
    "You can override that global configuration for one specific cell. For example, `%%fortran -vv` will change the the verbose level but still use `--fcompiler gnu95`"
   ]
  },
  {
   "cell_type": "code",
   "execution_count": null,
   "metadata": {
    "collapsed": false
   },
   "outputs": [],
   "source": [
    "%%fortran -vv\n",
    "\n",
    "module hi\n",
    "  integer :: five = 5\n",
    "end module   "
   ]
  },
  {
   "cell_type": "markdown",
   "metadata": {},
   "source": [
    "To clear the custom defaults and back to the defaults (no arguments) use:"
   ]
  },
  {
   "cell_type": "code",
   "execution_count": null,
   "metadata": {
    "collapsed": false
   },
   "outputs": [],
   "source": [
    "%fortran_config --defaults"
   ]
  },
  {
   "cell_type": "markdown",
   "metadata": {},
   "source": [
    "## Help on f2py \n",
    "\n",
    "F2py has some flag that output help. See the docstring of `%f2py_help`"
   ]
  },
  {
   "cell_type": "code",
   "execution_count": null,
   "metadata": {
    "collapsed": false
   },
   "outputs": [],
   "source": [
    "%f2py_help --link blas"
   ]
  },
  {
   "cell_type": "code",
   "execution_count": null,
   "metadata": {
    "collapsed": false
   },
   "outputs": [],
   "source": [
    "%f2py_help --fcompiler"
   ]
  },
  {
   "cell_type": "code",
   "execution_count": null,
   "metadata": {
    "collapsed": false
   },
   "outputs": [],
   "source": [
    "%f2py_help --compiler"
   ]
  },
  {
   "cell_type": "markdown",
   "metadata": {},
   "source": [
    "## Creat a file and compiling...\n",
    "\n",
    "### With Fortran\n",
    "\n",
    "examples taken from https://www.wakari.io/nb/url///wakari.io/static/notebooks/Lecture_6A_Fortran_and_C.ipynb"
   ]
  },
  {
   "cell_type": "code",
   "execution_count": null,
   "metadata": {
    "collapsed": false
   },
   "outputs": [],
   "source": [
    "%%file hellofortran.f\n",
    "C File  hellofortran.f\n",
    "        subroutine hellofortran (n)\n",
    "        integer n\n",
    "       \n",
    "        do 100 i=0, n\n",
    "            print *, \"Fortran says hello\"\n",
    "100     continue\n",
    "        end"
   ]
  },
  {
   "cell_type": "code",
   "execution_count": null,
   "metadata": {
    "collapsed": false
   },
   "outputs": [],
   "source": [
    "!f2py -c -m hellofortran hellofortran.f"
   ]
  },
  {
   "cell_type": "code",
   "execution_count": null,
   "metadata": {
    "collapsed": false
   },
   "outputs": [],
   "source": [
    "%%file hello.py\n",
    "import hellofortran\n",
    "\n",
    "hellofortran.hellofortran(5)"
   ]
  },
  {
   "cell_type": "code",
   "execution_count": null,
   "metadata": {
    "collapsed": false
   },
   "outputs": [],
   "source": [
    "# run the script\n",
    "!python hello.py"
   ]
  },
  {
   "cell_type": "markdown",
   "metadata": {},
   "source": [
    "### With C"
   ]
  },
  {
   "cell_type": "code",
   "execution_count": null,
   "metadata": {
    "collapsed": false
   },
   "outputs": [],
   "source": [
    "%%file functions.c\n",
    "\n",
    "#include <stdio.h>\n",
    "\n",
    "void hello(int n);\n",
    "\n",
    "void\n",
    "hello(int n)\n",
    "{\n",
    "    int i;\n",
    "    \n",
    "    for (i = 0; i < n; i++)\n",
    "    {\n",
    "        printf(\"C says hello\\n\");\n",
    "    }\n",
    "}\n"
   ]
  },
  {
   "cell_type": "code",
   "execution_count": null,
   "metadata": {
    "collapsed": true
   },
   "outputs": [],
   "source": [
    "!gcc -c -Wall -O2 -Wall -ansi -pedantic -fPIC -o functions.o functions.c\n",
    "!gcc -o libfunctions.so -shared functions.o"
   ]
  },
  {
   "cell_type": "code",
   "execution_count": null,
   "metadata": {
    "collapsed": false
   },
   "outputs": [],
   "source": [
    "!file libfunctions.so"
   ]
  },
  {
   "cell_type": "code",
   "execution_count": null,
   "metadata": {
    "collapsed": false
   },
   "outputs": [],
   "source": [
    "%%file functions.py\n",
    "\n",
    "import numpy\n",
    "import ctypes\n",
    "\n",
    "_libfunctions = numpy.ctypeslib.load_library('libfunctions', '.')\n",
    "\n",
    "_libfunctions.hello.argtypes = [ctypes.c_int]\n",
    "_libfunctions.hello.restype  =  ctypes.c_void_p\n",
    "\n",
    "def hello(n):\n",
    "    return _libfunctions.hello(int(n))"
   ]
  },
  {
   "cell_type": "code",
   "execution_count": null,
   "metadata": {
    "collapsed": false
   },
   "outputs": [],
   "source": [
    "%%file run_hello_c.py\n",
    "\n",
    "import functions\n",
    "\n",
    "functions.hello(3)"
   ]
  },
  {
   "cell_type": "code",
   "execution_count": null,
   "metadata": {
    "collapsed": false
   },
   "outputs": [],
   "source": [
    "# run the script\n",
    "!python run_hello_c.py"
   ]
  },
  {
   "cell_type": "markdown",
   "metadata": {},
   "source": [
    "# Using Cython to compile code into C\n",
    "\n"
   ]
  },
  {
   "cell_type": "code",
   "execution_count": null,
   "metadata": {
    "collapsed": true
   },
   "outputs": [],
   "source": [
    "%load_ext Cython"
   ]
  },
  {
   "cell_type": "code",
   "execution_count": null,
   "metadata": {
    "collapsed": false
   },
   "outputs": [],
   "source": [
    "%%cython\n",
    "\n",
    "cdef int a = 0\n",
    "for i in range(10):\n",
    "    a += i\n",
    "print a"
   ]
  },
  {
   "cell_type": "code",
   "execution_count": null,
   "metadata": {
    "collapsed": false
   },
   "outputs": [],
   "source": [
    "%%cython --annotate\n",
    "def fib(long n):\n",
    "    cdef long a=0, b=1, i\n",
    "    for i in range(n):\n",
    "        a, b = a + b, a\n",
    "    return a\n"
   ]
  },
  {
   "cell_type": "code",
   "execution_count": null,
   "metadata": {
    "collapsed": false
   },
   "outputs": [],
   "source": [
    "fib(12)"
   ]
  },
  {
   "cell_type": "markdown",
   "metadata": {},
   "source": [
    "---------------\n",
    "\n",
    "* Bugs? Ideas? [Open an issue](https://github.com/mgaitan/fortran_magic)\n",
    "* Do you want to collaborate? [Fork it](https://github.com/mgaitan/fortran_magic/fork)! and send a pull-request"
   ]
  }
 ],
 "metadata": {
  "kernelspec": {
   "display_name": "Python 2",
   "language": "python",
   "name": "python2"
  },
  "language_info": {
   "codemirror_mode": {
    "name": "ipython",
    "version": 2
   },
   "file_extension": ".py",
   "mimetype": "text/x-python",
   "name": "python",
   "nbconvert_exporter": "python",
   "pygments_lexer": "ipython2",
   "version": "2.7.11"
  }
 },
 "nbformat": 4,
 "nbformat_minor": 0
}
