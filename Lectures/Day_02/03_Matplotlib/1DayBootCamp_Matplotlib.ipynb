{
 "cells": [
  {
   "cell_type": "markdown",
   "metadata": {},
   "source": [
    "<CENTER>\n",
    "<H1>\n",
    "NASA Goddard Space Flight Center <BR>\n",
    "    Python User Group <BR>\n",
    "2016 Python Boot Camp <br>\n",
    "</H1>\n",
    "</CENTER>"
   ]
  },
  {
   "cell_type": "markdown",
   "metadata": {},
   "source": [
    "# Matplotlib"
   ]
  },
  {
   "cell_type": "markdown",
   "metadata": {},
   "source": [
    "### Reference Documents <A id='ref'></A>"
   ]
  },
  {
   "cell_type": "markdown",
   "metadata": {},
   "source": [
    "<OL>\n",
    "<LI> <A HREF=\"http://matplotlib.org/\">Homepage of Matplotlib</A>\n",
    "<LI> <A HREF=\"http://matplotlib.org/api/pyplot_summary.html\">Matplotlib: Pyplot command summary</A>\n",
    "<LI> <A HREF=\"http://matplotlib.org/resources/index.html#books-chapters-and-articles\">Matplotlib: Books, videos, tutorials</A>\n",
    "<LI> <A HREF=\"http://matplotlib.org/gallery.html\">Matplotlib: Gallery</A>\n",
    "</OL>"
   ]
  },
  {
   "cell_type": "markdown",
   "metadata": {},
   "source": [
    "#### Recommended Tutorials"
   ]
  },
  {
   "cell_type": "markdown",
   "metadata": {},
   "source": [
    "* <A HREF=\"http://www.labri.fr/perso/nrougier/teaching/matplotlib/matplotlib.html\">Matplotlib Tutorial</A> by Nicolas P. Rougier\n",
    "\n",
    "* A  slightly old (but not obsolete!) video by Mike Müller from 2012 with introduction to plotting capabilities of matplotlib [~2 hours]"
   ]
  },
  {
   "cell_type": "code",
   "execution_count": null,
   "metadata": {
    "collapsed": false
   },
   "outputs": [],
   "source": [
    "from IPython.display import YouTubeVideo\n",
    "#YouTubeVideo(\"https://www.youtube.com/watch?v=P7SVi0YTIuE\")\n",
    "YouTubeVideo(\"P7SVi0YTIuE\")"
   ]
  },
  {
   "cell_type": "markdown",
   "metadata": {},
   "source": [
    "### What is Matplotlib?"
   ]
  },
  {
   "cell_type": "markdown",
   "metadata": {},
   "source": [
    "matplotlib is a library for making <B>2D plots</B> of arrays in Python. It is capable of producing\n",
    "sophisticated 2D plots with high quality outputs.\n",
    "\n",
    "matplotlib has some 3D plotting capabilities through <A HREF=\"http://matplotlib.org/mpl_toolkits/mplot3d/index.html\">mplot3d toolkit</A>, but for sofisticated 3D visualization\n",
    "it is better to use different packages\n",
    "\n",
    "matplotlib is conceptually divided into three parts:\n",
    "<UL>\n",
    "<LI> the <B><I>pylab</I></B> interface is the <I>set of functions</I> provided by matplotlib.pylab which allow the user to create plots with code quite similar to MATLAB figure generating code.\n",
    "<LI> The <B><I>matplotlib API</I></B> is the <I>set of classes</I> that do the heavy lifting, creating and managing figures, text, lines, plots and so on.\n",
    "<LI> The <B><I>backends</I></B> are device-dependent drawing devices, aka renderers, that transform the frontend representation to hardcopy or a display device - not covered in this tutorial\n",
    "</UL>"
   ]
  },
  {
   "cell_type": "markdown",
   "metadata": {},
   "source": [
    "## Pyplot interface "
   ]
  },
  {
   "cell_type": "markdown",
   "metadata": {},
   "source": [
    "#### Simple Plot"
   ]
  },
  {
   "cell_type": "code",
   "execution_count": null,
   "metadata": {
    "collapsed": false
   },
   "outputs": [],
   "source": [
    "%matplotlib inline \n",
    "\n",
    "import numpy as np\n",
    "import matplotlib.pylab as plt\n",
    "\n",
    "x = [2, 3, 5, 7, 11,13,16]\n",
    "y = [4, 9, 5, 9, 1,3,4.5]\n",
    "plt.plot(x, y)"
   ]
  },
  {
   "cell_type": "markdown",
   "metadata": {},
   "source": [
    "#### Useful Syntax"
   ]
  },
  {
   "cell_type": "raw",
   "metadata": {},
   "source": [
    "plot(x,y)\n",
    "xlabel('string')            # label the x-axis\n",
    "ylabel('string')            # label the y-axis\n",
    "title('string')                # write the title of the plot\n",
    "grid(true/false)           # adds grid boxes\n",
    "savefig('fileName.type') # type can be png, ps, pdf, etc\n",
    "show()                         # display the graph on the screen\n",
    "xlim(xmin,xmax)         # set/get the xlimits\n",
    "ylim(ymin,ymax)         # set/get the ylimits\n",
    "hold(True/False)         # to overlay figures on the same graph"
   ]
  },
  {
   "cell_type": "markdown",
   "metadata": {},
   "source": [
    "#### Data for plotting"
   ]
  },
  {
   "cell_type": "markdown",
   "metadata": {},
   "source": [
    "$t\\in[0,4\\pi]$,  $s_1=\\cos(x)$,  $s_2=\\frac{1}{2}\\cos(x)+\\frac{1}{2}\\cos(3 x)$"
   ]
  },
  {
   "cell_type": "code",
   "execution_count": null,
   "metadata": {
    "collapsed": false
   },
   "outputs": [],
   "source": [
    "t = np.linspace(0, 4*np.pi, 100)\n",
    "s1 = np.cos(t)\n",
    "s2 = 0.5*np.cos(t) + 0.25*np.cos(3*t)"
   ]
  },
  {
   "cell_type": "markdown",
   "metadata": {},
   "source": [
    "#### Two plots on the same axes with labels"
   ]
  },
  {
   "cell_type": "code",
   "execution_count": null,
   "metadata": {
    "collapsed": false
   },
   "outputs": [],
   "source": [
    "plt.plot(t, s1)\n",
    "plt.plot(t, s2)\n",
    "\n",
    "# add labels\n",
    "plt.xlabel('time (s)')\n",
    "plt.ylabel('voltage (mV)')\n",
    "plt.title('About as simple as it gets, folks')\n",
    "# add grid\n",
    "plt.grid(True)"
   ]
  },
  {
   "cell_type": "markdown",
   "metadata": {},
   "source": [
    "#### Change linestyle"
   ]
  },
  {
   "cell_type": "markdown",
   "metadata": {},
   "source": [
    " <A HREF=\"http://matplotlib.org/api/pyplot_api.html#matplotlib.pyplot.plot\">help</A> for <I>plot()</I> \n",
    "function - line style options listed here"
   ]
  },
  {
   "cell_type": "code",
   "execution_count": null,
   "metadata": {
    "collapsed": false
   },
   "outputs": [],
   "source": [
    "# short form of linestyle specification\n",
    "plt.plot(t, s1,'k-', linewidth=1)\n",
    "\n",
    "# long form of linestyle specification\n",
    "plt.plot(t, s2, linestyle='dashed',color='r', linewidth=1)\n",
    "\n",
    "plt.xlabel('time (s)')\n",
    "plt.ylabel('voltage (mV)')\n",
    "plt.title('About as simple as it gets, folks')\n",
    "plt.grid(True)"
   ]
  },
  {
   "cell_type": "markdown",
   "metadata": {},
   "source": [
    "#### Add Legend"
   ]
  },
  {
   "cell_type": "markdown",
   "metadata": {},
   "source": [
    "can use LaTeX in text"
   ]
  },
  {
   "cell_type": "code",
   "execution_count": null,
   "metadata": {
    "collapsed": false
   },
   "outputs": [],
   "source": [
    "x = np.linspace(0, 2*np.pi, 300)\n",
    "y1 = np.sin(x)\n",
    "y2 = np.sin(x**2)\n",
    "\n",
    "# add labels to the curves, can use LaTeX \n",
    "plt.plot(x, y1, label=r'$\\sin(x)$')\n",
    "plt.plot(x, y2, label=r'$\\sin(x^2)$')\n",
    "plt.title('functions: $\\sin(x)$ and $\\sin(x^2)$')\n",
    "\n",
    "plt.xlabel('x')\n",
    "plt.ylabel('y')\n",
    "plt.grid()\n",
    "\n",
    "# add legend; loc=0 \"best\" placement\n",
    "plt.legend(loc=0)"
   ]
  },
  {
   "cell_type": "markdown",
   "metadata": {},
   "source": [
    "#### Change Axes Limits"
   ]
  },
  {
   "cell_type": "code",
   "execution_count": null,
   "metadata": {
    "collapsed": false
   },
   "outputs": [],
   "source": [
    "# add labels to the curves, can use LaTeX \n",
    "plt.plot(x, y1, label=r'$\\sin(x)$')\n",
    "plt.plot(x, y2, label=r'$\\sin(x^2)$')\n",
    "plt.title('functions: $\\sin(x)$ and $\\sin(x^2)$')\n",
    "\n",
    "plt.xlabel('x')\n",
    "plt.ylabel('y')\n",
    "plt.grid()\n",
    "\n",
    "# change axes limits\n",
    "plt.xlim(-0.1,6.5)\n",
    "plt.ylim(-1.1,1.1)\n",
    "\n",
    "# add legend; loc=0 \"best\" placement\n",
    "plt.legend(loc=0)"
   ]
  },
  {
   "cell_type": "markdown",
   "metadata": {},
   "source": [
    "#### Save Figure to File"
   ]
  },
  {
   "cell_type": "markdown",
   "metadata": {},
   "source": [
    "<B><I>savefig(filename.ext)</I></B> saves current figure into a file (<A HREF=\"http://matplotlib.org/api/pyplot_api.html#matplotlib.pyplot.savefig\">help</A>)"
   ]
  },
  {
   "cell_type": "code",
   "execution_count": null,
   "metadata": {
    "collapsed": false
   },
   "outputs": [],
   "source": [
    "# add labels to the curves, can use LaTeX \n",
    "plt.plot(x, y1, label=r'$\\sin(x)$')\n",
    "plt.plot(x, y2, label=r'$\\sin(x^2)$')\n",
    "plt.title('functions: $\\sin(x)$ and $\\sin(x^2)$')\n",
    "\n",
    "plt.xlabel('x')\n",
    "plt.ylabel('y')\n",
    "plt.grid()\n",
    "\n",
    "# change axes limits\n",
    "plt.xlim(-0.1,6.5)\n",
    "plt.ylim(-1.1,1.1)\n",
    "\n",
    "# add legend; loc=0 \"best\" placement\n",
    "plt.legend(loc=0)\n",
    "\n",
    "# save figure to a PDF file\n",
    "plt.savefig('sin_legend_plot.pdf') "
   ]
  },
  {
   "cell_type": "markdown",
   "metadata": {},
   "source": [
    "#### Multiple Figures on the Same Plot"
   ]
  },
  {
   "cell_type": "markdown",
   "metadata": {},
   "source": [
    "<B><I>subplot(nrows, ncols, plot_number)</I></B> creates a subplot axes positioned by the given grid definition  (<A HREF=\"http://matplotlib.org/api/pyplot_api.html#matplotlib.pyplot.subplot\">help</A>)"
   ]
  },
  {
   "cell_type": "code",
   "execution_count": null,
   "metadata": {
    "collapsed": false
   },
   "outputs": [],
   "source": [
    "def f(t):\n",
    "    return np.exp(-t) * np.cos(2*np.pi*t)\n",
    "\n",
    "t1 = np.arange(0.0, 5.0, 0.1)\n",
    "t2 = np.arange(0.0, 5.0, 0.02)\n",
    "\n",
    "# create figure\n",
    "plt.figure(1)\n",
    "# first subplot - 2,1,1: 2 rows, 1 column, first plot\n",
    "plt.subplot(2,1,1)\n",
    "# plot both data with a single plot function call\n",
    "# first plot filled circles, then solid black line\n",
    "plt.plot(t1, f(t1), 'bo', t2, f(t2), 'k')\n",
    "\n",
    "# can use a simpler form, without commas - 212: 2 rows, 1 column, second plot\n",
    "plt.subplot(212)\n",
    "plt.plot(t2, np.cos(2*np.pi*t2), 'r--')"
   ]
  },
  {
   "cell_type": "markdown",
   "metadata": {},
   "source": [
    "#### Annotating Text"
   ]
  },
  {
   "cell_type": "markdown",
   "metadata": {},
   "source": [
    "##### Default options"
   ]
  },
  {
   "cell_type": "code",
   "execution_count": null,
   "metadata": {
    "collapsed": false
   },
   "outputs": [],
   "source": [
    "t = np.arange(0.0, 5.0, 0.01)\n",
    "s = np.cos(2*np.pi*t)\n",
    "# use 'lw' instead of 'linewidth'\n",
    "plt.plot(t, s, lw=1.5)\n",
    "\n",
    "# put annotation on to plot\n",
    "plt.annotate('local max of $\\cos(t)$', \\\n",
    "             xy=(2, 1), \\\n",
    "             xytext=(3, 1.5),\\\n",
    "             arrowprops=dict(facecolor='black'))\n",
    "# change y limits for y-axis\n",
    "plt.ylim(-2,2);"
   ]
  },
  {
   "cell_type": "markdown",
   "metadata": {},
   "source": [
    "##### Fine controll of text and arrow appearance"
   ]
  },
  {
   "cell_type": "code",
   "execution_count": null,
   "metadata": {
    "collapsed": false
   },
   "outputs": [],
   "source": [
    "t = np.arange(0.0, 5.0, 0.01)\n",
    "s = np.cos(2*np.pi*t)\n",
    "# use 'lw' instead of 'linewidth'\n",
    "plt.plot(t, s, lw=1.5)\n",
    "\n",
    "# put annotation on to plot\n",
    "# fine control of text and arrow properties\n",
    "plt.annotate('local max of $\\cos(t)$', \\\n",
    "             xy=(2, 1), \\\n",
    "             xytext=(3, 1.5), \\\n",
    "             arrowprops=dict(facecolor='black', shrink=0.05,width=1,headwidth=6), \\\n",
    "            fontsize='x-large',fontname=\"serif\")\n",
    "\n",
    "# change y limits for y-axis\n",
    "plt.ylim(-2,2);"
   ]
  },
  {
   "cell_type": "markdown",
   "metadata": {},
   "source": [
    "#### Plot with Fill"
   ]
  },
  {
   "cell_type": "code",
   "execution_count": null,
   "metadata": {
    "collapsed": false
   },
   "outputs": [],
   "source": [
    "t = np.arange(0.0, 1.01, 0.01)\n",
    "s = np.sin(2*2*np.pi*t)\n",
    "\n",
    "plt.fill(t, s*np.exp(-5*t), 'r')\n",
    "plt.grid(True)"
   ]
  },
  {
   "cell_type": "markdown",
   "metadata": {},
   "source": [
    "#### Histogram"
   ]
  },
  {
   "cell_type": "code",
   "execution_count": null,
   "metadata": {
    "collapsed": false
   },
   "outputs": [],
   "source": [
    "mu, sigma = 100, 15\n",
    "x = mu + sigma * np.random.randn(10000)\n",
    "\n",
    "# the histogram of the data\n",
    "# alpha - is the transparency of the plot\n",
    "n, bins, patches = plt.hist(x,50, normed=True, facecolor='g', alpha=.65)\n",
    "\n",
    "plt.xlabel('Smarts')\n",
    "plt.ylabel('Probability')\n",
    "plt.title('Histogram of IQ')\n",
    "plt.text(50, .0275, r'$\\mu=100,\\ \\sigma=\\frac{1}{\\sqrt{15}}$', fontsize='x-large')\n",
    "plt.axis([40, 160, 0, 0.031]);"
   ]
  },
  {
   "cell_type": "markdown",
   "metadata": {},
   "source": [
    "#### Log Plot"
   ]
  },
  {
   "cell_type": "code",
   "execution_count": null,
   "metadata": {
    "collapsed": false
   },
   "outputs": [],
   "source": [
    "plt.subplots_adjust(hspace=0.4)\n",
    "t = np.arange(0.01, 20.0, 0.01)\n",
    "\n",
    "# log y axis\n",
    "plt.subplot(221)\n",
    "plt.semilogy(t, np.exp(-t/5.0))\n",
    "plt.title('semilogy')\n",
    "plt.grid(True)\n",
    "\n",
    "# log x axis\n",
    "plt.subplot(222)\n",
    "plt.semilogx(t, np.sin(2*np.pi*t))\n",
    "plt.ylim(-1.1,1.1)\n",
    "plt.title('semilogx')\n",
    "plt.grid(True)\n",
    "\n",
    "# log x and y axis\n",
    "plt.subplot(223)\n",
    "plt.loglog(t, 20*np.exp(-t/10.0), basex=2)\n",
    "plt.grid(True)\n",
    "plt.title('loglog base 4 on x')\n",
    "\n",
    "# with errorbars: clip non-positive values\n",
    "plt.subplot(224)\n",
    "# set logarithmic axes\n",
    "plt.xscale(\"log\", nonposx='clip')\n",
    "plt.yscale(\"log\", nonposy='clip')\n",
    "\n",
    "x = 10.0**np.linspace(0.0, 2.0, 20)\n",
    "y = x**2.0\n",
    "plt.errorbar(x, y, xerr=0.1*x, yerr=5.0+0.75*y)\n",
    "plt.ylim(ymin=0.1)\n",
    "plt.title('Errorbars go negative')\n",
    "\n",
    "# will need it later\n",
    "fig_log_plots=plt.gcf()"
   ]
  },
  {
   "cell_type": "markdown",
   "metadata": {},
   "source": [
    "#### Pie Chart"
   ]
  },
  {
   "cell_type": "code",
   "execution_count": null,
   "metadata": {
    "collapsed": false
   },
   "outputs": [],
   "source": [
    "# make a square figure and axes\n",
    "plt.figure(1, figsize=(6,6))\n",
    "plt.axes([0.1, 0.1, 0.8, 0.8])\n",
    "labels = 'Frogs', 'Hogs', 'Dogs', 'Logs'\n",
    "fracs = [15,30,45, 10]\n",
    "explode=(0, 0.1, 0, 0)\n",
    "\n",
    "plt.pie(fracs, explode=explode, labels=labels, autopct='%1.1f%%', shadow=True)\n",
    "plt.title('Raining Hogs and Dogs', bbox={'facecolor':'0.9', 'pad':5})"
   ]
  },
  {
   "cell_type": "markdown",
   "metadata": {},
   "source": [
    "#### Contour Plot and Colorbar"
   ]
  },
  {
   "cell_type": "code",
   "execution_count": null,
   "metadata": {
    "collapsed": false
   },
   "outputs": [],
   "source": [
    "def f(x,y):\n",
    "    return (1-x/2+x**5+y**3)*np.exp(-x**2-y**2)\n",
    "\n",
    "n = 256\n",
    "x = np.linspace(-3,3,n)\n",
    "y = np.linspace(-3,3,n)\n",
    "X,Y = np.meshgrid(x,y)\n",
    "\n",
    "plt.axes([0.025,0.025,0.95,0.95])\n",
    "\n",
    "plt.contourf(X, Y, f(X,Y), 10, alpha=.75, cmap=plt.cm.hot)\n",
    "plt.colorbar()\n",
    "\n",
    "C = plt.contour(X, Y, f(X,Y), 10, colors='black', linewidth=.5)\n",
    "plt.clabel(C, inline=1, fontsize=10)\n",
    "plt.xticks([])\n",
    "plt.yticks([])"
   ]
  },
  {
   "cell_type": "markdown",
   "metadata": {},
   "source": [
    "### Using Matplotlib Gallery"
   ]
  },
  {
   "cell_type": "markdown",
   "metadata": {},
   "source": [
    "If you do not know how to make a specific plot, the best place to go is <A HREF=\"http://matplotlib.org/gallery.html\">matplotlib gallery</A>.\n",
    "\n",
    "It contains a large number of plots together with the Python souces files which you can download and adjust to your needs."
   ]
  },
  {
   "cell_type": "code",
   "execution_count": null,
   "metadata": {
    "collapsed": false
   },
   "outputs": [],
   "source": [
    "# past source code from mathplotlib gallery here"
   ]
  },
  {
   "cell_type": "markdown",
   "metadata": {},
   "source": [
    "## Matplotlib API"
   ]
  },
  {
   "cell_type": "code",
   "execution_count": null,
   "metadata": {
    "collapsed": false
   },
   "outputs": [],
   "source": [
    "%matplotlib inline\n",
    "import matplotlib.pylab as plt\n",
    "import numpy as np\n",
    "\n",
    "def f(t):\n",
    "    return np.exp(-t) * np.cos(2*np.pi*t)\n",
    "\n",
    "t1 = np.arange(0.0, 5.0, 0.1)\n",
    "t2 = np.arange(0.0, 5.0, 0.02)\n",
    "\n",
    "# create figure\n",
    "fig=plt.figure(1)\n",
    "# add subplot to the figure, retunrns Axes object\n",
    "ax1=fig.add_subplot(2,1,1)\n",
    "# plot both data with a single plot function call\n",
    "# first plot filled circles, then solid black line\n",
    "lines11,lines12,=ax1.plot(t1, f(t1), 'bo', t2, f(t2), 'k')\n",
    "\n",
    "# can use a simpler form, without commas - 212: 2 rows, 1 column, second plot\n",
    "ax2=fig.add_subplot(212)\n",
    "lines22,=ax2.plot(t2, np.cos(2*np.pi*t2), 'r--')\n",
    "plt.show()"
   ]
  },
  {
   "cell_type": "code",
   "execution_count": null,
   "metadata": {
    "collapsed": false
   },
   "outputs": [],
   "source": [
    "lines22.set_linewidth(1)\n",
    "lines22.set_linestyle(':')\n",
    "ax2.set_ylim(-1.5,1.5)\n",
    "ax1.grid(True)\n",
    "fig"
   ]
  },
  {
   "cell_type": "code",
   "execution_count": null,
   "metadata": {
    "collapsed": false
   },
   "outputs": [],
   "source": [
    "fig_log_plots.savefig('log_plots.png')"
   ]
  },
  {
   "cell_type": "code",
   "execution_count": null,
   "metadata": {
    "collapsed": false
   },
   "outputs": [],
   "source": [
    "fig.savefig('two_plots.png',dpi=600)"
   ]
  },
  {
   "cell_type": "markdown",
   "metadata": {},
   "source": [
    "## Breakout Problem"
   ]
  },
  {
   "cell_type": "markdown",
   "metadata": {},
   "source": [
    "I've compiled <A HREF=\"http://www.google.com/trends\">Google Trend</A> data on the frequency of internet searches for \"textbooks\" and \"skiing\".  Download an ascii file with this data here:\n",
    "\n",
    "\n",
    "<p> <A HREF=\"http://asd.gsfc.nasa.gov/Brad.Cenko/trends.dat\">Trend Data</A>\n",
    "\n",
    "Using the np.fft package (in particular see documentation for *np.fft.fft* and *np.fft.fftfreq*) search for periodicity in Google search data for these two terms."
   ]
  },
  {
   "cell_type": "code",
   "execution_count": null,
   "metadata": {
    "collapsed": true
   },
   "outputs": [],
   "source": []
  }
 ],
 "metadata": {
  "kernelspec": {
   "display_name": "Python 2",
   "language": "python",
   "name": "python2"
  },
  "language_info": {
   "codemirror_mode": {
    "name": "ipython",
    "version": 2
   },
   "file_extension": ".py",
   "mimetype": "text/x-python",
   "name": "python",
   "nbconvert_exporter": "python",
   "pygments_lexer": "ipython2",
   "version": "2.7.11"
  },
  "toc": {
   "toc_cell": true,
   "toc_number_sections": false,
   "toc_section_display": "block",
   "toc_threshold": 6,
   "toc_window_display": false
  },
  "toc_position": {
   "height": "142px",
   "left": "1179px",
   "right": "20px",
   "top": "120px",
   "width": "167px"
  }
 },
 "nbformat": 4,
 "nbformat_minor": 0
}
