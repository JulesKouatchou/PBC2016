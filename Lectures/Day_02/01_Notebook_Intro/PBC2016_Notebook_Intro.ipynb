{
 "cells": [
  {
   "cell_type": "markdown",
   "metadata": {
    "slideshow": {
     "slide_type": "slide"
    }
   },
   "source": [
    "# The (IPython) Jupyter Notebook\n",
    "\n",
    "## An Introduction\n",
    "\n",
    "---\n",
    "\n",
    "Brent Smith, __2016 GSFC Python Bootcamp__  \n",
    "[brent.smith@nasa.gov]()"
   ]
  },
  {
   "cell_type": "markdown",
   "metadata": {
    "slideshow": {
     "slide_type": "slide"
    }
   },
   "source": [
    "### Some History\n",
    "\n",
    "---\n",
    "\n",
    "* Jupyter came out of IPython as of version 4.0 in a talk at the SciPy conference in 2014.\n",
    "* [The Big Split](http://blog.jupyter.org/2015/04/15/the-big-split/)\n",
    "    * Basically, the IPython notebook evolved to something not Python specific.\n",
    "    * IPython will focus still on Python and the interactive shell.\n",
    "    * Jupyter, not as much just Python, but more toward the notebook and supporting other programming languages.\n",
    "* [Jupyter Homepage](http://www.jupyter.org)\n",
    "* [IPython Homepage](http://www.ipython.org)"
   ]
  },
  {
   "cell_type": "markdown",
   "metadata": {
    "slideshow": {
     "slide_type": "slide"
    }
   },
   "source": [
    "### Four Implementations of Python\n",
    "\n",
    "1. As a __script__: python runme.py\n",
    "2. Through the __Python shell__:\n",
    "\n",
    "    ```sh\n",
    "    $ python\n",
    "\n",
    "    >>>\n",
    "    ```\n",
    "    \n",
    "3. Through the __IPython shell__ (Interactive Python):\n",
    "\n",
    "    ```sh\n",
    "    $ ipython\n",
    "\n",
    "    In [1]:\n",
    "    ```\n",
    "\n",
    "    * tab completion\n",
    "    * history, reference card, and contextual help\n",
    "4. Through a __Jupyter notebook__ (used to be the IPython notebook):\n",
    "\n",
    "    ```sh\n",
    "    $ jupyter notebook\n",
    "    ```\n",
    "\n",
    "    * visual interface\n",
    "    * can run python code within notebook along with notes\n",
    "    * can save as a pythons script, can keep everything in one place, etc.\n",
    "    * notebooks are just JSON files"
   ]
  },
  {
   "cell_type": "markdown",
   "metadata": {
    "slideshow": {
     "slide_type": "slide"
    }
   },
   "source": [
    "> ### The Jupyter notebook comes bundled with the Anaconda distribution. If you do not have the Jupyter notebook, now is the time to obtain it.\n",
    "\n",
    "---\n",
    "\n",
    "We're going to take the next 3 minutes to allow everyone to get the Jupyter notebook. For those that have it, try launching a new notebook session via\n",
    "\n",
    "```sh\n",
    "$ jupyter notebook\n",
    "```\n",
    "\n",
    "or\n",
    "\n",
    "```sh\n",
    "$ path_to_jupyter_executable notebook\n",
    "```"
   ]
  },
  {
   "cell_type": "markdown",
   "metadata": {
    "slideshow": {
     "slide_type": "slide"
    }
   },
   "source": [
    "__Note:__ When starting the notebook, it works from the current directory and allows you to navigate through files/folders contained within. If you need a parent directory in the notebook, you will need to stop the notebook and restart in the directory you want."
   ]
  },
  {
   "cell_type": "markdown",
   "metadata": {
    "slideshow": {
     "slide_type": "slide"
    }
   },
   "source": [
    "### Using the Jupyter Notebook\n",
    "\n",
    "---"
   ]
  },
  {
   "cell_type": "markdown",
   "metadata": {
    "slideshow": {
     "slide_type": "fragment"
    }
   },
   "source": [
    "* __Cell types:__ Python Code, [Markdown](http://daringfireball.net/projects/markdown/), Raw NBConvert (raw text), Heading (no longer supported in Jupyter).\n",
    "* __Kernel:__ Background process that interprets your code, converts your markdown, and automatically saves your notebook periodically among other things.\n",
    "* __```Shift-Enter```__ to execute code, __```Alt-Enter```__ to force creation of new cell (helps with inserting content), __```Cntrl-Enter```__ executes code and keeps cursor in current cell.\n",
    "* Help: __```?```__ (code help can be found with __```code?```__ or __```code??```__\n",
    "* Keyboard shortcuts: __```Cntrl-m h```__"
   ]
  },
  {
   "cell_type": "code",
   "execution_count": null,
   "metadata": {
    "collapsed": false,
    "slideshow": {
     "slide_type": "fragment"
    }
   },
   "outputs": [],
   "source": [
    "# for both IPython shell and Jupyter notebook\n",
    "\n",
    "?\n",
    "#import os\n",
    "#os?\n",
    "#os??"
   ]
  },
  {
   "cell_type": "code",
   "execution_count": null,
   "metadata": {
    "collapsed": true,
    "slideshow": {
     "slide_type": "subslide"
    }
   },
   "outputs": [],
   "source": [
    "# for both IPython shell and Jupyter notebook\n",
    "\n",
    "%quickref"
   ]
  },
  {
   "cell_type": "markdown",
   "metadata": {
    "slideshow": {
     "slide_type": "fragment"
    }
   },
   "source": [
    "Also, like IPython, the Jupyter notebook is equipped with Tab completion."
   ]
  },
  {
   "cell_type": "markdown",
   "metadata": {
    "slideshow": {
     "slide_type": "subslide"
    }
   },
   "source": [
    "### Input, Output, History\n",
    "\n",
    "---"
   ]
  },
  {
   "cell_type": "code",
   "execution_count": null,
   "metadata": {
    "collapsed": false,
    "slideshow": {
     "slide_type": "fragment"
    }
   },
   "outputs": [],
   "source": [
    "# suppress output with a semicolon\n",
    "2+10;"
   ]
  },
  {
   "cell_type": "code",
   "execution_count": null,
   "metadata": {
    "collapsed": false,
    "slideshow": {
     "slide_type": "fragment"
    }
   },
   "outputs": [],
   "source": [
    "_ + 10"
   ]
  },
  {
   "cell_type": "code",
   "execution_count": null,
   "metadata": {
    "collapsed": false,
    "slideshow": {
     "slide_type": "subslide"
    }
   },
   "outputs": [],
   "source": [
    "Out\n",
    "#Out[4]\n",
    "#_4"
   ]
  },
  {
   "cell_type": "code",
   "execution_count": null,
   "metadata": {
    "collapsed": true,
    "slideshow": {
     "slide_type": "fragment"
    }
   },
   "outputs": [],
   "source": [
    "print ('last output:' + _)\n",
    "print ('next one   :' + __)\n",
    "print ('and next   :' + ___)"
   ]
  },
  {
   "cell_type": "code",
   "execution_count": null,
   "metadata": {
    "collapsed": true,
    "slideshow": {
     "slide_type": "subslide"
    }
   },
   "outputs": [],
   "source": [
    "In[2]\n",
    "_i\n",
    "_ii"
   ]
  },
  {
   "cell_type": "code",
   "execution_count": null,
   "metadata": {
    "collapsed": true,
    "slideshow": {
     "slide_type": "fragment"
    }
   },
   "outputs": [],
   "source": [
    "print ('last input:' + _i)\n",
    "print ('next one  :' + _ii)\n",
    "print ('and next  :' + _iii)"
   ]
  },
  {
   "cell_type": "code",
   "execution_count": null,
   "metadata": {
    "collapsed": true,
    "slideshow": {
     "slide_type": "subslide"
    }
   },
   "outputs": [],
   "source": [
    "%history"
   ]
  },
  {
   "cell_type": "markdown",
   "metadata": {
    "slideshow": {
     "slide_type": "subslide"
    }
   },
   "source": [
    "### OS Functionality\n",
    "\n",
    "---\n",
    "\n",
    "Results will vary depending upon which OS you use."
   ]
  },
  {
   "cell_type": "code",
   "execution_count": null,
   "metadata": {
    "collapsed": false,
    "slideshow": {
     "slide_type": "fragment"
    }
   },
   "outputs": [],
   "source": [
    "# Linux/Mac\n",
    "!ls\n",
    "\n",
    "# Windows\n",
    "!dir"
   ]
  },
  {
   "cell_type": "code",
   "execution_count": null,
   "metadata": {
    "collapsed": true,
    "slideshow": {
     "slide_type": "subslide"
    }
   },
   "outputs": [],
   "source": [
    "# magic functions\n",
    "%magic"
   ]
  },
  {
   "cell_type": "code",
   "execution_count": null,
   "metadata": {
    "collapsed": false,
    "slideshow": {
     "slide_type": "fragment"
    }
   },
   "outputs": [],
   "source": [
    "%%file test.txt\n",
    "Here is my test file and contents.\n",
    "\n",
    "It can contain anything."
   ]
  },
  {
   "cell_type": "code",
   "execution_count": null,
   "metadata": {
    "collapsed": false,
    "slideshow": {
     "slide_type": "fragment"
    }
   },
   "outputs": [],
   "source": [
    "with open('test.txt') as f:\n",
    "    print f.read()"
   ]
  },
  {
   "cell_type": "markdown",
   "metadata": {
    "collapsed": true,
    "slideshow": {
     "slide_type": "slide"
    }
   },
   "source": [
    "### Tips\n",
    "\n",
    "---\n",
    "\n",
    "* View/share notebooks online: [Jupyter Notebook Viewer](http://nbviewer.jupyter.org)\n",
    "* Can also view most notebooks within GitHub and also using the nbconvert option to convert to a slideshow."
   ]
  }
 ],
 "metadata": {
  "celltoolbar": "Slideshow",
  "kernelspec": {
   "display_name": "Python 2",
   "language": "python",
   "name": "python2"
  },
  "language_info": {
   "codemirror_mode": {
    "name": "ipython",
    "version": 2
   },
   "file_extension": ".py",
   "mimetype": "text/x-python",
   "name": "python",
   "nbconvert_exporter": "python",
   "pygments_lexer": "ipython2",
   "version": "2.7.11"
  }
 },
 "nbformat": 4,
 "nbformat_minor": 0
}
