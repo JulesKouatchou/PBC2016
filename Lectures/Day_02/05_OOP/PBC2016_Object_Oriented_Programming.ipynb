{
 "cells": [
  {
   "cell_type": "markdown",
   "metadata": {},
   "source": [
    "# Object Oriented Programming"
   ]
  },
  {
   "cell_type": "markdown",
   "metadata": {},
   "source": [
    "## John (EBo) David\n",
    "### SSAI/NASA-GFSC\n",
    "### John.L.David@NASA.gov"
   ]
  },
  {
   "cell_type": "markdown",
   "metadata": {},
   "source": [
    "Object Oriented Programming (OOP) is a programming paradigm that uses objects and their interactions to design applications and computer programs. (Wikipedia)\n",
    "\n",
    "There are some basic programming concepts in OOP:\n",
    "\n",
    "* Abstraction\n",
    "* Polymorphism\n",
    "* Encapsulation\n",
    "* Inheritance\n"
   ]
  },
  {
   "cell_type": "markdown",
   "metadata": {},
   "source": [
    "# What's an Object?\n",
    "\n",
    "* An ***object*** is created by *instantiating* a ***class***\n",
    "* A ***class*** is created using Python's ***class statement*** (usually)\n",
    "* In general, any number of objects can be created from a single class ...\n",
    "* ... unless the class is given some [special magic][1] to make it a *\"Singleton\"*\n",
    "[1]: http://c2.com/cgi/wiki?PythonSingleton"
   ]
  },
  {
   "cell_type": "markdown",
   "metadata": {},
   "source": [
    "# Oh, great...  Lots of Jargon...  Some OOP Terminology\n",
    "\n",
    "* $\\bf Class: $ A user-defined prototype for an object that defines a set of attributes that characterize any object of the class. The attributes are data members (class variables and instance variables) and methods, accessed via dot notation.\n",
    "\n",
    "* $\\bf Class\\ variable: $ A variable that is shared by all instances of a class. Class variables are defined within a class but outside any of the class's methods. Class variables are not used as frequently as instance variables are.\n",
    "\n",
    "* $\\bf Data\\ member: $ A class variable or instance variable that holds data associated with a class and its objects.\n",
    "\n",
    "* $\\bf Function\\ overloading: $ The assignment of more than one behavior to a particular function. The operation performed varies by the types of objects or arguments involved.\n",
    "\n",
    "* $\\bf Instance\\ variable: $ A variable that is defined inside a method and belongs only to the current instance of a class.\n",
    "\n",
    "* $\\bf Inheritance: $ The transfer of the characteristics of a class to other classes that are derived from it.\n",
    "\n",
    "* $\\bf Instance: $ An individual object of a certain class. An object obj that belongs to a class Circle, for example, is an instance of the class Circle.\n",
    "\n",
    "* $\\bf Instantiation: $ The creation of an instance of a class.\n",
    "\n",
    "* $\\bf Method : $ A special kind of function that is defined in a class definition.\n",
    "\n",
    "* $\\bf Object: $ A unique instance of a data structure that's defined by its class. An object comprises both data members (class variables and instance variables) and methods.\n",
    "\n",
    "* $\\bf Operator\\ overloading: $ The assignment of more than one function to a particular operator.\n",
    "\n"
   ]
  },
  {
   "cell_type": "markdown",
   "metadata": {},
   "source": [
    "# Lets look at some objects..."
   ]
  },
  {
   "cell_type": "code",
   "execution_count": null,
   "metadata": {
    "collapsed": false
   },
   "outputs": [],
   "source": [
    "import sys\n",
    "\n",
    "def function(): pass\n",
    "\n",
    "print type(1)\n",
    "print type(\"\")\n",
    "print type([])\n",
    "print type({})\n",
    "print type(())\n",
    "print type(object)\n",
    "print type(function)\n",
    "print type(sys)"
   ]
  },
  {
   "cell_type": "markdown",
   "metadata": {},
   "source": [
    "# Python programs can have different styles\n",
    "* Simple, short scripts can just be straight-line code -- **Do this one thing! BAM!**\n",
    "* A somewhat longer task might have a recurring sub-task: **a function**\n",
    "* If more **functions** appear, they might be grouped into one file (a **module**)\n",
    "* **Classes** come in when higher levels of structure are needed ..."
   ]
  },
  {
   "cell_type": "markdown",
   "metadata": {},
   "source": [
    "# Ok ... so what's a Class?\n",
    "\n",
    "  * ### A \"Class\" is a code structure that contains ...\n",
    "    1. ***Data*** in the form of ***Fields***, a.k.a. ***\"attributes\"***, and\n",
    "    2. ***Procedures***, a.k.a. ***\"methods\"***\n",
    "  \n",
    "  * ### One way to think of these is:\n",
    "    1. An object's ***attributes*** represent its ***state***\n",
    "    2. Its ***methods*** represent its ***behavior***\n",
    "  \n",
    "### Everything in Python is an objuect, and are the basic building blocks of a Python OOP program. "
   ]
  },
  {
   "cell_type": "markdown",
   "metadata": {},
   "source": [
    "# When should I write my own classes?\n",
    "* When you have some functions that are passing one or more parameters around\n",
    "* When you have some functions that need to access the same \"state\" information\n",
    "* When you are developing a Graphical User Interface (GUI)\n",
    "* When you need to represent and process some highly structured data, e.g.:\n",
    "  - a document or web page\n",
    "  - data about a real-world \"thing\" (either man-made or natural)"
   ]
  },
  {
   "cell_type": "markdown",
   "metadata": {},
   "source": [
    "# The class keyword\n",
    "\n",
    "The previous objects were mostly built-in objects of the Python programming language. The user defined objects are created using the class keyword. The class is a blueprint that defines a nature of a future object. From classes we construct instances. An instance is a specific object created from a particular class. For example, Phydoux might be an instance of a Dog class. "
   ]
  },
  {
   "cell_type": "code",
   "execution_count": null,
   "metadata": {
    "collapsed": false
   },
   "outputs": [],
   "source": [
    "# first.py\n",
    "\n",
    "class First:\n",
    "   pass\n",
    "\n",
    "fr = First()\n",
    "\n",
    "print type(fr)\n",
    "print type(First)"
   ]
  },
  {
   "cell_type": "markdown",
   "metadata": {},
   "source": [
    "This is our first class. The body of the class is left empty for now. It is a convention to give Classes a name that starts with a capital letter. "
   ]
  },
  {
   "cell_type": "markdown",
   "metadata": {},
   "source": [
    "Here we see that fr is an instance object and First is a class object.\n",
    "\n",
    "Inside a class, we can define attributes and methods. An attribute is a characteristic of an object. This can be for example the wavelength of a sensor. A method defines operations that we can perform with our objects. A method might define a turning the sensor on and collecting an image.  Technically, attributes are variables and methods are functions defined inside a class. "
   ]
  },
  {
   "cell_type": "markdown",
   "metadata": {},
   "source": [
    "# Attributes\n",
    "\n",
    "Attributes are characteristics of an object. A special method called __init__() is used to initialize the attributes of an object. "
   ]
  },
  {
   "cell_type": "code",
   "execution_count": null,
   "metadata": {
    "collapsed": false
   },
   "outputs": [],
   "source": [
    "class Dog:\n",
    "   def __init__(self, name):\n",
    "      self.name = name\n",
    "\n",
    "phydoux = Dog('Phydoux')\n",
    "lucky = Dog('Lucky')\n",
    "\n",
    "print phydoux.name\n",
    "print lucky.name"
   ]
  },
  {
   "cell_type": "markdown",
   "metadata": {},
   "source": [
    "In this code example, we have a Dog class. The special method __init__() is called automatically right after the object has been created. \n",
    "\n",
    "  * def __init__(self, name):"
   ]
  },
  {
   "cell_type": "markdown",
   "metadata": {},
   "source": [
    "Each method in a class definition begins with a reference to the instance object . It is by convention named self. There is nothing special about the self name. We could name it this, for example. The name is the argument. The value is passed during the class instantiation.\n",
    "\n",
    "  * self.name = name\n",
    "\n",
    "Here we pass an attribute to an instance object.\n",
    "\n",
    "  * phydoux = Dog('Phydoux')\n",
    "  * lucky = Dog('Lucky')\n",
    "\n",
    "Here we instantiate two objects: dogs Phydoux and Lucky. The number of arguments must correspond to the __init__() method of the class definition. The 'Phydoux' and 'Lucky' strings become the name parameter of the __init__() method. "
   ]
  },
  {
   "cell_type": "markdown",
   "metadata": {},
   "source": [
    "The attributes can be assigned dynamically, not just during initialization. This shows the next example. "
   ]
  },
  {
   "cell_type": "code",
   "execution_count": null,
   "metadata": {
    "collapsed": false
   },
   "outputs": [],
   "source": [
    "class Dynamic:\n",
    "   pass\n",
    "\n",
    "d = Dynamic()\n",
    "d.name = \"Dynamic\"\n",
    "print d.name"
   ]
  },
  {
   "cell_type": "markdown",
   "metadata": {},
   "source": [
    "We define and create an empty Dynamic class.  The line of code:\n",
    "\n",
    "  * d.name = \"Dynamic\"\n",
    "\n",
    "creates a new name attribute, which is ***very*** different that other languages where you have to declaire the variables up front."
   ]
  },
  {
   "cell_type": "markdown",
   "metadata": {
    "collapsed": true
   },
   "source": [
    "# Methods\n",
    "\n",
    "Methods are functions defined inside the body of a class. They are used to perform operations with the attributes of our objects. Methods are essential in encapsulation concept of the OOP paradigm. For example, we might have a connect() method in our AccessDatabase class. We need not to be informed how exactly the method connect connects to the database. We only know that it is used to connect to a database. This is essential in dividing responsibilities in programming, especially in large applications."
   ]
  },
  {
   "cell_type": "code",
   "execution_count": null,
   "metadata": {
    "collapsed": false
   },
   "outputs": [],
   "source": [
    "class Circle:\n",
    "   pi = 3.141592\n",
    "\n",
    "   def __init__(self, radius=1):\n",
    "      self.radius = radius \n",
    "\n",
    "   def area(self):\n",
    "      return self.radius * self.radius * Circle.pi\n",
    "\n",
    "   def setRadius(self, radius):\n",
    "      self.radius = radius\n",
    "\n",
    "   def getRadius(self):\n",
    "      return self.radius\n",
    "\n",
    "c = Circle()\n",
    "\n",
    "c.setRadius(5)\n",
    "print c.getRadius()\n",
    "print c.area()"
   ]
  },
  {
   "cell_type": "markdown",
   "metadata": {
    "collapsed": true
   },
   "source": [
    "In the code example, we have a Circle class. We define three new methods. \n",
    " \n",
    "* area()\n",
    "* setRadius()\n",
    "* getRadius()\n",
    "\n",
    "The area() method returns the area of a circle.   The area() method returns the area of a circle.  The getRadius() method returns the current radius. "
   ]
  },
  {
   "cell_type": "markdown",
   "metadata": {},
   "source": [
    "# Special Methods\n",
    "\n",
    "Classes in Python programming language can implement certain operations with special method names. These methods are not called directly, but by a specific language syntax. This is similar to what is known as operator overloading in C++ or Ruby. "
   ]
  },
  {
   "cell_type": "code",
   "execution_count": null,
   "metadata": {
    "collapsed": false
   },
   "outputs": [],
   "source": [
    "class Book:\n",
    "   def __init__(self, title, author, pages):\n",
    "      print \"A book is created\"\n",
    "      self.title = title\n",
    "      self.author = author\n",
    "      self.pages = pages\n",
    "\n",
    "   def __str__(self):\n",
    "      return \"Title:%s , author:%s, pages:%s \" % \\\n",
    "              (self.title, self.author, self.pages)\n",
    "\n",
    "   def __len__(self):\n",
    "      return self.pages\n",
    "\n",
    "   def __del__(self):\n",
    "      print \"A book is destroyed\"\n",
    "\n",
    "book = Book(\"Inside Steve's Brain\", \"Leander Kahney\", 304)\n",
    "\n",
    "print book\n",
    "print len(book)\n",
    "del book"
   ]
  },
  {
   "cell_type": "markdown",
   "metadata": {
    "collapsed": true
   },
   "source": [
    "In our code example, we have a book class. Here we introduce four special methods. The \\__init\\__(), \\__str\\__(), \\__len\\__() and the \\__del\\__() methods.  You can imagine how similar special methods can be used to implement \\__add\\__(),  \\__sub\\__(), etc."
   ]
  },
  {
   "cell_type": "markdown",
   "metadata": {},
   "source": [
    "# Inheritance\n",
    "The inheritance is a way to form new classes using classes that have already been defined. The newly formed classes are called derived classes, the classes that we derive from are called base classes. Important benefits of inheritance are code reuse and reduction of complexity of a program. The derived classes (descendants) override or extend the functionality of base classes (ancestors). "
   ]
  },
  {
   "cell_type": "code",
   "execution_count": null,
   "metadata": {
    "collapsed": false
   },
   "outputs": [],
   "source": [
    "class Animal:\n",
    "   def __init__(self):\n",
    "      print \"Animal created\"\n",
    "\n",
    "   def whoAmI(self):\n",
    "      print \"Animal\"\n",
    "\n",
    "   def eat(self):\n",
    "      print \"Eating\"\n",
    "\n",
    "\n",
    "class Dog(Animal):\n",
    "   def __init__(self):\n",
    "      Animal.__init__(self)\n",
    "      print \"Dog created\"\n",
    "\n",
    "   def whoAmI(self):\n",
    "      print \"Dog\"\n",
    "\n",
    "   def bark(self):\n",
    "      print \"Woof!\"\n",
    "\n",
    "d = Dog()\n",
    "d.whoAmI()\n",
    "d.eat()\n",
    "d.bark()"
   ]
  },
  {
   "cell_type": "markdown",
   "metadata": {},
   "source": [
    "In this example, we have two classes: Animal and Dog. The Animal is the base class, the Dog is the derived class. The derived class inherits the functionality of the base class. It is shown by the eat() method. The derived class modifies existing behaviour of the base class, shown by the whoAmI() method. Finally, the derived class extends the functionality of the base class, by defining a new bark() method. \n",
    "\n",
    "We put the ancestor classes in round brackets after the name of the descendant class. If the derived class provides its own \\__init\\__() method, it must explicitly call the base class \\__init\\__() method. "
   ]
  },
  {
   "cell_type": "markdown",
   "metadata": {},
   "source": [
    "# Polymorphism\n",
    "\n",
    "The polymorphism is the process of using an operator or function in different ways for different data input. In practical terms, polymorphism means that if class B inherits from class A, it doesn’t have to inherit everything about class A; it can do some of the things that class A does differently."
   ]
  },
  {
   "cell_type": "code",
   "execution_count": null,
   "metadata": {
    "collapsed": false
   },
   "outputs": [],
   "source": [
    "class Animal:\n",
    "   def __init__(self, name=''):\n",
    "      self.name = name\n",
    "\n",
    "   def talk(self):\n",
    "      pass\n",
    "\n",
    "class Cat(Animal):\n",
    "   def talk(self):\n",
    "      print \"Meow!\"\n",
    "\n",
    "class Dog(Animal):\n",
    "   def talk(self):\n",
    "      print \"Woof!\"\n",
    "\n",
    "a = Animal()\n",
    "a.talk()\n",
    "\n",
    "c = Cat(\"Missy\")\n",
    "c.talk()\n",
    "\n",
    "d = Dog(\"Rocky\")\n",
    "d.talk()"
   ]
  },
  {
   "cell_type": "markdown",
   "metadata": {},
   "source": [
    "Here we have two species: a dog and a cat. Both are animals. The Dog class and the Cat class inherit the Animal class. They have a talk() method, which gives different output for them. "
   ]
  },
  {
   "cell_type": "markdown",
   "metadata": {},
   "source": [
    "# Namespaces, Scope Resolution, and the LEGB Rule\n",
    "\n",
    "See: http://spartanideas.msu.edu/2014/05/12/a-beginners-guide-to-pythons-namespaces-scope-resolution-and-the-legb-rule/ for details"
   ]
  },
  {
   "cell_type": "markdown",
   "metadata": {},
   "source": [
    "# Encapsolation\n",
    "In computer programming languages, encapsulation is used to refer to one of three related but distinct ideas:\n",
    "\n",
    "* A language __mechanism__ for restricting direct access to some of the object's components.\n",
    "* A language __construct__ that facilitates the bundling of data with the methods (or other functions) operating on that data.\n",
    "* A programming __convention__ for respecting the intended scope of the information\n",
    "\n",
    "Some programming language researchers and academics use the first meaning alone or in combination with the second as a distinguishing feature of object-oriented programming, while other programming languages which provide lexical closures view encapsulation as a feature of the language orthogonal to object orientation.\n",
    "\n",
    "The second definition is motivated by the fact that in many OOP languages hiding of components is not automatic or can be overridden; thus, information hiding is defined as a separate notion by those who prefer the second definition.\n",
    "\n",
    "Python doesn’t have any mechanisms that would effectively restrict you from accessing a variable or calling a member method.  All of this is a matter of culture and convention."
   ]
  },
  {
   "cell_type": "markdown",
   "metadata": {},
   "source": [
    "### Data Encapsolation \n",
    "\n",
    "\n",
    "\n",
    "| Name | Notation | Behaviour\n",
    "| :- | :- | :-\n",
    "| name | Public | Can be accessed from inside and outside\n",
    "| _name | Protected | Like a public member, but they shouldn't be directly accessed from outside.\n",
    "| __name | Private | Can't be seen and accessed from outside"
   ]
  },
  {
   "cell_type": "markdown",
   "metadata": {},
   "source": [
    "If an identifier is only preceded by one underscore character, it is a protected member. Protected members can be accessed like public members from outside of class. \n",
    "It can be seen in the following example:"
   ]
  },
  {
   "cell_type": "code",
   "execution_count": null,
   "metadata": {
    "collapsed": true
   },
   "outputs": [],
   "source": [
    "class Encapsulation(object):\n",
    "    def __init__(self, a, b, c):\n",
    "        self.public = a\n",
    "        self._protected = b\n",
    "        self.__private = c"
   ]
  },
  {
   "cell_type": "markdown",
   "metadata": {},
   "source": [
    "The following interactive sessions shows the behaviour of public, protected and private members:"
   ]
  },
  {
   "cell_type": "code",
   "execution_count": null,
   "metadata": {
    "collapsed": false
   },
   "outputs": [],
   "source": [
    ">>> x = Encapsulation(11,13,17)"
   ]
  },
  {
   "cell_type": "code",
   "execution_count": null,
   "metadata": {
    "collapsed": false
   },
   "outputs": [],
   "source": [
    ">>> x.public"
   ]
  },
  {
   "cell_type": "code",
   "execution_count": null,
   "metadata": {
    "collapsed": false
   },
   "outputs": [],
   "source": [
    ">>> x._protected"
   ]
  },
  {
   "cell_type": "code",
   "execution_count": null,
   "metadata": {
    "collapsed": true
   },
   "outputs": [],
   "source": [
    ">>> x._protected = 23"
   ]
  },
  {
   "cell_type": "code",
   "execution_count": null,
   "metadata": {
    "collapsed": false
   },
   "outputs": [],
   "source": [
    ">>> x._protected"
   ]
  },
  {
   "cell_type": "code",
   "execution_count": null,
   "metadata": {
    "collapsed": false
   },
   "outputs": [],
   "source": [
    ">>> x.__private"
   ]
  },
  {
   "cell_type": "markdown",
   "metadata": {},
   "source": [
    "Note, that if you try accessing \\____private__ from outside the class, you’ll get an error. But you can still stumble upon something like this:"
   ]
  },
  {
   "cell_type": "code",
   "execution_count": null,
   "metadata": {
    "collapsed": false
   },
   "outputs": [],
   "source": [
    ">>> x._Encapsulation__private"
   ]
  },
  {
   "cell_type": "markdown",
   "metadata": {},
   "source": [
    "As mentioned above this is considered bad practice, and if caught you will be subject to being held up to small children as an example of how __NOT__ to behave."
   ]
  },
  {
   "cell_type": "markdown",
   "metadata": {},
   "source": [
    "# Assignment\n",
    "\n",
    "Add a method for fleas.  Does your dog or cat have fleas?  Add a polymorphic method to the Animal example above for play -- Dog's fetch, and Cat's pounce."
   ]
  },
  {
   "cell_type": "code",
   "execution_count": null,
   "metadata": {
    "collapsed": true
   },
   "outputs": [],
   "source": []
  }
 ],
 "metadata": {
  "kernelspec": {
   "display_name": "Python 2",
   "language": "python",
   "name": "python2"
  },
  "language_info": {
   "codemirror_mode": {
    "name": "ipython",
    "version": 2
   },
   "file_extension": ".py",
   "mimetype": "text/x-python",
   "name": "python",
   "nbconvert_exporter": "python",
   "pygments_lexer": "ipython2",
   "version": "2.7.11"
  }
 },
 "nbformat": 4,
 "nbformat_minor": 0
}
