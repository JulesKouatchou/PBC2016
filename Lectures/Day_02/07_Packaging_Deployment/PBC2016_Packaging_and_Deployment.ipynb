{
 "cells": [
  {
   "cell_type": "markdown",
   "metadata": {},
   "source": [
    "A very useful resource:\n",
    "The Official Style Guide for Python Code, [PEP 0008](http://www.python.org/dev/peps/pep-0008/)."
   ]
  },
  {
   "cell_type": "markdown",
   "metadata": {},
   "source": [
    "# Part 1 - [Documentation](http://docs.python-guide.org/en/latest/writing/documentation/)"
   ]
  },
  {
   "cell_type": "markdown",
   "metadata": {},
   "source": [
    "![Manuals](http://imgs.xkcd.com/comics/manuals.png)"
   ]
  },
  {
   "cell_type": "markdown",
   "metadata": {},
   "source": [
    "Documenting your code is a great practice that is usually considered [second-priority](http://zachholman.com/posts/documentation/). But, it's not. It's quite important and easy actually!"
   ]
  },
  {
   "cell_type": "markdown",
   "metadata": {},
   "source": [
    "## \\# Inline [Comments](http://www.python.org/dev/peps/pep-0008/#comments)"
   ]
  },
  {
   "cell_type": "code",
   "execution_count": null,
   "metadata": {
    "collapsed": false
   },
   "outputs": [],
   "source": [
    "# Inline comments are good, but need to be relevant.\n",
    "# There can be comment blocks, like this section here.\n",
    "# Comments can also follow code on the same line as seen below\n",
    "# in our two examples.\n",
    "\n",
    "# Below, I adjust the border width.\n",
    "x = 2\n",
    "\n",
    "x = 3  # Compensate for border"
   ]
  },
  {
   "cell_type": "markdown",
   "metadata": {},
   "source": [
    "## Documentation Strings (aka '''[docstrings](http://www.python.org/dev/peps/pep-0257/)''')"
   ]
  },
  {
   "cell_type": "markdown",
   "metadata": {},
   "source": [
    ">A docstring is a string literal that occurs as the first statement in a module, function, class, or method definition. Such a docstring becomes the `__doc__` special attribute of that object. "
   ]
  },
  {
   "cell_type": "code",
   "execution_count": null,
   "metadata": {
    "collapsed": false
   },
   "outputs": [],
   "source": [
    "#print __doc__"
   ]
  },
  {
   "cell_type": "code",
   "execution_count": null,
   "metadata": {
    "collapsed": false
   },
   "outputs": [],
   "source": [
    "import os\n",
    "#print os.__doc__"
   ]
  },
  {
   "cell_type": "code",
   "execution_count": null,
   "metadata": {
    "collapsed": false
   },
   "outputs": [],
   "source": [
    "#print os.system.__doc__"
   ]
  },
  {
   "cell_type": "markdown",
   "metadata": {},
   "source": [
    "__Breakout!__\n",
    "\n",
    "Start plaing with some docstrings inside classes, functions and at the top of your scripts. See how to generate different `__doc__` statements.\n",
    "\n",
    "---"
   ]
  },
  {
   "cell_type": "markdown",
   "metadata": {},
   "source": [
    "## [Sphinx](http://sphinx-doc.org/)"
   ]
  },
  {
   "cell_type": "markdown",
   "metadata": {},
   "source": [
    "Sphinx is a preferred choice for Python documentation. There is an `autodoc` feature that generates generic documentation and can pull code's docstrings as well. A quick [reStructuredText Primer](http://sphinx-doc.org/rest.html) is also available.\n",
    "\n",
    "* [reStructuredText](http://docutils.sourceforge.net/rst.html) markup (rst)\n",
    "* [Read the Docs](http://readthedocs.org/) free hosting\n",
    "\n",
    "---"
   ]
  },
  {
   "cell_type": "markdown",
   "metadata": {},
   "source": [
    "A little Python  documentation [humor](https://www.python.org/doc/humor/#python-vs-perl-according-to-yoda)...\n",
    "\n",
    ">__EXTERIOR: DAGOBAH -- DAY__\n",
    ">\n",
    ">           With Yoda strapped to his back, Luke climbs up one of\n",
    ">        the many thick vines that grow in the swamp until he\n",
    ">        reaches the Dagobah statistics lab. Panting heavily, he\n",
    ">        continues his exercises -- grepping, installing new\n",
    ">        packages, logging in as root, and writing replacements for\n",
    ">        two-year-old shell scripts in Python.\n",
    ">\n",
    ">__YODA:__ Code!  Yes.  A programmer's strength flows from code\n",
    ">      maintainability.  But beware of Perl.  Terse syntax... more\n",
    ">      than one way to do it...  default variables.  The dark side\n",
    ">      of code maintainability are they.  Easily they flow, quick\n",
    ">      to join you when code you write.  If once you start down the\n",
    ">      dark path, forever will it dominate your destiny, consume\n",
    ">      you it will.\n",
    ">\n",
    ">__LUKE:__ Is Perl better than Python?\n",
    ">\n",
    ">__YODA:__ No... no... no.  Quicker, easier, more seductive.\n",
    ">\n",
    ">__LUKE:__ But how will I know Python is better than Perl?\n",
    ">\n",
    ">__YODA:__ When your code you try to read six months from now."
   ]
  },
  {
   "cell_type": "markdown",
   "metadata": {},
   "source": [
    "## Part 2 - Project Structure & Packaging"
   ]
  },
  {
   "cell_type": "markdown",
   "metadata": {},
   "source": [
    "__Aside:__ Module & Package importing.\n",
    "\n",
    "When writing Python code, the file you are working on is a Python module (i.e., script.py). After putting it in a folder alongside a `__init__`.py file, it has become a module inside a Python Package. Let's see how this works:"
   ]
  },
  {
   "cell_type": "markdown",
   "metadata": {},
   "source": [
    "An example:\n",
    "\n",
    "    .\n",
    "    ./spam\n",
    "    ./spam/eggs.py  # the eggs module inside the spam package\n",
    "    ./spam/__init__.py"
   ]
  },
  {
   "cell_type": "code",
   "execution_count": 1,
   "metadata": {
    "collapsed": false
   },
   "outputs": [
    {
     "name": "stdout",
     "output_type": "stream",
     "text": [
      "The Zen of Python, by Tim Peters\n",
      "\n",
      "Beautiful is better than ugly.\n",
      "Explicit is better than implicit.\n",
      "Simple is better than complex.\n",
      "Complex is better than complicated.\n",
      "Flat is better than nested.\n",
      "Sparse is better than dense.\n",
      "Readability counts.\n",
      "Special cases aren't special enough to break the rules.\n",
      "Although practicality beats purity.\n",
      "Errors should never pass silently.\n",
      "Unless explicitly silenced.\n",
      "In the face of ambiguity, refuse the temptation to guess.\n",
      "There should be one-- and preferably only one --obvious way to do it.\n",
      "Although that way may not be obvious at first unless you're Dutch.\n",
      "Now is better than never.\n",
      "Although never is often better than *right* now.\n",
      "If the implementation is hard to explain, it's a bad idea.\n",
      "If the implementation is easy to explain, it may be a good idea.\n",
      "Namespaces are one honking great idea -- let's do more of those!\n"
     ]
    }
   ],
   "source": [
    "import spam\n",
    "# now we access spam's scripts via spam.{}\n",
    "from spam import eggs\n",
    "# here we access the eggs module inside the spam package"
   ]
  },
  {
   "cell_type": "code",
   "execution_count": 3,
   "metadata": {
    "collapsed": true
   },
   "outputs": [],
   "source": [
    "import this"
   ]
  },
  {
   "cell_type": "code",
   "execution_count": 4,
   "metadata": {
    "collapsed": false
   },
   "outputs": [
    {
     "data": {
      "text/plain": [
       "['/home/waterbug/anaconda/lib/python2.7/site-packages/dulwich-0.10.1-py2.7-linux-x86_64.egg',\n",
       " '/home/waterbug/anaconda/src/gwa-pros',\n",
       " '/home/waterbug/anaconda/src/django-metaservice',\n",
       " '/home/waterbug/src/Python/django-mutant/django-mutant',\n",
       " '/home/waterbug/src/Python/python-pptx/python-pptx-0.5.8',\n",
       " '/home/waterbug/src/Python/pandas-qt/pandas-qt',\n",
       " '/home/waterbug/src/Python/orbital/orbital',\n",
       " '/home/waterbug/clones/CATTENS',\n",
       " '/home/waterbug/src/Python/twisted/qtreactor',\n",
       " '/home/waterbug/src/Python/u-msgpack-python/u-msgpack-python-2.1',\n",
       " '/home/waterbug/sandbox/ipython_notebooks/PBC2016/Lectures/Day_02/07_Packaging_Deployment',\n",
       " '/home/waterbug/clones/pgef',\n",
       " '/home/waterbug/vcs',\n",
       " '/home/waterbug/sandbox',\n",
       " '/home/waterbug/anaconda/lib/python27.zip',\n",
       " '/home/waterbug/anaconda/lib/python2.7',\n",
       " '/home/waterbug/anaconda/lib/python2.7/plat-linux2',\n",
       " '/home/waterbug/anaconda/lib/python2.7/lib-tk',\n",
       " '/home/waterbug/anaconda/lib/python2.7/lib-old',\n",
       " '/home/waterbug/anaconda/lib/python2.7/lib-dynload',\n",
       " '/home/waterbug/anaconda/lib/python2.7/site-packages/Sphinx-1.4.1-py2.7.egg',\n",
       " '/home/waterbug/anaconda/lib/python2.7/site-packages',\n",
       " '/home/waterbug/anaconda/lib/python2.7/site-packages/Orange/orng',\n",
       " '/home/waterbug/anaconda/lib/python2.7/site-packages/PIL',\n",
       " '/home/waterbug/anaconda/lib/python2.7/site-packages/setuptools-23.0.0-py2.7.egg',\n",
       " '/home/waterbug/anaconda/lib/python2.7/site-packages/IPython/extensions',\n",
       " '/home/waterbug/.ipython']"
      ]
     },
     "execution_count": 4,
     "metadata": {},
     "output_type": "execute_result"
    }
   ],
   "source": [
    "import sys\n",
    "sys.path"
   ]
  },
  {
   "cell_type": "markdown",
   "metadata": {},
   "source": [
    "> Any directory with an `__init__`.py file is considered a Python package."
   ]
  },
  {
   "cell_type": "code",
   "execution_count": null,
   "metadata": {
    "collapsed": false
   },
   "outputs": [],
   "source": [
    "%%bash\n",
    "#mkdir package_name      # containing folder\n",
    "#cd package_name\n",
    "\n",
    "#touch README.md         # highest level of documentation (minimum: project name)\n",
    "#touch CHANGELOG         # optional: if included in README\n",
    "#touch LICENSE.txt       # protect your code\n",
    "#touch setup.py          # for easy_install\n",
    "#touch requirements.txt  # package dependencies\n",
    "#mkdir docs              # Sphinx\n",
    "#mkdir package_name\n",
    "#touch package_name/__init__.py  # needed for import"
   ]
  },
  {
   "cell_type": "markdown",
   "metadata": {},
   "source": [
    "    .\n",
    "    ./package_name\n",
    "    ./package_name/docs\n",
    "    ./package_name/LICENSE.txt\n",
    "    ./package_name/README.md\n",
    "    ./package_name/setup.py\n",
    "    ./package_name/requirements.txt\n",
    "    ./package_name/package_name\n",
    "    ./package_name/package_name/__init__.py"
   ]
  },
  {
   "cell_type": "markdown",
   "metadata": {},
   "source": [
    "[PyPA Sample Project](http://github.com/pypa/sampleproject) gives a sample setup.py file that we can explore:"
   ]
  },
  {
   "cell_type": "code",
   "execution_count": null,
   "metadata": {
    "collapsed": false
   },
   "outputs": [],
   "source": [
    "# %load http://raw.githubusercontent.com/pypa/sampleproject/master/setup.py"
   ]
  },
  {
   "cell_type": "code",
   "execution_count": null,
   "metadata": {
    "collapsed": true
   },
   "outputs": [],
   "source": [
    "# pip freeze > requirements.txt"
   ]
  },
  {
   "cell_type": "markdown",
   "metadata": {},
   "source": [
    "### Packaging"
   ]
  },
  {
   "cell_type": "markdown",
   "metadata": {},
   "source": [
    "There are some great guides out there and I will just point you to them to read at your convenience.\n",
    "\n",
    "* [PyPUG](http://python-packaging-user-guide.readthedocs.org/en/latest/)\n",
    "* [Packaging Your Code](http://docs.python-guide.org/en/latest/shipping/packaging/)\n",
    "* [Freezing Your Code](http://docs.python-guide.org/en/latest/shipping/freezing/)"
   ]
  },
  {
   "cell_type": "code",
   "execution_count": null,
   "metadata": {
    "collapsed": true
   },
   "outputs": [],
   "source": []
  }
 ],
 "metadata": {
  "kernelspec": {
   "display_name": "Python 2",
   "language": "python",
   "name": "python2"
  },
  "language_info": {
   "codemirror_mode": {
    "name": "ipython",
    "version": 2
   },
   "file_extension": ".py",
   "mimetype": "text/x-python",
   "name": "python",
   "nbconvert_exporter": "python",
   "pygments_lexer": "ipython2",
   "version": "2.7.11"
  }
 },
 "nbformat": 4,
 "nbformat_minor": 0
}
