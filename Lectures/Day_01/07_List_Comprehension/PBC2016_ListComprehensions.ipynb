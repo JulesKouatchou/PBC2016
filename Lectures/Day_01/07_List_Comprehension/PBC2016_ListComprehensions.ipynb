{
 "metadata": {
  "name": "",
  "signature": "sha256:94a40dd77c043f0036b928dd8969595b0267c30cdb3e7fb757eb37234f46d302"
 },
 "nbformat": 3,
 "nbformat_minor": 0,
 "worksheets": [
  {
   "cells": [
    {
     "cell_type": "markdown",
     "metadata": {},
     "source": [
      "<CENTER>\n",
      "<H1>\n",
      "<font color='blue'>NASA Goddard Space Flight Center </font> <BR>\n",
      "    Python User Group <BR>\n",
      "Python Boot Camp <br>\n",
      "</H1>\n",
      "</CENTER>"
     ]
    },
    {
     "cell_type": "heading",
     "level": 1,
     "metadata": {},
     "source": [
      "List Comprehension and More"
     ]
    },
    {
     "cell_type": "heading",
     "level": 2,
     "metadata": {},
     "source": [
      "<font color='red'>What will be Covered?</font>"
     ]
    },
    {
     "cell_type": "markdown",
     "metadata": {},
     "source": [
      "<OL>\n",
      "<LI> List Comprehension\n",
      "<LI> Lambda Function\n",
      "<LI> Exception Handling\n",
      "</OL>"
     ]
    },
    {
     "cell_type": "heading",
     "level": 2,
     "metadata": {},
     "source": [
      "<font color='red'>Reference Documents</font>"
     ]
    },
    {
     "cell_type": "markdown",
     "metadata": {},
     "source": [
      "<OL>\n",
      "<LI> <A HREF=\"http://www.pythonforbeginners.com/basics/list-comprehensions-in-python\">List Comprehensions in Python</A>\n",
      "<LI> <A HREF=\"http://howchoo.com/g/ngi2zddjzdf/how-to-use-list-comprehension-in-python\">Learn Python List Comprehensions by Example</A>\n",
      "<LI> <A HREF=\"http://www.u.arizona.edu/~erdmann/mse350/topics/list_comprehensions.html\">Map, Filter, Lambda, and List Comprehensions in Python</A>\n",
      "</OL>"
     ]
    },
    {
     "cell_type": "heading",
     "level": 2,
     "metadata": {},
     "source": [
      "<font color='red'>List Comprehension</font>"
     ]
    },
    {
     "cell_type": "markdown",
     "metadata": {},
     "source": [
      "<UL>\n",
      "<LI> Provides a concise way to create lists.\n",
      "<LI> Consists of brackets containing an expression followed by a for clause, then\n",
      "zero or more for or if clauses. The expressions can be anything, meaning you can\n",
      "put in all kinds of objects in lists\n",
      "<LI> The result will be a new list resulting from evaluating the expression in the\n",
      "context of the for and if clauses which follow it. \n",
      "<LI> Aways returns a result list. \n",
      "</UL>"
     ]
    },
    {
     "cell_type": "heading",
     "level": 4,
     "metadata": {},
     "source": [
      "If you used to do it like this:"
     ]
    },
    {
     "cell_type": "code",
     "collapsed": false,
     "input": [
      "new_list = []\n",
      "for i in old_list:\n",
      "    if filter(i):\n",
      "       new_list.append(expressions(i))"
     ],
     "language": "python",
     "metadata": {},
     "outputs": []
    },
    {
     "cell_type": "code",
     "collapsed": false,
     "input": [
      "You can obtain the same thing using list comprehension:"
     ],
     "language": "python",
     "metadata": {},
     "outputs": []
    },
    {
     "cell_type": "code",
     "collapsed": false,
     "input": [
      "new_list = [expression(i) for i in old_list if filter(i)]"
     ],
     "language": "python",
     "metadata": {},
     "outputs": []
    },
    {
     "cell_type": "heading",
     "level": 4,
     "metadata": {},
     "source": [
      "Syntax"
     ]
    },
    {
     "cell_type": "markdown",
     "metadata": {},
     "source": [
      "The list comprehension starts with a <B>'[' and ']'</B>, to help you remember that the\n",
      "result is going to be a list.\n",
      "\n",
      "The basic syntax is"
     ]
    },
    {
     "cell_type": "code",
     "collapsed": false,
     "input": [
      "[ expression for item in list if conditional ]"
     ],
     "language": "python",
     "metadata": {},
     "outputs": []
    },
    {
     "cell_type": "markdown",
     "metadata": {},
     "source": [
      "This is equivalent to:"
     ]
    },
    {
     "cell_type": "code",
     "collapsed": false,
     "input": [
      "for item in list:\n",
      "    if conditional:\n",
      "        expression"
     ],
     "language": "python",
     "metadata": {},
     "outputs": []
    },
    {
     "cell_type": "markdown",
     "metadata": {},
     "source": [
      "Here is what it does:"
     ]
    },
    {
     "cell_type": "code",
     "collapsed": false,
     "input": [
      "new_list = [expression(i) for i in old_list if filter(i)]"
     ],
     "language": "python",
     "metadata": {},
     "outputs": []
    },
    {
     "cell_type": "heading",
     "level": 3,
     "metadata": {},
     "source": [
      "Examples"
     ]
    },
    {
     "cell_type": "code",
     "collapsed": false,
     "input": [
      "x = [i for i in range(10)]\n",
      "print x"
     ],
     "language": "python",
     "metadata": {},
     "outputs": []
    },
    {
     "cell_type": "code",
     "collapsed": false,
     "input": [
      "# You can either use loops:\n",
      "squares = []\n",
      "\n",
      "for x in range(10):\n",
      "    squares.append(x**2)\n",
      " \n",
      "print squares\n",
      "\n",
      "# Or you can use list comprehensions to get the same result:\n",
      "squares = [x**2 for x in range(10)]\n",
      "\n",
      "print squares"
     ],
     "language": "python",
     "metadata": {},
     "outputs": []
    },
    {
     "cell_type": "code",
     "collapsed": false,
     "input": [
      "string = \"Hello 12345 World\"\n",
      "numbers = [x for x in string if x.isdigit()]\n",
      "print numbers"
     ],
     "language": "python",
     "metadata": {},
     "outputs": []
    },
    {
     "cell_type": "code",
     "collapsed": false,
     "input": [
      "# Create a function and name it double:\n",
      "def double(x):\n",
      "  return x*2\n",
      "\n",
      "# If you now just print that function with a value in it, it should look like this:\n",
      "print double(10)\n",
      "\n",
      "A = [double(x) for x in range(10)]\n",
      "print A\n",
      "\n",
      "# You can put in conditions:\n",
      "B = [double(x) for x in range(10) if x%2==0]\n",
      "print B\n",
      "\n",
      "# You can add more arguments:\n",
      "C = [x+y for x in [10,30,50] for y in [20,40,60]]\n",
      "print C"
     ],
     "language": "python",
     "metadata": {},
     "outputs": []
    },
    {
     "cell_type": "code",
     "collapsed": false,
     "input": [
      "#List comprehensions can contain complex expressions and nested functions:\n",
      "from math import pi\n",
      "D = [str(round(pi, i)) for i in range(1, 6)]\n",
      "print D"
     ],
     "language": "python",
     "metadata": {},
     "outputs": []
    },
    {
     "cell_type": "code",
     "collapsed": false,
     "input": [
      "# Calculation of the prime numbers between 1 and 100 using the sieve of Eratosthenes:\n",
      "n = 100\n",
      "\n",
      "# Without List Comprehension\n",
      "#---------------------------\n",
      "noprimes = [] \n",
      "for i in range(2, 8): \n",
      "    for j in range(i*2, n, i): \n",
      "        noprimes.append(j) \n",
      "primes = [] \n",
      "for x in range(2, n): \n",
      "    if x not in noprimes: \n",
      "        primes.append(x)\n",
      "\n",
      "# With List Comprehension\n",
      "#------------------------\n",
      "noprimes = [j for i in range(2, 8) for j in range(i*2, n, i)]\n",
      "primes = [x for x in range(2, n) if x not in noprimes]\n",
      "print primes"
     ],
     "language": "python",
     "metadata": {},
     "outputs": []
    },
    {
     "cell_type": "heading",
     "level": 3,
     "metadata": {},
     "source": [
      "<u>Problem 1</u>"
     ]
    },
    {
     "cell_type": "code",
     "collapsed": false,
     "input": [
      "# We want to simulate a series of coin tosses where 0 is heads and 1 is tails.\n",
      "from random import random\n",
      "n = 10\n",
      "results = [] \n",
      "for x in range(n): \n",
      "    results.append(int(round(random())))"
     ],
     "language": "python",
     "metadata": {},
     "outputs": []
    },
    {
     "cell_type": "markdown",
     "metadata": {},
     "source": [
      "Use a list comprehension to make it more concise."
     ]
    },
    {
     "cell_type": "heading",
     "level": 5,
     "metadata": {},
     "source": [
      "Solution of Problem 1"
     ]
    },
    {
     "cell_type": "code",
     "collapsed": false,
     "input": [
      "results = [int(round(random())) for x in range(n)]"
     ],
     "language": "python",
     "metadata": {},
     "outputs": []
    },
    {
     "cell_type": "heading",
     "level": 3,
     "metadata": {},
     "source": [
      "<u>Problem 2</u>"
     ]
    },
    {
     "cell_type": "markdown",
     "metadata": {},
     "source": [
      "Use list comprehension to remove all the vowels from the sentence"
     ]
    },
    {
     "cell_type": "code",
     "collapsed": false,
     "input": [
      "sentence = \"The GFSC Python Bootcamp is a great opportunity to learn Python programming.\"\n",
      "vowels = 'aeiou' "
     ],
     "language": "python",
     "metadata": {},
     "outputs": []
    },
    {
     "cell_type": "heading",
     "level": 5,
     "metadata": {},
     "source": [
      "Solution of Problem 2"
     ]
    },
    {
     "cell_type": "code",
     "collapsed": false,
     "input": [
      "nonvowels = ''.join([l for l in sentence if not l in vowels])\n",
      "print nonvowels"
     ],
     "language": "python",
     "metadata": {},
     "outputs": []
    },
    {
     "cell_type": "heading",
     "level": 2,
     "metadata": {},
     "source": [
      "<font color='red'>Lambda, Filter, Reduce and Map</font>"
     ]
    },
    {
     "cell_type": "markdown",
     "metadata": {},
     "source": [
      "<UL>\n",
      "<LI> The lambda operator or lambda function is a way to create small anonymous functions.\n",
      "<LI> These functions are throw-away functions, i.e. they are just needed where they have been created.\n",
      "<LI> Lambda functions are mainly used in combination with the functions filter(), map() and reduce().\n",
      "</UL>"
     ]
    },
    {
     "cell_type": "heading",
     "level": 3,
     "metadata": {},
     "source": [
      "Basic Syntax of a Lambda Function"
     ]
    },
    {
     "cell_type": "code",
     "collapsed": false,
     "input": [
      "lambda argument_list: expression \n",
      "\n",
      "# The argument list consists of a comma separated list of arguments and \n",
      "# the expression is an arithmetic expression using these arguments."
     ],
     "language": "python",
     "metadata": {},
     "outputs": []
    },
    {
     "cell_type": "code",
     "collapsed": false,
     "input": [
      "f = lambda x, y : x + y\n",
      "f(2,1)"
     ],
     "language": "python",
     "metadata": {},
     "outputs": []
    },
    {
     "cell_type": "heading",
     "level": 3,
     "metadata": {},
     "source": [
      "Lambda as macro"
     ]
    },
    {
     "cell_type": "code",
     "collapsed": false,
     "input": [
      "line1 = \"A cat, a dog  \"\n",
      "line2 = \"  a bird, a mountain\"\n",
      "\n",
      "# Use X as an alias for two methods.\n",
      "x = lambda s: s.strip().upper()\n",
      "\n",
      "# Call the lambda to shorten the program's source.\n",
      "line1b = x(line1)\n",
      "line2b = x(line2)\n",
      "\n",
      "print(line1b)\n",
      "print(line2b)"
     ],
     "language": "python",
     "metadata": {},
     "outputs": []
    },
    {
     "cell_type": "heading",
     "level": 3,
     "metadata": {},
     "source": [
      "Map Function"
     ]
    },
    {
     "cell_type": "markdown",
     "metadata": {},
     "source": [
      "map() is a function with two arguments: "
     ]
    },
    {
     "cell_type": "code",
     "collapsed": false,
     "input": [
      "r = map(func, seq)"
     ],
     "language": "python",
     "metadata": {},
     "outputs": []
    },
    {
     "cell_type": "markdown",
     "metadata": {},
     "source": [
      "The first argument func is the name of a function and \n",
      "the second a sequence (e.g. a list) seq. map() applies \n",
      "the function func to all the elements of the sequence seq. \n",
      "It returns a new list with the elements changed by func"
     ]
    },
    {
     "cell_type": "code",
     "collapsed": false,
     "input": [
      "def fahrenheit(T):\n",
      "    return ((float(9)/5)*T + 32)\n",
      "def celsius(T):\n",
      "    return (float(5)/9)*(T-32)\n",
      "temp = (36.5, 37, 37.5,39)\n",
      "\n",
      "F = map(fahrenheit, temp)\n",
      "print F\n",
      "C = map(celsius, F)\n",
      "print C"
     ],
     "language": "python",
     "metadata": {},
     "outputs": []
    },
    {
     "cell_type": "code",
     "collapsed": false,
     "input": [
      "# map() can be applied to more than one list. \n",
      "# The lists have to have the same length.\n",
      "a = [1,2,3,4]\n",
      "b = [17,12,11,10]\n",
      "c = [-1,-4,5,9]\n",
      "map(lambda x,y:x+y, a,b)\n",
      "\n",
      "map(lambda x,y,z:x+y+z, a,b,c)\n",
      "\n",
      "map(lambda x,y,z:x+y-z, a,b,c)"
     ],
     "language": "python",
     "metadata": {},
     "outputs": []
    },
    {
     "cell_type": "heading",
     "level": 3,
     "metadata": {},
     "source": [
      "<u>Problem 3</u>"
     ]
    },
    {
     "cell_type": "code",
     "collapsed": false,
     "input": [
      "words = 'The quick brown fox jumps over the lazy dog'.split()\n",
      "print words\n",
      "stuff = []\n",
      "for w in words:\n",
      "    stuff.append([w.upper(), w.lower(), len(w)])\n",
      "\n",
      "for i in stuff:\n",
      "    print i"
     ],
     "language": "python",
     "metadata": {},
     "outputs": []
    },
    {
     "cell_type": "markdown",
     "metadata": {},
     "source": [
      "Use list comprehension and lambda/map function to define stuff."
     ]
    },
    {
     "cell_type": "heading",
     "level": 5,
     "metadata": {},
     "source": [
      "Solution of Problem 3"
     ]
    },
    {
     "cell_type": "code",
     "collapsed": false,
     "input": [
      "stuffList = [[w.upper(), w.lower(), len(w)] for w in words]\n",
      "stuffLambda = map(lambda w: [w.upper(), w.lower(), len(w)], words)"
     ],
     "language": "python",
     "metadata": {},
     "outputs": []
    },
    {
     "cell_type": "heading",
     "level": 3,
     "metadata": {},
     "source": [
      "Filter Function"
     ]
    },
    {
     "cell_type": "markdown",
     "metadata": {},
     "source": [
      "The function <B>filter(func, iterableType)</B> offers an elegant way to \n",
      "filter out all the elements of any iterable type (list, tuple, string, etc.), for which the function func returns True. "
     ]
    },
    {
     "cell_type": "code",
     "collapsed": false,
     "input": [
      "fib = [0,1,1,2,3,5,8,13,21,34,55]\n",
      "result = filter(lambda x: x % 2, fib)\n",
      "print result\n",
      "\n",
      "result = filter(lambda x: x % 2 == 0, fib)\n",
      "print result"
     ],
     "language": "python",
     "metadata": {},
     "outputs": []
    },
    {
     "cell_type": "heading",
     "level": 3,
     "metadata": {},
     "source": [
      "<u>Problem 4</u>"
     ]
    },
    {
     "cell_type": "markdown",
     "metadata": {},
     "source": [
      "Use the filter function to remove all the vowels from the sentence"
     ]
    },
    {
     "cell_type": "code",
     "collapsed": false,
     "input": [
      "sentence = \"The GFSC Python Bootcamp is a great opportunity to learn Python programming.\"\n",
      "vowels = 'aeiou' "
     ],
     "language": "python",
     "metadata": {},
     "outputs": [],
     "prompt_number": 1
    },
    {
     "cell_type": "heading",
     "level": 4,
     "metadata": {},
     "source": [
      "Solution of Problem 4"
     ]
    },
    {
     "cell_type": "code",
     "collapsed": false,
     "input": [
      "def isNotVowel(s):\n",
      "    return s not in vowels\n",
      "\n",
      "newSentence = filter(isNotVowel, sentence)\n",
      "print newSentence"
     ],
     "language": "python",
     "metadata": {},
     "outputs": [
      {
       "output_type": "stream",
       "stream": "stdout",
       "text": [
        "Th GFSC Pythn Btcmp s  grt pprtnty t lrn Pythn prgrmmng.\n"
       ]
      }
     ],
     "prompt_number": 2
    },
    {
     "cell_type": "heading",
     "level": 3,
     "metadata": {},
     "source": [
      "Reduce Function"
     ]
    },
    {
     "cell_type": "markdown",
     "metadata": {},
     "source": [
      "The function <B>reduce(func, seq)</B> continually applies the function func() to the sequence seq. It returns a single value. "
     ]
    },
    {
     "cell_type": "heading",
     "level": 4,
     "metadata": {},
     "source": [
      "Syntax"
     ]
    },
    {
     "cell_type": "code",
     "collapsed": false,
     "input": [
      "def reduce( aFunction, aSequence, init= 0 ):\n",
      "    r= init\n",
      "    for s in aSequence:\n",
      "        r= aFunction( r, s )\n",
      "    return r"
     ],
     "language": "python",
     "metadata": {},
     "outputs": []
    },
    {
     "cell_type": "heading",
     "level": 4,
     "metadata": {},
     "source": [
      "Examples"
     ]
    },
    {
     "cell_type": "code",
     "collapsed": false,
     "input": [
      "A = reduce(lambda x,y: x+y, [47,11,42,13])\n",
      "print A\n",
      "\n",
      "# Determining the maximum of a list of numerical values by using reduce\n",
      "f = lambda a,b: a if (a > b) else b\n",
      "B = reduce(f, [47,11,42,102,13])\n",
      "print B\n",
      "\n",
      "# Calculating the sum of the numbers from 1 to n: \n",
      "n = 300\n",
      "C = reduce(lambda x, y: x+y, range(1,n+1))\n",
      "print C"
     ],
     "language": "python",
     "metadata": {},
     "outputs": []
    },
    {
     "cell_type": "code",
     "collapsed": false,
     "input": [
      "def x100y(x,y):\n",
      "    return 100*x+y\n",
      "\n",
      "reduce(x100y, [13])\n",
      "reduce(x100y, [2, 5, 9])\n",
      "reduce(x100y, [2, 5, 9], 7)"
     ],
     "language": "python",
     "metadata": {},
     "outputs": []
    },
    {
     "cell_type": "heading",
     "level": 3,
     "metadata": {},
     "source": [
      "<u>Problem 5</u>"
     ]
    },
    {
     "cell_type": "markdown",
     "metadata": {},
     "source": [
      "Use the reduce function to find the produc of all the entries in the list\n",
      "[47,11,42,102,13]"
     ]
    },
    {
     "cell_type": "heading",
     "level": 4,
     "metadata": {},
     "source": [
      "Solution of Problem 5"
     ]
    },
    {
     "cell_type": "code",
     "collapsed": false,
     "input": [
      "A = reduce(lambda x,y: x*y, [47,11,42,102,13])"
     ],
     "language": "python",
     "metadata": {},
     "outputs": []
    },
    {
     "cell_type": "heading",
     "level": 2,
     "metadata": {},
     "source": [
      "<font color='red'>Exception Handling</font>"
     ]
    },
    {
     "cell_type": "code",
     "collapsed": false,
     "input": [
      "from IPython.display import YouTubeVideo\n",
      "YouTubeVideo(\"hrR0WrQMhSs\")"
     ],
     "language": "python",
     "metadata": {},
     "outputs": []
    },
    {
     "cell_type": "markdown",
     "metadata": {},
     "source": [
      "<UL>\n",
      "<LI> An exception is an error that happens during the execution of a program.\n",
      "<LI> Exceptions are known to non-programmers as instances that do not conform to a general rule.\n",
      "<LI> Exception handling is a construct to handle or deal with errors automatically. \n",
      "<LI> The code, which harbours the risk of an exception, is embedded in a try block. \n",
      "</UL>"
     ]
    },
    {
     "cell_type": "heading",
     "level": 4,
     "metadata": {},
     "source": [
      "Simple example"
     ]
    },
    {
     "cell_type": "code",
     "collapsed": false,
     "input": [
      "def enter_number0():\n",
      "    n = int(raw_input(\"Please enter a number: \"))\n",
      "\n",
      "enter_number0()"
     ],
     "language": "python",
     "metadata": {},
     "outputs": []
    },
    {
     "cell_type": "code",
     "collapsed": false,
     "input": [
      "def enter_number1():\n",
      "    while True:\n",
      "        try:\n",
      "           n = raw_input(\"Please enter an integer: \")\n",
      "           n = int(n)\n",
      "           break\n",
      "        except ValueError:\n",
      "            print \"No valid integer! Please try again ...\"\n",
      "    print \"Great, you successfully entered an integer!\"\n",
      "\n",
      "enter_number1()"
     ],
     "language": "python",
     "metadata": {},
     "outputs": []
    },
    {
     "cell_type": "heading",
     "level": 4,
     "metadata": {},
     "source": [
      "Some Exception Errors"
     ]
    },
    {
     "cell_type": "markdown",
     "metadata": {},
     "source": [
      "<UL>\n",
      "<LI> <B>IOError</B>: The file cannot be opened\n",
      "<LI> <B>ImportError</B>: Python cannot find the module\n",
      "<LI> <B>ValueError</B>: A built-in operation or function receives an argument that has the\n",
      "right type but an inappropriate value.\n",
      "<LI> <B>KeyboardInterrupt</B>: The user hits the interrupt key (normally Control-C or Delete)\n",
      "<LI> <B>EOFError</B>: One of the built-in functions (input() or raw_input()) hits an\n",
      "end-of-file condition (EOF) without reading any data.\n",
      "<LI> <B> OverflowError, ZeroDivisionError, FloatingPointError</B>: \n",
      "</UL>"
     ]
    },
    {
     "cell_type": "heading",
     "level": 4,
     "metadata": {},
     "source": [
      "else..."
     ]
    },
    {
     "cell_type": "code",
     "collapsed": false,
     "input": [
      "def inverse_number0():\n",
      "    try:\n",
      "        x = float(raw_input(\"Your number: \"))\n",
      "        inverse = 1.0 / x\n",
      "    except ValueError:\n",
      "        print \"You should have given either an int or a float\"\n",
      "    except ZeroDivisionError:\n",
      "        print \"Infinity\"\n",
      "    else:\n",
      "        print \"OK\"\n",
      "        \n",
      "inverse_number0()"
     ],
     "language": "python",
     "metadata": {},
     "outputs": []
    },
    {
     "cell_type": "code",
     "collapsed": false,
     "input": [
      "# import module sys to get the type of exception\n",
      "import sys\n",
      "\n",
      "def inverse_number1():\n",
      "    while True:\n",
      "        try:\n",
      "            x = int(raw_input(\"Enter an integer: \"))\n",
      "            r = 1/x\n",
      "            break\n",
      "        except:\n",
      "            print \"Oops!\",sys.exc_info()[0],\"occured.\"\n",
      "            print \"Please try again.\"\n",
      "            print\n",
      "    print \"The reciprocal of\",x,\"is\",r\n",
      "    \n",
      "inverse_number1()"
     ],
     "language": "python",
     "metadata": {},
     "outputs": []
    },
    {
     "cell_type": "heading",
     "level": 4,
     "metadata": {},
     "source": [
      "Clean-up Actions (try ... finally)"
     ]
    },
    {
     "cell_type": "code",
     "collapsed": false,
     "input": [
      "def inverse_number2():\n",
      "    try:\n",
      "        x = float(raw_input(\"Your number: \"))\n",
      "        inverse = 1.0 / x\n",
      "    finally:\n",
      "        print \"There may or may not have been an exception.\"\n",
      "    print \"The inverse: \", inverse\n",
      "    \n",
      "inverse_number2()"
     ],
     "language": "python",
     "metadata": {},
     "outputs": []
    },
    {
     "cell_type": "code",
     "collapsed": false,
     "input": [
      "def inverse_number3():\n",
      "    try:\n",
      "        x = float(raw_input(\"Your number: \"))\n",
      "        inverse = 1.0 / x\n",
      "    except ValueError:\n",
      "        print \"You should have given either an int or a float\"\n",
      "    except ZeroDivisionError:\n",
      "        print \"Infinity\"\n",
      "    finally:\n",
      "        print \"There may or may not have been an exception.\"\n",
      "    \n",
      "inverse_number3()"
     ],
     "language": "python",
     "metadata": {},
     "outputs": []
    },
    {
     "cell_type": "heading",
     "level": 4,
     "metadata": {},
     "source": [
      "Raising Exceptions"
     ]
    },
    {
     "cell_type": "code",
     "collapsed": false,
     "input": [
      "def achilles_arrow(x):\n",
      "    if abs(x - 1) < 1e-3:\n",
      "        raise StopIteration\n",
      "    x = 1 - (1-x)/2.\n",
      "    return x"
     ],
     "language": "python",
     "metadata": {},
     "outputs": []
    },
    {
     "cell_type": "code",
     "collapsed": false,
     "input": [
      "x=0.0\n",
      "\n",
      "while True:\n",
      "    try:\n",
      "        x = achilles_arrow(x)\n",
      "    except StopIteration:\n",
      "        break\n",
      "        \n",
      "print \"x = \", x"
     ],
     "language": "python",
     "metadata": {},
     "outputs": []
    },
    {
     "cell_type": "code",
     "collapsed": false,
     "input": [],
     "language": "python",
     "metadata": {},
     "outputs": []
    }
   ],
   "metadata": {}
  }
 ]
}