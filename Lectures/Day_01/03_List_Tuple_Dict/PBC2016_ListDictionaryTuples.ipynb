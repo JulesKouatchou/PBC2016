{
 "metadata": {
  "name": "",
  "signature": "sha256:2e43e31e7235617cb469d77467b011318f2d901a95803ea6f25f7abbc7d6b510"
 },
 "nbformat": 3,
 "nbformat_minor": 0,
 "worksheets": [
  {
   "cells": [
    {
     "cell_type": "markdown",
     "metadata": {},
     "source": [
      "<CENTER>\n",
      "<H1>\n",
      "<font color='blue'>NASA Goddard Space Flight Center </font> <BR>\n",
      "    Python User Group <BR>\n",
      "Python BootCamp <br>\n",
      "</H1>\n",
      "</CENTER>"
     ]
    },
    {
     "cell_type": "heading",
     "level": 1,
     "metadata": {},
     "source": [
      "List - Dictionary - Tuples"
     ]
    },
    {
     "cell_type": "heading",
     "level": 2,
     "metadata": {},
     "source": [
      "<font color='red'>What will be Covered?</font>"
     ]
    },
    {
     "cell_type": "markdown",
     "metadata": {},
     "source": [
      "<OL>\n",
      "<LI> List\n",
      "<LI> Tuples\n",
      "<LI> Dictionary\n",
      "</OL>"
     ]
    },
    {
     "cell_type": "heading",
     "level": 2,
     "metadata": {},
     "source": [
      "<font color='red'>Reference Documents</font>"
     ]
    },
    {
     "cell_type": "markdown",
     "metadata": {},
     "source": [
      "<OL>\n",
      "<LI> <A HREF=\"http://effbot.org/zone/python-list.htm\">An Introcduction to Python List</A>\n",
      "<LI> <A HREF=\"http://www.python-course.eu/dictionaries.php\">Python Dictionaries</A>\n",
      "<LI> <A HREF=\"http://www.diveintopython.net/native_data_types/tuples.html\">Introducing Tuples</A>\n",
      "</OL>"
     ]
    },
    {
     "cell_type": "heading",
     "level": 2,
     "metadata": {},
     "source": [
      "<font color='red'>List</font>"
     ]
    },
    {
     "cell_type": "markdown",
     "metadata": {},
     "source": [
      "<UL>\n",
      "<LI> Stores elements one after another\n",
      "<LI> It does not provide fast lookups. Finding an element is often slow. A search is required.\n",
      "<LI> Elements can be easily added, looped over or sorted.\n",
      "</UL>"
     ]
    },
    {
     "cell_type": "heading",
     "level": 4,
     "metadata": {},
     "source": [
      "Create a List"
     ]
    },
    {
     "cell_type": "code",
     "collapsed": false,
     "input": [
      "myList = []\n",
      "myList = [\"The\", \"earth\", \"revolves\", \"around\", \"sun\"]"
     ],
     "language": "python",
     "metadata": {},
     "outputs": []
    },
    {
     "cell_type": "code",
     "collapsed": false,
     "input": [
      "myList[0]\n",
      "\n",
      "myList[4]\n",
      "\n",
      "myList[5]\n",
      "\n",
      "myList[-1]"
     ],
     "language": "python",
     "metadata": {},
     "outputs": []
    },
    {
     "cell_type": "heading",
     "level": 4,
     "metadata": {},
     "source": [
      "Typical List Operations"
     ]
    },
    {
     "cell_type": "code",
     "collapsed": false,
     "input": [
      "L = []          # declare empty list\n",
      "L.append(1.2)   # add a number 1.2\n",
      "L.append('a\u2019)   # add a text\n",
      "L[0] = 1.3      # change an item\n",
      "del L[1]        # delete an item\n",
      "len(L)          # length of list\n",
      "L.count(x)      # count the number of times x occurs\n",
      "L.index(x)      # return the index of the first occurrence of x\n",
      "L.remove(x)     # delete the first occurrence of x\n",
      "L.reverse       # reverse the order of elements in the list"
     ],
     "language": "python",
     "metadata": {},
     "outputs": []
    },
    {
     "cell_type": "heading",
     "level": 4,
     "metadata": {},
     "source": [
      "Add Elements to a List"
     ]
    },
    {
     "cell_type": "code",
     "collapsed": false,
     "input": [
      "myList.insert(0,\"Yes\")\n",
      "len(myList)"
     ],
     "language": "python",
     "metadata": {},
     "outputs": []
    },
    {
     "cell_type": "code",
     "collapsed": false,
     "input": [
      "myList.append([\"a\", \"true\"])\n",
      "len(myList)"
     ],
     "language": "python",
     "metadata": {},
     "outputs": []
    },
    {
     "cell_type": "code",
     "collapsed": false,
     "input": [
      "myList.extend([\"statement\", \"for\", \"sure\"])\n",
      "print myList\n",
      "len(myList)"
     ],
     "language": "python",
     "metadata": {},
     "outputs": []
    },
    {
     "cell_type": "heading",
     "level": 4,
     "metadata": {},
     "source": [
      "Slice Elements from a List"
     ]
    },
    {
     "cell_type": "code",
     "collapsed": false,
     "input": [
      "myList[0]"
     ],
     "language": "python",
     "metadata": {},
     "outputs": []
    },
    {
     "cell_type": "code",
     "collapsed": false,
     "input": [
      "myList[1:4]"
     ],
     "language": "python",
     "metadata": {},
     "outputs": []
    },
    {
     "cell_type": "code",
     "collapsed": false,
     "input": [
      "myList[:4]"
     ],
     "language": "python",
     "metadata": {},
     "outputs": []
    },
    {
     "cell_type": "code",
     "collapsed": false,
     "input": [
      "myList[-1]"
     ],
     "language": "python",
     "metadata": {},
     "outputs": []
    },
    {
     "cell_type": "code",
     "collapsed": false,
     "input": [
      "myList[:]"
     ],
     "language": "python",
     "metadata": {},
     "outputs": []
    },
    {
     "cell_type": "heading",
     "level": 4,
     "metadata": {},
     "source": [
      "Search the Lists and find Elements"
     ]
    },
    {
     "cell_type": "code",
     "collapsed": false,
     "input": [
      "myList.index(\"revolves\")"
     ],
     "language": "python",
     "metadata": {},
     "outputs": []
    },
    {
     "cell_type": "code",
     "collapsed": false,
     "input": [
      "myList.index(\"true\")"
     ],
     "language": "python",
     "metadata": {},
     "outputs": []
    },
    {
     "cell_type": "code",
     "collapsed": false,
     "input": [
      "myList.index([\"a\", \"true\"])"
     ],
     "language": "python",
     "metadata": {},
     "outputs": []
    },
    {
     "cell_type": "code",
     "collapsed": false,
     "input": [
      "\"sun\" in myList"
     ],
     "language": "python",
     "metadata": {},
     "outputs": []
    },
    {
     "cell_type": "heading",
     "level": 4,
     "metadata": {},
     "source": [
      "Delete Elements from the List"
     ]
    },
    {
     "cell_type": "code",
     "collapsed": false,
     "input": [
      "# Remove an element from the list\n",
      "print myList\n",
      "myList.remove(\"Yes\")\n",
      "print myList"
     ],
     "language": "python",
     "metadata": {},
     "outputs": []
    },
    {
     "cell_type": "code",
     "collapsed": false,
     "input": [
      "# To delete the last element of the list\n",
      "myList.pop()\n",
      "print myList"
     ],
     "language": "python",
     "metadata": {},
     "outputs": []
    },
    {
     "cell_type": "heading",
     "level": 4,
     "metadata": {},
     "source": [
      "Python List Operators"
     ]
    },
    {
     "cell_type": "code",
     "collapsed": false,
     "input": [
      "# Combine two lists\n",
      "print myList\n",
      "myList = myList + [\"sure\"]\n",
      "print myList"
     ],
     "language": "python",
     "metadata": {},
     "outputs": []
    },
    {
     "cell_type": "code",
     "collapsed": false,
     "input": [
      "myList += [\".\"]\n",
      "print myList"
     ],
     "language": "python",
     "metadata": {},
     "outputs": []
    },
    {
     "cell_type": "code",
     "collapsed": false,
     "input": [
      "# Repeat the list\n",
      "myList *= 2\n",
      "print myList"
     ],
     "language": "python",
     "metadata": {},
     "outputs": []
    },
    {
     "cell_type": "heading",
     "level": 4,
     "metadata": {},
     "source": [
      "Assignment Create Object Reference"
     ]
    },
    {
     "cell_type": "code",
     "collapsed": false,
     "input": [
      "x = [0,1,2]"
     ],
     "language": "python",
     "metadata": {},
     "outputs": []
    },
    {
     "cell_type": "code",
     "collapsed": false,
     "input": [
      "# y = x causes x and y to point to the same list\n",
      "y = x\n",
      "print y"
     ],
     "language": "python",
     "metadata": {},
     "outputs": []
    },
    {
     "cell_type": "code",
     "collapsed": false,
     "input": [
      "# Change to y also change x\n",
      "y[1] = 6\n",
      "print y\n",
      "print x"
     ],
     "language": "python",
     "metadata": {},
     "outputs": []
    },
    {
     "cell_type": "code",
     "collapsed": false,
     "input": [
      "# re-assigning y to a new list decouples the two lists\n",
      "y = [3, 4]"
     ],
     "language": "python",
     "metadata": {},
     "outputs": []
    },
    {
     "cell_type": "heading",
     "level": 3,
     "metadata": {},
     "source": [
      "Problem 1"
     ]
    },
    {
     "cell_type": "markdown",
     "metadata": {},
     "source": [
      "Consider the list:"
     ]
    },
    {
     "cell_type": "code",
     "collapsed": false,
     "input": [
      "oldList = [[1,2,3],[4,5,6]]"
     ],
     "language": "python",
     "metadata": {},
     "outputs": []
    },
    {
     "cell_type": "markdown",
     "metadata": {},
     "source": [
      "Use use operations on lists to manipulate oldList and create the list [[1,2],[4,6]]"
     ]
    },
    {
     "cell_type": "heading",
     "level": 4,
     "metadata": {},
     "source": [
      "Solution"
     ]
    },
    {
     "cell_type": "code",
     "collapsed": false,
     "input": [
      "a = oldList[0]\n",
      "print a\n",
      "a.remove(3)\n",
      "b = oldList[1]\n",
      "print b\n",
      "b.remove(5)\n",
      "newList = []\n",
      "newList.append(a)\n",
      "print newList\n",
      "newList = newList.append(b)\n",
      "print newList"
     ],
     "language": "python",
     "metadata": {},
     "outputs": []
    },
    {
     "cell_type": "code",
     "collapsed": false,
     "input": [],
     "language": "python",
     "metadata": {},
     "outputs": []
    },
    {
     "cell_type": "heading",
     "level": 2,
     "metadata": {},
     "source": [
      "<font color='red'>Tuples</font>"
     ]
    },
    {
     "cell_type": "markdown",
     "metadata": {},
     "source": [
      "<UL>\n",
      "<LI> Tuples are a sequence of objects just like lists.\n",
      "<LI> Unlike lists, tuples are immutable objects\n",
      "<LI> Tuples are faster than lists.\n",
      "<LI> A good rule of thumb is to use list whenever you need a generic sequence \n",
      "</UL>"
     ]
    },
    {
     "cell_type": "heading",
     "level": 3,
     "metadata": {},
     "source": [
      "Examples"
     ]
    },
    {
     "cell_type": "code",
     "collapsed": false,
     "input": [
      "l1=[1.2, 1.3, 1.4]       # list\n",
      "t1=(1.2, 1.3, 1.4)       # tuple\n",
      "t1=1.2, 1.3, 1.4         # may skip parenthesis"
     ],
     "language": "python",
     "metadata": {},
     "outputs": []
    },
    {
     "cell_type": "code",
     "collapsed": false,
     "input": [
      "l1[1]=0                  # ok\n",
      "l1.sort()\n",
      "11.append(0.0)\n",
      "l1.remove(1.2)"
     ],
     "language": "python",
     "metadata": {},
     "outputs": []
    },
    {
     "cell_type": "heading",
     "level": 4,
     "metadata": {},
     "source": [
      "Tuple = constant list; items cannot be modified"
     ]
    },
    {
     "cell_type": "code",
     "collapsed": false,
     "input": [
      "t1[1]=0                  # illegal"
     ],
     "language": "python",
     "metadata": {},
     "outputs": []
    },
    {
     "cell_type": "heading",
     "level": 4,
     "metadata": {},
     "source": [
      "Tuples have no method"
     ]
    },
    {
     "cell_type": "code",
     "collapsed": false,
     "input": [
      "t1.sort()\n",
      "t1.append(0.0)\n",
      "t1.remove(1.2)"
     ],
     "language": "python",
     "metadata": {},
     "outputs": []
    },
    {
     "cell_type": "heading",
     "level": 4,
     "metadata": {},
     "source": [
      "You can add two tuples to form a new tuple"
     ]
    },
    {
     "cell_type": "code",
     "collapsed": false,
     "input": [
      "t2 = ('a', 'b')\n",
      "t3 = t1+t2\n",
      "print t3"
     ],
     "language": "python",
     "metadata": {},
     "outputs": []
    },
    {
     "cell_type": "heading",
     "level": 4,
     "metadata": {},
     "source": [
      "Accessing Values in Tuples"
     ]
    },
    {
     "cell_type": "code",
     "collapsed": false,
     "input": [
      "print \"t3[0]:   \", t3[0]\n",
      "print \"t3[1:3]: \", t3[1:3]"
     ],
     "language": "python",
     "metadata": {},
     "outputs": []
    },
    {
     "cell_type": "heading",
     "level": 4,
     "metadata": {},
     "source": [
      "Operations on Tuples"
     ]
    },
    {
     "cell_type": "code",
     "collapsed": false,
     "input": [
      "print len(t3)\n",
      "\n",
      "print \"c\" in t3\n",
      "\n",
      "for x in t3\n",
      "    print x\n"
     ],
     "language": "python",
     "metadata": {},
     "outputs": []
    },
    {
     "cell_type": "heading",
     "level": 3,
     "metadata": {},
     "source": [
      "Problem 2"
     ]
    },
    {
     "cell_type": "markdown",
     "metadata": {},
     "source": [
      "Consider the tuple:"
     ]
    },
    {
     "cell_type": "code",
     "collapsed": false,
     "input": [
      "julia = (\"Julia\", \"Roberts\", 1967, \"Duplicity\", 2009, \"Actress\", \"Atlanta, Georgia\")"
     ],
     "language": "python",
     "metadata": {},
     "outputs": []
    },
    {
     "cell_type": "markdown",
     "metadata": {},
     "source": [
      "Use tuple operations to manipulate the above tuple to get a new tuple:"
     ]
    },
    {
     "cell_type": "code",
     "collapsed": false,
     "input": [
      "(\"Julia\", \"Roberts\", 1967, \"Eat Pray Love\", 2010, \"Actress\", \"Atlanta, Georgia\")"
     ],
     "language": "python",
     "metadata": {},
     "outputs": []
    },
    {
     "cell_type": "heading",
     "level": 4,
     "metadata": {},
     "source": [
      "Solution 2"
     ]
    },
    {
     "cell_type": "code",
     "collapsed": false,
     "input": [
      "julia = julia[:3] + (\"Eat Pray Love\", 2010) + julia[5:]\n",
      "print julia"
     ],
     "language": "python",
     "metadata": {},
     "outputs": []
    },
    {
     "cell_type": "heading",
     "level": 2,
     "metadata": {},
     "source": [
      "<font color='red'>Dictionary</font>"
     ]
    },
    {
     "cell_type": "code",
     "collapsed": false,
     "input": [],
     "language": "python",
     "metadata": {},
     "outputs": []
    },
    {
     "cell_type": "markdown",
     "metadata": {},
     "source": [
      "<UL>\n",
      "<LI> An array with with text indices \n",
      "         (keys, even user-defined objects can be indices!)\n",
      "<LI> Also called hash or associative array in other languages\n",
      "<LI> Can store 'anything'\n",
      "<LI> The text index is called key \n",
      "</UL>"
     ]
    },
    {
     "cell_type": "heading",
     "level": 3,
     "metadata": {},
     "source": [
      "Initializing a Dictionary"
     ]
    },
    {
     "cell_type": "code",
     "collapsed": false,
     "input": [
      "d1 = {}    # empty dictionary"
     ],
     "language": "python",
     "metadata": {},
     "outputs": []
    },
    {
     "cell_type": "code",
     "collapsed": false,
     "input": [
      "value1 = 'Python BootCamp'\n",
      "value2 = 2016\n",
      "d2 = { 'key1' : value1, 'key2' : value2 }\n",
      "d2 = dict(key1=value1, key2=value2)"
     ],
     "language": "python",
     "metadata": {},
     "outputs": []
    },
    {
     "cell_type": "code",
     "collapsed": false,
     "input": [
      "d3['list']  = [1.2, 2.5]\n",
      "d3['tuple'] = 'a','b','c'\n",
      "d3['pi']    = 3.14159265359"
     ],
     "language": "python",
     "metadata": {},
     "outputs": []
    },
    {
     "cell_type": "heading",
     "level": 3,
     "metadata": {},
     "source": [
      "Common Operations"
     ]
    },
    {
     "cell_type": "code",
     "collapsed": false,
     "input": [
      "   d['mass']         # extract item corresp. to key 'mass\u2019\n",
      "   d.keys()          # return copy of list of keys\n",
      "   d.get('mass',1.0) # return 1.0 if 'mass' is not a key\n",
      "   d.has_key('mass') # does d have a key 'mass'?\n",
      "   d.values()        # return a list of all values in the dictionary\n",
      "   d.items()         # return list of (key,value) tuples\n",
      "   d.copy()          # create a copy of the dictionary\n",
      "   d.clear()         # remove all key/value pair from the dictionary\n",
      "   del d['mass']     # delete an item\n",
      "   len(d)            # the number of items"
     ],
     "language": "python",
     "metadata": {},
     "outputs": []
    },
    {
     "cell_type": "heading",
     "level": 3,
     "metadata": {},
     "source": [
      "Examples"
     ]
    },
    {
     "cell_type": "code",
     "collapsed": false,
     "input": [
      "# create an empty dictionary using curly brackets \n",
      "record = {}\n",
      "record['first'] = 'Jmes'\n",
      "record['last'] = 'Maxwell'\n",
      "record['born'] = 1831\n",
      "print record"
     ],
     "language": "python",
     "metadata": {},
     "outputs": []
    },
    {
     "cell_type": "code",
     "collapsed": false,
     "input": [
      "# create another dictionary with initial entries\n",
      "new_record = {'first': 'James', 'middle':'Clerk'}"
     ],
     "language": "python",
     "metadata": {},
     "outputs": []
    },
    {
     "cell_type": "code",
     "collapsed": false,
     "input": [
      "# now update the first dictionary with values from the new one\n",
      "record.update(new_record)\n",
      "print record"
     ],
     "language": "python",
     "metadata": {},
     "outputs": []
    },
    {
     "cell_type": "heading",
     "level": 3,
     "metadata": {},
     "source": [
      "Problem 3"
     ]
    },
    {
     "cell_type": "markdown",
     "metadata": {},
     "source": [
      "Consider the following dictionary"
     ]
    },
    {
     "cell_type": "code",
     "collapsed": false,
     "input": [
      "ab = {'met_opt': '3',\n",
      "      'met_grid_type': 'A',\n",
      "      'do_timinterp_met': 'F',\n",
      "      'mrnum_in': '1',\n",
      "      'met_filnam_list': 'jan2004.list',\n",
      "      'do_read_met_list': 'T',\n",
      "      'do_cycle_met': 'F',\n",
      "      'gwet_opt': '1',\n",
      "      'mdt': '10800.0'\n",
      "     }"
     ],
     "language": "python",
     "metadata": {},
     "outputs": []
    },
    {
     "cell_type": "markdown",
     "metadata": {},
     "source": [
      "<UL>\n",
      "<LI> Print the value associated with the key 'mdt'\n",
      "<LI> Print the length of the dictionary\n",
      "<LI> Add to the dictionary another key 'met_infile_num' with the corresponding value '16'\n",
      "<LI> Print the length of the dictionary\n",
      "<LI> Write a loop to only print all the keys\n",
      "<LI> Wrute a loop to only print all the values\n",
      "<LI> Write a loop to print on the same line each key and its correcponding value\n",
      "</UL>"
     ]
    },
    {
     "cell_type": "heading",
     "level": 4,
     "metadata": {},
     "source": [
      "Solution 3"
     ]
    },
    {
     "cell_type": "code",
     "collapsed": false,
     "input": [
      "print 'mdt = ', ab['mdt']\n",
      "\n",
      "print len(ab)\n",
      "\n",
      "ab['met_infile_num'] = '16'\n",
      "\n",
      "print len(ab)\n",
      "\n",
      "# Print the keys\n",
      "for key in ab:\n",
      "    print key\n",
      "\n",
      "for key in ab.iterkeys():\n",
      "    print key\n",
      "\n",
      "# Print the values\n",
      "for val in ab.itervalues():\n",
      "    print val\n",
      "\n",
      "# Print key & value\n",
      "for key, val in ab.items():\n",
      "    print key, val\n",
      "    \n",
      "for key in d:\n",
      "    print key, d[key]"
     ],
     "language": "python",
     "metadata": {},
     "outputs": []
    }
   ],
   "metadata": {}
  }
 ]
}