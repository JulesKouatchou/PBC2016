{
 "cells": [
  {
   "cell_type": "markdown",
   "metadata": {
    "slideshow": {
     "slide_type": "slide"
    }
   },
   "source": [
    "# 2016 Python 1-Day Intro\n",
    "\n",
    "---\n",
    "\n",
    "### Goddard Python User's Group  \n",
    "[pythonbootcamp@bigbang.gsfc.nasa.gov]()\n",
    "\n",
    "![NASA](http://www.nasa.gov/sites/all/themes/custom/nasatwo/images/nasa-logo.svg)\n",
    "\n",
    "### Goddard Space Flight Center\n",
    "\n",
    "#### June 23, 2016"
   ]
  },
  {
   "cell_type": "markdown",
   "metadata": {
    "slideshow": {
     "slide_type": "subslide"
    }
   },
   "source": [
    "# Who Are We?\n",
    "\n",
    "---\n",
    "\n",
    "* All Volunteers\n",
    "* Scientists, Engineers, IT Professionals\n",
    "* Varying levels of Python knowledge and experience"
   ]
  },
  {
   "cell_type": "markdown",
   "metadata": {
    "slideshow": {
     "slide_type": "fragment"
    }
   },
   "source": [
    "# Target Audience\n",
    "\n",
    "---\n",
    "\n",
    "* Beginners"
   ]
  },
  {
   "cell_type": "markdown",
   "metadata": {
    "slideshow": {
     "slide_type": "subslide"
    }
   },
   "source": [
    "# Python - Background\n",
    "\n",
    "---\n",
    "\n",
    "* > Python is an interpreted, interactive, object-oriented programming language. - [Source](http://docs.python.org/2/faq/general.html)\n",
    "* Python is named after \"Monty Python's Flying Circus\".\n",
    "* Python was created in 1991 by Guido van Rossum.\n",
    "* http://www.python.org"
   ]
  },
  {
   "cell_type": "markdown",
   "metadata": {
    "slideshow": {
     "slide_type": "slide"
    }
   },
   "source": [
    "# Setup - No Lecture\n",
    "\n",
    "---\n",
    "\n",
    "### Divide room by operating system. Help your neighbors out!\n",
    "\n",
    "* Ensure each of you are running Anaconda (Python 2.7)\n",
    "* Ensure each of you can obtain the Bootcamp's materials:\n",
    "\n",
    "    ```bash\n",
    "    git clone https://github.com/JulesKouatchou/PBC2016.git\n",
    "    ```\n",
    "\n",
    "* Ensure each of you can run a Jupyter notebook:\n",
    "\n",
    "    ```bash\n",
    "    $ jupyter notebook\n",
    "    ```\n",
    "\n",
    "* Windows:\n",
    "    * __Note:__ Use the Anaconda Bash to launch the Jupyter notebook and the Git Bash to clone the repository.\n",
    "\n",
    "[BootCamp Homepage](http://asd.gsfc.nasa.gov/conferences/pythonbootcamp/2016/)"
   ]
  },
  {
   "cell_type": "markdown",
   "metadata": {
    "slideshow": {
     "slide_type": "subslide"
    }
   },
   "source": [
    "# Contact\n",
    "\n",
    "[pythonbootcamp@bigbang.gsfc.nasa.gov]()"
   ]
  },
  {
   "cell_type": "markdown",
   "metadata": {
    "slideshow": {
     "slide_type": "slide"
    }
   },
   "source": [
    "# Python - 4 Implementations"
   ]
  },
  {
   "cell_type": "markdown",
   "metadata": {
    "slideshow": {
     "slide_type": "subslide"
    }
   },
   "source": [
    "# As a script\n",
    "\n",
    "---\n",
    "\n",
    "1. Open the helloworld.py script in your text editor.\n",
    "2. In a terminal/command prompt/Anaconda prompt, type:\n",
    "\n",
    "    ```bash\n",
    "    $ python helloworld.py\n",
    "    ```\n",
    "\n",
    "3. You should see the output.\n",
    "\n",
    "__Caveat:__ Your prompt should be at the directory containg the helloworld.py script. (Perform an ```ls``` or ```dir``` to see if that file is in your current working directory."
   ]
  },
  {
   "cell_type": "markdown",
   "metadata": {
    "slideshow": {
     "slide_type": "subslide"
    }
   },
   "source": [
    "# In the python shell\n",
    "\n",
    "---\n",
    "\n",
    "1. Open your terminal/command prompt/Anaconda prompt and type:\n",
    "\n",
    "    ```bash\n",
    "    python\n",
    "    ```\n",
    "\n",
    "2. From this interactive shell, you will notice that the prompt is ```>>>```. This is now allowing us to type Python code directly and execute it.\n",
    "3. Type:\n",
    "\n",
    "    ```python\n",
    "    print('Hello world!')\n",
    "    ```\n",
    "\n",
    "4. You will see the output directly now.\n",
    "5. Exit via __```exit()```__ or __```Cntrl-D```__."
   ]
  },
  {
   "cell_type": "markdown",
   "metadata": {
    "slideshow": {
     "slide_type": "subslide"
    }
   },
   "source": [
    "# In IPython shell\n",
    "\n",
    "---\n",
    "\n",
    "1. From terminal/command prompt/Anaconda prompt type:\n",
    "\n",
    "    ```bash\n",
    "    ipython\n",
    "    ```\n",
    "\n",
    "2. This is an enhanced interactive shell that has many features (tab-completion, woot!). It has a prompt that is numbered.\n",
    "3. Type:\n",
    "\n",
    "    ```python\n",
    "    print('Hello world!')\n",
    "    ```\n",
    "\n",
    "4. You will also see the output directly now.\n",
    "5. Exit via __```exit()```__ or __```Cntrl-D```__."
   ]
  },
  {
   "cell_type": "markdown",
   "metadata": {
    "slideshow": {
     "slide_type": "subslide"
    }
   },
   "source": [
    "# Jupyter notebook\n",
    "\n",
    "---\n",
    "\n",
    "1. From terminal/command prompt/Anaconda prompt type:\n",
    "\n",
    "    ```bash\n",
    "    jupyter notebook\n",
    "    ```\n",
    "\n",
    "2. This directs you to a web browser and you can navigate to an already existing notebook or create one (right side menu New -> Python 2).\n",
    "3. This will open up a new Untitle notebook where you can directly input Python code, Markup formatted text, or have raw text.\n",
    "4. Type:\n",
    "\n",
    "    ```python\n",
    "    print('Hello world!')\n",
    "    ```\n",
    "\n",
    "5. Press __```Shift-Enter```__ or click __Cells -> Run Cells__ or use the Play button near the top of the page.\n",
    "6. You will see the output now.\n",
    "7. Exit via closing the browser windows and stopping the server running in the terminal/command prompt."
   ]
  }
 ],
 "metadata": {
  "celltoolbar": "Slideshow",
  "kernelspec": {
   "display_name": "Python 2",
   "language": "python",
   "name": "python2"
  },
  "language_info": {
   "codemirror_mode": {
    "name": "ipython",
    "version": 2
   },
   "file_extension": ".py",
   "mimetype": "text/x-python",
   "name": "python",
   "nbconvert_exporter": "python",
   "pygments_lexer": "ipython2",
   "version": "2.7.11"
  }
 },
 "nbformat": 4,
 "nbformat_minor": 0
}
