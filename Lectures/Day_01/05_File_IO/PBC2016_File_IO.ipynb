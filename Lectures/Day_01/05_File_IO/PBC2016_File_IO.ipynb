{
 "cells": [
  {
   "cell_type": "code",
   "execution_count": null,
   "metadata": {
    "collapsed": false,
    "scrolled": true
   },
   "outputs": [],
   "source": [
    "from IPython.display import IFrame\n",
    "IFrame('http://asd.gsfc.nasa.gov/conferences/pythonbootcamp/2016', width='100%', height=350)"
   ]
  },
  {
   "cell_type": "code",
   "execution_count": null,
   "metadata": {
    "collapsed": false
   },
   "outputs": [],
   "source": [
    "from IPython.display import Image\n",
    "slide = Image(filename = 'Slide1.jpg')\n",
    "slide"
   ]
  },
  {
   "cell_type": "code",
   "execution_count": null,
   "metadata": {
    "collapsed": false
   },
   "outputs": [],
   "source": [
    "from IPython.display import Image\n",
    "slide = Image(filename = 'Slide2.jpg')\n",
    "slide"
   ]
  },
  {
   "cell_type": "code",
   "execution_count": null,
   "metadata": {
    "collapsed": false
   },
   "outputs": [],
   "source": [
    "from IPython.display import Image\n",
    "slide = Image(filename = 'Slide3.jpg')\n",
    "slide"
   ]
  },
  {
   "cell_type": "markdown",
   "metadata": {},
   "source": [
    "### Reading text files"
   ]
  },
  {
   "cell_type": "code",
   "execution_count": null,
   "metadata": {
    "collapsed": false
   },
   "outputs": [],
   "source": [
    "help(open)"
   ]
  },
  {
   "cell_type": "code",
   "execution_count": null,
   "metadata": {
    "collapsed": false,
    "slideshow": {
     "slide_type": "-"
    }
   },
   "outputs": [],
   "source": [
    "file_object = open('demo.txt','r')"
   ]
  },
  {
   "cell_type": "code",
   "execution_count": null,
   "metadata": {
    "collapsed": false,
    "scrolled": true
   },
   "outputs": [],
   "source": [
    "dir(file_object)"
   ]
  },
  {
   "cell_type": "code",
   "execution_count": null,
   "metadata": {
    "collapsed": false
   },
   "outputs": [],
   "source": [
    "print file_object.mode"
   ]
  },
  {
   "cell_type": "code",
   "execution_count": null,
   "metadata": {
    "collapsed": false,
    "slideshow": {
     "slide_type": "-"
    }
   },
   "outputs": [],
   "source": [
    "my_file = open ('demo.txt','r')\n",
    "data = my_file.read()           # read() reads the _entire_ file, returns a string object\n",
    "print (data)\n",
    "my_file.close()"
   ]
  },
  {
   "cell_type": "code",
   "execution_count": null,
   "metadata": {
    "collapsed": false
   },
   "outputs": [],
   "source": [
    "help(my_file.read)"
   ]
  },
  {
   "cell_type": "code",
   "execution_count": null,
   "metadata": {
    "collapsed": false,
    "slideshow": {
     "slide_type": "-"
    }
   },
   "outputs": [],
   "source": [
    "my_file = open('demo.txt', 'r')\n",
    "data = my_file.read(64)           # read in 64-byte chunk sizes\n",
    "print (data)\n",
    "while data != \"\":\n",
    "   data = my_file.read(64)\n",
    "   print data\n",
    "my_file.close()"
   ]
  },
  {
   "cell_type": "code",
   "execution_count": null,
   "metadata": {
    "collapsed": false,
    "slideshow": {
     "slide_type": "-"
    }
   },
   "outputs": [],
   "source": [
    "my_file = open ('demo.txt')\n",
    "data = my_file.readline()        # reads one line\n",
    "print (data)\n",
    "my_file.close()"
   ]
  },
  {
   "cell_type": "code",
   "execution_count": null,
   "metadata": {
    "collapsed": false
   },
   "outputs": [],
   "source": [
    "my_file = open ('demo.txt')\n",
    "data = my_file.readlines() # reads all the lines \n",
    "                           # returns a list\n",
    "print (data)\n",
    "my_file.close()\n"
   ]
  },
  {
   "cell_type": "markdown",
   "metadata": {},
   "source": [
    "### Exercise 1: \n",
    "Read the text file demo.txt and compute average number of bytes in each line."
   ]
  },
  {
   "cell_type": "code",
   "execution_count": null,
   "metadata": {
    "collapsed": false
   },
   "outputs": [],
   "source": [
    "# Enter your code here:\n",
    "my_file = open ('demo.txt')\n",
    "list_of_lines = my_file.readlines() # reads all the lines \n",
    "                           # returns a list - easier to post-process\n",
    "# average = sum/number\n",
    "num = 0\n",
    "sum = 0\n",
    "for line in list_of_lines: # loop over elements (lines) in list_of_lines\n",
    "    num = num + 1 # increment lines\n",
    "    sum = sum + len(line) # accumulate # of bytes in each line\n",
    "print 'Average is ', float(sum)/float(num)"
   ]
  },
  {
   "cell_type": "markdown",
   "metadata": {},
   "source": [
    "### Automatically closing files"
   ]
  },
  {
   "cell_type": "code",
   "execution_count": null,
   "metadata": {
    "collapsed": false
   },
   "outputs": [],
   "source": [
    "with open ('demo.txt', 'r') as f:\n",
    "    data = f.read()"
   ]
  },
  {
   "cell_type": "code",
   "execution_count": null,
   "metadata": {
    "collapsed": false
   },
   "outputs": [],
   "source": [
    "with open ('demo.txt', 'r') as f:\n",
    "    data = f.readline()\n",
    "    print (data)                # print adds a newline character '\\n'\n",
    "    data = f.readline()\n",
    "    print (data)"
   ]
  },
  {
   "cell_type": "markdown",
   "metadata": {},
   "source": [
    "### File position"
   ]
  },
  {
   "cell_type": "code",
   "execution_count": null,
   "metadata": {
    "collapsed": false
   },
   "outputs": [],
   "source": [
    "with open ('demo.txt') as f:\n",
    "    f.seek(5)                   # seek(offset) Changes file object's position\n",
    "    data = f.readline() \n",
    "    print (data)"
   ]
  },
  {
   "cell_type": "code",
   "execution_count": null,
   "metadata": {
    "collapsed": false
   },
   "outputs": [],
   "source": [
    "with open ('demo.txt') as f:\n",
    "    f.seek(5)\n",
    "    data = f.readline() \n",
    "    print (data)\n",
    "    k = f.tell()              # returns current position in file\n",
    "    print (k)"
   ]
  },
  {
   "cell_type": "markdown",
   "metadata": {},
   "source": [
    "### Writing text files"
   ]
  },
  {
   "cell_type": "code",
   "execution_count": null,
   "metadata": {
    "collapsed": true
   },
   "outputs": [],
   "source": [
    "with open ('newfile.txt', 'w') as f:  # creates a new file\n",
    "    f.write('Hello world!')"
   ]
  },
  {
   "cell_type": "code",
   "execution_count": null,
   "metadata": {
    "collapsed": true
   },
   "outputs": [],
   "source": [
    "with open('elements.txt', 'w') as f:\n",
    "    f.write('Noble gases:\\n')\n",
    "    f.writelines(['He\\n', 'Ne\\n', 'Ar\\n'])"
   ]
  },
  {
   "cell_type": "markdown",
   "metadata": {},
   "source": [
    "### File modes"
   ]
  },
  {
   "cell_type": "code",
   "execution_count": null,
   "metadata": {
    "collapsed": false
   },
   "outputs": [],
   "source": [
    "from IPython.display import Image\n",
    "slide = Image(filename = 'Slide4.jpg')\n",
    "slide"
   ]
  },
  {
   "cell_type": "code",
   "execution_count": null,
   "metadata": {
    "collapsed": false
   },
   "outputs": [],
   "source": [
    "with open('elements.txt', 'a+') as f:  # 'a' append mode, 'a+' appending and reading\n",
    "    contents = f.read()               \n",
    "    print 'Size (in bytes) of contents: ',len(contents)\n",
    "    print (f.tell())                   # file pointer is at EOF\n",
    "    f.write('Kr\\n')"
   ]
  },
  {
   "cell_type": "code",
   "execution_count": null,
   "metadata": {
    "collapsed": false
   },
   "outputs": [],
   "source": [
    "with open('elements.txt', 'r+') as f: # 'r+' reading and writing\n",
    "    print (f.tell())                  # file pointer is at BOF\n",
    "    f.write('Halogens:\\n')          \n",
    "    f.writelines(['F\\n', 'Cl\\n'])"
   ]
  },
  {
   "cell_type": "markdown",
   "metadata": {},
   "source": [
    "### Using print >>"
   ]
  },
  {
   "cell_type": "code",
   "execution_count": null,
   "metadata": {
    "collapsed": false
   },
   "outputs": [],
   "source": [
    "with open ('elements.txt','w') as f:\n",
    "    print >> f, 'Noble gases'        # print >> automatically adds newline\n",
    "    for gas in ['He', 'Ne', 'Ar', 'Kr']:\n",
    "        print >> f, gas"
   ]
  },
  {
   "cell_type": "code",
   "execution_count": null,
   "metadata": {
    "collapsed": false
   },
   "outputs": [],
   "source": [
    "from IPython.display import Image\n",
    "slide = Image(filename = 'Slide5.jpg')\n",
    "slide"
   ]
  },
  {
   "cell_type": "markdown",
   "metadata": {},
   "source": [
    "### Exercise 2\n",
    "Write a program that reads file 'demo.txt' and writes out a new file with the lines in reversed order (i.e. the first line in the old file becomes the last one in the new file.)"
   ]
  },
  {
   "cell_type": "code",
   "execution_count": null,
   "metadata": {
    "collapsed": false
   },
   "outputs": [],
   "source": [
    "# Enter your code here:\n",
    "with open ('demo.txt','r') as f:\n",
    "    list_of_lines = f.readlines() # reads all the lines \n",
    "                                    # returns a list - easier to post-process\n",
    "        \n",
    "reversed_list_of_lines = list_of_lines[::-1] \n",
    "# or, alternatively\n",
    "# reversed_list_of_lines = list_of_lines.reversed()\n",
    "\n",
    "with open ('reversedDemo.txt','w') as f: # note we can re-use \"f\" object\n",
    "    for line in reversed_list_of_lines: # loop over elements (lines) in list_of_lines\n",
    "        f.write(line)\n",
    "# or, simply\n",
    "#    f.writelines(reversed_list_of_lines)"
   ]
  },
  {
   "cell_type": "markdown",
   "metadata": {},
   "source": [
    "### Handling delimited files"
   ]
  },
  {
   "cell_type": "code",
   "execution_count": null,
   "metadata": {
    "collapsed": false
   },
   "outputs": [],
   "source": [
    "# import the csv module\n",
    "import csv\n",
    "f = open('grades.csv', 'rb') # NOTE: Used 'rb'\n",
    "r = csv.reader(f)            # creates reader object - holds contents of file\n",
    "for i, row in enumerate(r):\n",
    "    if i == 0:\n",
    "        continue # skips header row\n",
    "    print row    # Each row of the input data is parsed and converted to a list of strings.\n",
    "f.close()"
   ]
  },
  {
   "cell_type": "code",
   "execution_count": null,
   "metadata": {
    "collapsed": false
   },
   "outputs": [],
   "source": [
    "import csv\n",
    "import random\n",
    "with open('grades.csv', 'a') as f:\n",
    "    writer = csv.writer(f)\n",
    "    writer.writerow( ('1234','80','90','95','A') )\n",
    "\n",
    "print open('grades.csv', 'r').read()"
   ]
  },
  {
   "cell_type": "markdown",
   "metadata": {},
   "source": [
    "### Binary data IO\n",
    "When reading binary, it is important to stress that all data returned will be in the form of byte strings, not text strings."
   ]
  },
  {
   "cell_type": "code",
   "execution_count": null,
   "metadata": {
    "collapsed": false
   },
   "outputs": [],
   "source": [
    "s = \"Hello world!\"\n",
    "\n",
    "with open('foo.bin','wb') as f:\n",
    "    f.write(s)\n",
    "with open('foo.bin','r') as f:\n",
    "    s = f.read()\n",
    "print(s)\n",
    "# The differences between binary and ascii encoding won't be obvious for simple alphanumeric \n",
    "# strings, but will become important if you're processing text that includes characters not \n",
    "# in the ascii character set.\n",
    "a = \"a\"\n",
    "print(' '.join(format(ord(x), 'b') for x in a))\n",
    "print int('1100001', 2)"
   ]
  },
  {
   "cell_type": "code",
   "execution_count": null,
   "metadata": {
    "collapsed": false
   },
   "outputs": [],
   "source": [
    "with open('cat.jpg', 'rb') as f:\n",
    "    data = f.readline()\n",
    "print (data)"
   ]
  },
  {
   "cell_type": "code",
   "execution_count": null,
   "metadata": {
    "collapsed": false
   },
   "outputs": [],
   "source": [
    "with open('cat.jpg', 'rb') as f:\n",
    "    data = f.read()\n",
    " \n",
    "    if data.startswith(b'\\xff\\xd8'):\n",
    "        info = 'This is a jpeg file (%d bytes long)'\n",
    "    else:\n",
    "        info = 'This is a random file (%d bytes long)'\n",
    "\n",
    "    print (info % len(data))"
   ]
  },
  {
   "cell_type": "code",
   "execution_count": null,
   "metadata": {
    "collapsed": false
   },
   "outputs": [],
   "source": [
    "from IPython.display import Image\n",
    "kitty = Image(filename = 'cat.jpg')\n",
    "kitty"
   ]
  },
  {
   "cell_type": "markdown",
   "metadata": {
    "slideshow": {
     "slide_type": "fragment"
    }
   },
   "source": [
    "### Python object serialization\n",
    "\n",
    "The pickle module turns an arbitrary Python object into a series of bytes. This process is also called serialization. \n",
    "  - Useful for storing data\n",
    "  - Inter process communication"
   ]
  },
  {
   "cell_type": "code",
   "execution_count": null,
   "metadata": {
    "collapsed": false
   },
   "outputs": [],
   "source": [
    "# import the pickle module\n",
    "import pickle\n",
    "\n",
    "data1 = [ { 'a':'A', 'b':2, 'c':3.0 } ]\n",
    "print 'DATA:',\n",
    "print(data1)\n",
    "\n",
    "# Use pickle.dumps() to create a string representation of the value of the object.\n",
    "data_string = pickle.dumps(data1)\n",
    "print 'PICKLE:', data_string\n",
    "# By default, the pickle will contain only ASCII characters. "
   ]
  },
  {
   "cell_type": "code",
   "execution_count": null,
   "metadata": {
    "collapsed": false
   },
   "outputs": [],
   "source": [
    "# Once the data is serialized, you can write it to a file, socket, pipe, etc. \n",
    "# Then later you can read the file and unpickle the data to construct a new \n",
    "# object with the same values.\n",
    "data1 = [ { 'a':'A', 'b':2, 'c':3.0 } ]\n",
    "print 'BEFORE:',\n",
    "print(data1)\n",
    "\n",
    "data2 = pickle.loads(data_string)\n",
    "print 'AFTER:',\n",
    "print(data2)\n",
    "\n",
    "print 'EQUAL?:', (data1 == data2)\n",
    "print 'SAME ?:', (data1 is data2)\n"
   ]
  },
  {
   "cell_type": "code",
   "execution_count": null,
   "metadata": {
    "collapsed": false
   },
   "outputs": [],
   "source": [
    "import pickle\n",
    "with open('pickledData.bin', 'wb') as f:\n",
    "    pickle.dump(data1, f)\n",
    "with open('pickledData.bin', 'rb') as f:\n",
    "    data2 = pickle.load(f)\n",
    "print 'Data:',\n",
    "print(data1)\n",
    "print 'EQUAL?:', (data1 == data2)"
   ]
  },
  {
   "cell_type": "markdown",
   "metadata": {},
   "source": [
    "### OS dependent functions"
   ]
  },
  {
   "cell_type": "code",
   "execution_count": null,
   "metadata": {
    "collapsed": true
   },
   "outputs": [],
   "source": [
    "import shutil\n",
    "shutil.copy('cat.jpg',' catcopy.jpg')"
   ]
  },
  {
   "cell_type": "code",
   "execution_count": null,
   "metadata": {
    "collapsed": false
   },
   "outputs": [],
   "source": [
    "# FILE TESTING\n",
    "# You need to test whether or not a file or directory exists.\n",
    "import os\n",
    "print os.path.exists('/etc/passwd')\n",
    "print os.path.exists('/etc/spam')"
   ]
  },
  {
   "cell_type": "code",
   "execution_count": null,
   "metadata": {
    "collapsed": false
   },
   "outputs": [],
   "source": [
    "filename = '/etc/spam'\n",
    "if os.path.exists(filename):\n",
    "    with open(filename) as f:\n",
    "        data = f.readline()\n",
    "    print data    \n",
    "else:\n",
    "    print (filename + ' does not exist')"
   ]
  },
  {
   "cell_type": "code",
   "execution_count": null,
   "metadata": {
    "collapsed": false
   },
   "outputs": [],
   "source": [
    "print os.path.isfile('/etc/passwd')\n",
    "print os.path.isdir('/etc/passwd')\n",
    "print os.path.islink('python')\n",
    "print os.path.realpath('python')\n",
    "print os.path.getsize('/etc/passwd')"
   ]
  },
  {
   "cell_type": "code",
   "execution_count": null,
   "metadata": {
    "collapsed": true
   },
   "outputs": [],
   "source": [
    "# Python os module provides methods that help you perform file-processing operations, \n",
    "# such as renaming and deleting files."
   ]
  },
  {
   "cell_type": "code",
   "execution_count": null,
   "metadata": {
    "collapsed": false
   },
   "outputs": [],
   "source": [
    "listdir =  os.listdir(\".\")\n",
    "for file in listdir:\n",
    "   print file"
   ]
  },
  {
   "cell_type": "code",
   "execution_count": null,
   "metadata": {
    "collapsed": false
   },
   "outputs": [],
   "source": [
    "# Rename a file\n",
    "shutil.copy('demo.txt','demo.txt.save')\n",
    "os.rename( 'demo.txt', 'ep7intro.txt' )"
   ]
  },
  {
   "cell_type": "code",
   "execution_count": null,
   "metadata": {
    "collapsed": false
   },
   "outputs": [],
   "source": [
    "# Delete file\n",
    "os.remove('ep7intro.txt')\n",
    "shutil.copy('demo.txt.save',' demo.txt')"
   ]
  },
  {
   "cell_type": "code",
   "execution_count": null,
   "metadata": {
    "collapsed": false
   },
   "outputs": [],
   "source": [
    "# Create a directory \"test\"\n",
    "os.mkdir(\"newdir\")\n",
    "os.chdir(\"newdir\")\n",
    "print os.getcwd()"
   ]
  },
  {
   "cell_type": "code",
   "execution_count": null,
   "metadata": {
    "collapsed": false
   },
   "outputs": [],
   "source": [
    "os.chdir(\"..\")\n",
    "print os.getcwd()"
   ]
  },
  {
   "cell_type": "code",
   "execution_count": null,
   "metadata": {
    "collapsed": true
   },
   "outputs": [],
   "source": [
    "os.rmdir(\"newdir\")"
   ]
  },
  {
   "cell_type": "code",
   "execution_count": null,
   "metadata": {
    "collapsed": false
   },
   "outputs": [],
   "source": [
    "import os\n",
    "print os.environ['HOME']"
   ]
  }
 ],
 "metadata": {
  "celltoolbar": "Slideshow",
  "kernelspec": {
   "display_name": "Python 2",
   "language": "python",
   "name": "python2"
  },
  "language_info": {
   "codemirror_mode": {
    "name": "ipython",
    "version": 2
   },
   "file_extension": ".py",
   "mimetype": "text/x-python",
   "name": "python",
   "nbconvert_exporter": "python",
   "pygments_lexer": "ipython2",
   "version": "2.7.11"
  }
 },
 "nbformat": 4,
 "nbformat_minor": 0
}
