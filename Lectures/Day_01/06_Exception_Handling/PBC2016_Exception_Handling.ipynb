{
 "cells": [
  {
   "cell_type": "code",
   "execution_count": null,
   "metadata": {
    "collapsed": false
   },
   "outputs": [],
   "source": [
    "from IPython.display import Image\n",
    "slide = Image(filename = 'Slide1.jpg')\n",
    "slide"
   ]
  },
  {
   "cell_type": "code",
   "execution_count": null,
   "metadata": {
    "collapsed": false
   },
   "outputs": [],
   "source": [
    "from IPython.display import Image\n",
    "slide = Image(filename = 'Slide2.jpg')\n",
    "slide"
   ]
  },
  {
   "cell_type": "code",
   "execution_count": null,
   "metadata": {
    "collapsed": false
   },
   "outputs": [],
   "source": [
    "from IPython.display import Image\n",
    "slide = Image(filename = 'Slide3.jpg')\n",
    "slide"
   ]
  },
  {
   "cell_type": "markdown",
   "metadata": {},
   "source": [
    "### An exception is an error that happens during the execution of a program."
   ]
  },
  {
   "cell_type": "code",
   "execution_count": null,
   "metadata": {
    "collapsed": false,
    "scrolled": true
   },
   "outputs": [],
   "source": [
    "from IPython.display import Image\n",
    "slide = Image(filename = 'Slide4.jpg')\n",
    "slide"
   ]
  },
  {
   "cell_type": "markdown",
   "metadata": {},
   "source": [
    "### Common exceptions "
   ]
  },
  {
   "cell_type": "code",
   "execution_count": null,
   "metadata": {
    "collapsed": false
   },
   "outputs": [],
   "source": [
    "a = b + 1  # syntactically correct\n",
    "print a  # raises an exception"
   ]
  },
  {
   "cell_type": "code",
   "execution_count": null,
   "metadata": {
    "collapsed": false,
    "scrolled": true
   },
   "outputs": [],
   "source": [
    "x = 0   # syntactically correct\n",
    "y = 1/x # raises an exception"
   ]
  },
  {
   "cell_type": "code",
   "execution_count": null,
   "metadata": {
    "collapsed": false,
    "scrolled": true
   },
   "outputs": [],
   "source": [
    "hello_in = {\"spa\":\"hola\",\"eng\":\"hello\",\"fre\":\"bonjour\",\"ita\":\"ciao\",\"ger\":\"hallo\"}\n",
    "print 'hello in spanish: ' + hello_in[\"spa\"]\n",
    "print 'hello in french: ' + hello_in[\"fre\"]\n",
    "print 'hello in portuguese: ' + hello_in[\"por\"] # raises an exception"
   ]
  },
  {
   "cell_type": "markdown",
   "metadata": {
    "collapsed": true
   },
   "source": [
    "### Exception handling\n",
    "\n",
    "In python we use the try...except statement\n"
   ]
  },
  {
   "cell_type": "code",
   "execution_count": null,
   "metadata": {
    "collapsed": false
   },
   "outputs": [],
   "source": [
    "try:                                                      # required keyword\n",
    "    print '< Try: Block of code that harbors the risk of an exception >' # exception raised in this block\n",
    "except:                                                   # required keyword\n",
    "    print '*** There was a runtime error ***'             # exception is caught here\n",
    "else:                                                     # optional keyword\n",
    "    print '< Else: There was no exception >'\n",
    "finally:                                                  # optional keyword\n",
    "    print '< Finally: Exception handling is finished >'\n",
    "print '<We are outside the try statement>'"
   ]
  },
  {
   "cell_type": "code",
   "execution_count": null,
   "metadata": {
    "collapsed": false
   },
   "outputs": [],
   "source": [
    "try:\n",
    "    user_input = raw_input('Enter a number: ')                     # input is a string\n",
    "    n = int(user_input)\n",
    "    print 'If there is an exception then the code will never gets to this line.'\n",
    "except:                              # handles any kind of exception\n",
    "    print 'There was an exception'\n",
    "else:\n",
    "    print 'The square of the number is {}'.format(n*n)\n",
    "finally:\n",
    "    print 'Exception handling is finished'"
   ]
  },
  {
   "cell_type": "code",
   "execution_count": null,
   "metadata": {
    "collapsed": false
   },
   "outputs": [],
   "source": [
    "try:\n",
    "    user_input = raw_input('Enter a number: ')                     # input is a string\n",
    "    n = int(user_input)\n",
    "except Exception, err:\n",
    "    print 'There was an exception: {}'.format(err)\n",
    "else:\n",
    "    print 'The square of the number is {}'.format(n*n)\n",
    "finally:\n",
    "    print 'Exception handling is finished'"
   ]
  },
  {
   "cell_type": "code",
   "execution_count": null,
   "metadata": {
    "collapsed": false
   },
   "outputs": [],
   "source": [
    "try:\n",
    "    user_input = raw_input('Enter a number: ')                     # input is a string\n",
    "    n = int(user_input)\n",
    "except Exception(ValueError):                                      # Provides a traceback\n",
    "    print 'There was an exception:'\n",
    "else:\n",
    "    print 'The square of the number is {}'.format(n*n)\n",
    "finally:\n",
    "    print 'Exception handling is finished'"
   ]
  },
  {
   "cell_type": "code",
   "execution_count": null,
   "metadata": {
    "collapsed": false
   },
   "outputs": [],
   "source": [
    "n = raw_input(\"Please enter a number: \")\n",
    "try:\n",
    "    x = float(n)\n",
    "    y = 1/x\n",
    "except Exception(ZeroDivisionError):\n",
    "    print 'Cannot divide by zero'\n",
    "except Exception(ValueError):\n",
    "    print 'Cannot convert input to float'\n",
    "else:                   \n",
    "    print 'y is ',y\n",
    "finally:                \n",
    "    print 'Done'"
   ]
  },
  {
   "cell_type": "markdown",
   "metadata": {},
   "source": [
    "### IOError exceptions"
   ]
  },
  {
   "cell_type": "code",
   "execution_count": null,
   "metadata": {
    "collapsed": false
   },
   "outputs": [],
   "source": [
    "with open ('nonEx.txt', 'r') as f:\n",
    "   data = my_file.readlines()"
   ]
  },
  {
   "cell_type": "code",
   "execution_count": null,
   "metadata": {
    "collapsed": false
   },
   "outputs": [],
   "source": [
    "try:\n",
    "    with open ('demo.txt', 'r') as f:\n",
    "        data = f.readline()\n",
    "except IOError:\n",
    "    print 'File does not exist'\n",
    "else:\n",
    "    print data"
   ]
  },
  {
   "cell_type": "markdown",
   "metadata": {},
   "source": [
    "### Manually throw an exception\n",
    "use the most specific Exception constructor that semantically fits your issue."
   ]
  },
  {
   "cell_type": "code",
   "execution_count": null,
   "metadata": {
    "collapsed": false
   },
   "outputs": [],
   "source": [
    "def afun():\n",
    "    try:\n",
    "        do_something()\n",
    "    except Exception as e:\n",
    "        raise Exception(e) #re-raise the exact same exception that was thrown\n",
    "\n",
    "try:\n",
    "    afun()\n",
    "except:\n",
    "    print 'There was an exception in function afun()'"
   ]
  },
  {
   "cell_type": "markdown",
   "metadata": {},
   "source": [
    "### Exercise\n",
    "Add a try-except statement to handle a possible IndexError when calling the function print_list_element. The error would occur if the index provided exceeds the length of the list. Print an informative error message if that happens and exclude the python traceback"
   ]
  },
  {
   "cell_type": "code",
   "execution_count": null,
   "metadata": {
    "collapsed": false
   },
   "outputs": [],
   "source": [
    "# Uncomment lines and add your solution\n",
    "def print_list_element(thelist, index):\n",
    "    print(thelist[index])\n",
    "    \n",
    "# create a list variable here\n",
    "alist = ['a','b','c']\n",
    "try:\n",
    "    # call function here\n",
    "    print_list_element(alist, 0) # should print 'a'\n",
    "    print_list_element(alist, 2) # should print 'c'\n",
    "    print_list_element(alist, 5) # should raise exception\n",
    "except (IndexError): # modify as needed\n",
    "    # print informative error message here\n",
    "    print 'Index is out of range, use index <= {}'.format(len(alist)-1)"
   ]
  }
 ],
 "metadata": {
  "kernelspec": {
   "display_name": "Python 2",
   "language": "python",
   "name": "python2"
  },
  "language_info": {
   "codemirror_mode": {
    "name": "ipython",
    "version": 2
   },
   "file_extension": ".py",
   "mimetype": "text/x-python",
   "name": "python",
   "nbconvert_exporter": "python",
   "pygments_lexer": "ipython2",
   "version": "2.7.11"
  }
 },
 "nbformat": 4,
 "nbformat_minor": 0
}
