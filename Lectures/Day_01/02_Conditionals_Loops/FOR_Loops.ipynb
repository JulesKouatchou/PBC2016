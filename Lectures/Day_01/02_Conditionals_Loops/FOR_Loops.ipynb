{
 "metadata": {
  "name": "",
  "signature": "sha256:dc87c08bd2dcda31946860c07c75ecded50f329333cea2624715dd4640f393a8"
 },
 "nbformat": 3,
 "nbformat_minor": 0,
 "worksheets": [
  {
   "cells": [
    {
     "cell_type": "heading",
     "level": 1,
     "metadata": {},
     "source": [
      "For Loops"
     ]
    },
    {
     "cell_type": "markdown",
     "metadata": {},
     "source": [
      "For loops iterate over a sequence of objects"
     ]
    },
    {
     "cell_type": "code",
     "collapsed": false,
     "input": [
      "for <loop_var> in <sequence>:\n",
      "    <statements>"
     ],
     "language": "python",
     "metadata": {},
     "outputs": []
    },
    {
     "cell_type": "heading",
     "level": 3,
     "metadata": {},
     "source": [
      "Example 1:"
     ]
    },
    {
     "cell_type": "markdown",
     "metadata": {},
     "source": [
      "for i in range(5):\n",
      "    print i,"
     ]
    },
    {
     "cell_type": "heading",
     "level": 3,
     "metadata": {},
     "source": [
      "Example 2:"
     ]
    },
    {
     "cell_type": "markdown",
     "metadata": {},
     "source": [
      "for i in \"abcde\":\n",
      "    print i,"
     ]
    },
    {
     "cell_type": "heading",
     "level": 3,
     "metadata": {},
     "source": [
      "Example 3:"
     ]
    },
    {
     "cell_type": "markdown",
     "metadata": {},
     "source": [
      "l=[\"dogs\",\"cats\",\"bears\"]\n",
      "accum = \" \"\n",
      "for item in l:\n",
      "    accum = accum + item\n",
      "    accum = accum + \" \"\n",
      "print accum"
     ]
    },
    {
     "cell_type": "heading",
     "level": 3,
     "metadata": {},
     "source": [
      "Problem 1:"
     ]
    },
    {
     "cell_type": "markdown",
     "metadata": {},
     "source": [
      "Assume that you have the an iterative object G = [100, 60, 75, 85, 92, 87, 81, 78, 67].\n",
      "We want to find the sum of the numbers."
     ]
    },
    {
     "cell_type": "code",
     "collapsed": false,
     "input": [],
     "language": "python",
     "metadata": {},
     "outputs": []
    },
    {
     "cell_type": "heading",
     "level": 1,
     "metadata": {},
     "source": [
      "While_Loop"
     ]
    },
    {
     "cell_type": "code",
     "collapsed": false,
     "input": [
      "while <condition>:\n",
      "      <statements>"
     ],
     "language": "python",
     "metadata": {},
     "outputs": []
    },
    {
     "cell_type": "heading",
     "level": 3,
     "metadata": {},
     "source": [
      "Example 1:"
     ]
    },
    {
     "cell_type": "code",
     "collapsed": false,
     "input": [
      "lst = range(3)\n",
      "while lst:\n",
      "      print lst\n",
      "      lst = lst[1:]"
     ],
     "language": "python",
     "metadata": {},
     "outputs": []
    },
    {
     "cell_type": "heading",
     "level": 3,
     "metadata": {},
     "source": [
      "Example 2:"
     ]
    },
    {
     "cell_type": "code",
     "collapsed": false,
     "input": [
      "i = 0\n",
      "while 1:\n",
      "      if i < 3:\n",
      "         print i,\n",
      "      else:\n",
      "         break\n",
      "      i = i + 1"
     ],
     "language": "python",
     "metadata": {},
     "outputs": []
    },
    {
     "cell_type": "heading",
     "level": 3,
     "metadata": {},
     "source": [
      "Example 3"
     ]
    },
    {
     "cell_type": "code",
     "collapsed": false,
     "input": [
      "#----------------------------------------\n",
      "# Plays the guessing game higher or lower \n",
      "#----------------------------------------\n",
      "#\n",
      "# (originally written by Josh Cogliati, improved by Quique, now improved\n",
      "# by Sanjith, further improved by VorDd, with continued improvement from\n",
      "# the various Wikibooks contributors.)\n",
      "\n",
      " \n",
      "answer = 23\n",
      "question = 'What number am I thinking of?  '\n",
      "print 'Let\\'s play the guessing game!'\n",
      "\n",
      "while True:\n",
      "    guess = int(input(question))\n",
      "\n",
      "    if guess < answer:\n",
      "        print 'Little higher'\n",
      "    elif guess > answer:\n",
      "        print 'Little lower'\n",
      "    else: # guess == answer\n",
      "        print 'You are a MINDREADER!!!'\n",
      "        break"
     ],
     "language": "python",
     "metadata": {},
     "outputs": []
    },
    {
     "cell_type": "heading",
     "level": 3,
     "metadata": {},
     "source": [
      "Example 4"
     ]
    },
    {
     "cell_type": "code",
     "collapsed": false,
     "input": [
      "#----------------\n",
      "# Password script\n",
      "#----------------\n",
      "\n",
      "print '''\n",
      "=====================================\n",
      "You are asked to enter your password.\n",
      "You only have three attempts.\n",
      "=====================================\n",
      "'''\n",
      "\n",
      "mypass = 'Rolland'\n",
      "\n",
      "running = True\n",
      "n = 0\n",
      "while running:\n",
      "    pword = raw_input('Enter your password: ')\n",
      "\n",
      "    n += 1\n",
      "\n",
      "    if (pword == mypass):\n",
      "        print '   You are now login '\n",
      "        running = False\n",
      "    else:\n",
      "        print '   Please try again'\n",
      "        if (n == 3):\n",
      "            print \"You already had three attempts\"\n",
      "            print \"Please contact the system administrator\"\n",
      "            break\n",
      "\n"
     ],
     "language": "python",
     "metadata": {},
     "outputs": []
    },
    {
     "cell_type": "code",
     "collapsed": false,
     "input": [],
     "language": "python",
     "metadata": {},
     "outputs": []
    }
   ],
   "metadata": {}
  }
 ]
}