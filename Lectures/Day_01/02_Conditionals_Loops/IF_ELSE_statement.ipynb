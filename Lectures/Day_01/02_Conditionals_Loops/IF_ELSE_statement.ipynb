{
 "metadata": {
  "name": "",
  "signature": "sha256:52cbeca738c70cd4d666e6910af56f97707e430762011af13b1bb04658cb4f5f"
 },
 "nbformat": 3,
 "nbformat_minor": 0,
 "worksheets": [
  {
   "cells": [
    {
     "cell_type": "heading",
     "level": 1,
     "metadata": {},
     "source": [
      "If Statements"
     ]
    },
    {
     "cell_type": "code",
     "collapsed": false,
     "input": [
      "if <conditions>:\n",
      "   <statements>\n",
      "elif <conditions>:\n",
      "   <statements>\n",
      "else:\n",
      "   <statements>"
     ],
     "language": "python",
     "metadata": {},
     "outputs": []
    },
    {
     "cell_type": "heading",
     "level": 3,
     "metadata": {},
     "source": [
      "Example 1:"
     ]
    },
    {
     "cell_type": "code",
     "collapsed": false,
     "input": [
      "x = 10\n",
      "if x > 0:\n",
      "   print 1\n",
      "elif x == 0:\n",
      "   print 0\n",
      "else:\n",
      "   print \u20131"
     ],
     "language": "python",
     "metadata": {},
     "outputs": []
    },
    {
     "cell_type": "heading",
     "level": 3,
     "metadata": {},
     "source": [
      "Problem 1:"
     ]
    },
    {
     "cell_type": "markdown",
     "metadata": {},
     "source": [
      "Assume that we want to find if a student passes a class or not:\n",
      "<UL>\n",
      "   <LI> If grade greater than 60 then PASS,\n",
      "   <LI> Otherwhise, FAIL.\n",
      "</UL>\n",
      "Given a grade (number between 0 and 100), write a code that determines if it is a passing grade or not."
     ]
    },
    {
     "cell_type": "code",
     "collapsed": false,
     "input": [],
     "language": "python",
     "metadata": {},
     "outputs": []
    },
    {
     "cell_type": "heading",
     "level": 3,
     "metadata": {},
     "source": [
      "Problem 2:"
     ]
    },
    {
     "cell_type": "markdown",
     "metadata": {},
     "source": [
      "Assume that we now want to determine the letter grade based on the number grade:\n",
      "<UL>\n",
      "<LI> At most 59: F\n",
      "<LI> Between 60 and 69: D\n",
      "<LI> Between 70 and 79: C\n",
      "<LI> Between 80 and 89: B\n",
      "<LI> At least 90: A\n",
      "</UL>"
     ]
    },
    {
     "cell_type": "code",
     "collapsed": false,
     "input": [],
     "language": "python",
     "metadata": {},
     "outputs": []
    }
   ],
   "metadata": {}
  }
 ]
}