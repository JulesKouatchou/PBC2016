{
 "cells": [
  {
   "cell_type": "markdown",
   "metadata": {
    "slideshow": {
     "slide_type": "slide"
    }
   },
   "source": [
    "# Conditionals and Loops\n",
    "\n",
    "---\n",
    "\n",
    "Terri Brandt and Brent Smith, __2016 GSFC Python Bootcamp__  \n",
    "[t.j.brandt@nasa.gov](), [brent.smith@nasa.gov]()"
   ]
  },
  {
   "cell_type": "markdown",
   "metadata": {
    "slideshow": {
     "slide_type": "skip"
    }
   },
   "source": [
    "# Wait, What is this?"
   ]
  },
  {
   "cell_type": "markdown",
   "metadata": {
    "slideshow": {
     "slide_type": "slide"
    }
   },
   "source": [
    "### Jupyter Notebook (Quick Intro)\n",
    "\n",
    "This is another way to program in Python, via the Jupyter Notebook. You can launch one by __(note: make sure you are in the correct directory)__ the command:"
   ]
  },
  {
   "cell_type": "markdown",
   "metadata": {
    "slideshow": {
     "slide_type": "fragment"
    }
   },
   "source": [
    "`jupyter notebook`"
   ]
  },
  {
   "cell_type": "markdown",
   "metadata": {
    "slideshow": {
     "slide_type": "fragment"
    }
   },
   "source": [
    "This launches a visual interactive Python (or as it used to be called, IPython) session through your default web browser. "
   ]
  },
  {
   "cell_type": "markdown",
   "metadata": {
    "slideshow": {
     "slide_type": "slide"
    }
   },
   "source": [
    "### Conditional Logic\n",
    "\n",
    "---\n",
    "\n",
    "Programs, including those written in Python, are interpreted in a top-down fashion line-by-line. For the simplest of programs, there is only one course of action."
   ]
  },
  {
   "cell_type": "markdown",
   "metadata": {
    "slideshow": {
     "slide_type": "fragment"
    }
   },
   "source": [
    "Start.  "
   ]
  },
  {
   "cell_type": "markdown",
   "metadata": {
    "slideshow": {
     "slide_type": "fragment"
    }
   },
   "source": [
    "Step 1.  "
   ]
  },
  {
   "cell_type": "markdown",
   "metadata": {
    "slideshow": {
     "slide_type": "fragment"
    }
   },
   "source": [
    "Step 2.  "
   ]
  },
  {
   "cell_type": "markdown",
   "metadata": {
    "slideshow": {
     "slide_type": "fragment"
    }
   },
   "source": [
    "and so on."
   ]
  },
  {
   "cell_type": "markdown",
   "metadata": {
    "slideshow": {
     "slide_type": "subslide"
    }
   },
   "source": [
    "As programs become more complex, we typically need to include actions that depend upon the current values of variables. In this section, we will look at these decisions in simple True/False evaluations. The testing of these values are what we refer to as conditional statements."
   ]
  },
  {
   "cell_type": "markdown",
   "metadata": {
    "slideshow": {
     "slide_type": "fragment"
    }
   },
   "source": [
    "![traffic lights](http://imgs.xkcd.com/comics/traffic_lights.gif)\n",
    "Image Credit: [http://xkcd.com/1116](http://xkcd.com/1116)"
   ]
  },
  {
   "cell_type": "markdown",
   "metadata": {
    "slideshow": {
     "slide_type": "subslide"
    }
   },
   "source": [
    "### the `if` statement\n",
    "\n",
    "---"
   ]
  },
  {
   "cell_type": "markdown",
   "metadata": {
    "slideshow": {
     "slide_type": "fragment"
    }
   },
   "source": [
    "![flowchart](http://imgs.xkcd.com/comics/flowchart.png)  \n",
    "Image Credit: [http://xkcd.com/1195](http://xkcd.com/1195)"
   ]
  },
  {
   "cell_type": "code",
   "execution_count": 7,
   "metadata": {
    "collapsed": false,
    "slideshow": {
     "slide_type": "fragment"
    }
   },
   "outputs": [
    {
     "name": "stdout",
     "output_type": "stream",
     "text": [
      "Hi there. I am True.\n"
     ]
    }
   ],
   "source": [
    "a=1\n",
    "b=0\n",
    "if a>b:\n",
    "    print('Hi there. I am True.')"
   ]
  },
  {
   "cell_type": "code",
   "execution_count": 8,
   "metadata": {
    "collapsed": false,
    "slideshow": {
     "slide_type": "fragment"
    }
   },
   "outputs": [
    {
     "name": "stdout",
     "output_type": "stream",
     "text": [
      "Hi there. I am True.\n"
     ]
    }
   ],
   "source": [
    "if True:\n",
    "    print('Hi there. I am True.')"
   ]
  },
  {
   "cell_type": "markdown",
   "metadata": {
    "slideshow": {
     "slide_type": "subslide"
    }
   },
   "source": [
    "#### the `if`-`else` statement\n",
    "\n",
    "---"
   ]
  },
  {
   "cell_type": "code",
   "execution_count": 9,
   "metadata": {
    "collapsed": false,
    "slideshow": {
     "slide_type": "fragment"
    }
   },
   "outputs": [
    {
     "name": "stdout",
     "output_type": "stream",
     "text": [
      "Oh no! I am actually True.\n"
     ]
    }
   ],
   "source": [
    "if False:\n",
    "    print('Hi there. I am False.')\n",
    "else:\n",
    "    print('Oh no! I am actually True.')"
   ]
  },
  {
   "cell_type": "markdown",
   "metadata": {
    "slideshow": {
     "slide_type": "fragment"
    }
   },
   "source": [
    "__Note:__ You can only have an `else` statement if you have a preceding `if` statement.\n",
    "\n",
    "---"
   ]
  },
  {
   "cell_type": "markdown",
   "metadata": {
    "slideshow": {
     "slide_type": "fragment"
    }
   },
   "source": [
    "But, what if we wanted more choices?"
   ]
  },
  {
   "cell_type": "markdown",
   "metadata": {
    "slideshow": {
     "slide_type": "subslide"
    }
   },
   "source": [
    "### the `elif` statement\n",
    "\n",
    "---\n",
    "\n",
    "elif statements allow us to add more choices. Like, more toppings on a pizza is always a good thing."
   ]
  },
  {
   "cell_type": "code",
   "execution_count": 10,
   "metadata": {
    "collapsed": false,
    "slideshow": {
     "slide_type": "fragment"
    }
   },
   "outputs": [
    {
     "name": "stdout",
     "output_type": "stream",
     "text": [
      "But, now I am True.\n"
     ]
    }
   ],
   "source": [
    "if False:\n",
    "    print('Hi there. I am True.')\n",
    "elif True:\n",
    "    print('But, now I am True.')\n",
    "# elif...\n",
    "# elif...\n",
    "# elif...\n",
    "else:\n",
    "    print('Oh no! I am actually False.')"
   ]
  },
  {
   "cell_type": "markdown",
   "metadata": {
    "slideshow": {
     "slide_type": "subslide"
    }
   },
   "source": [
    "### Conditional Testing\n",
    "\n",
    "---"
   ]
  },
  {
   "cell_type": "markdown",
   "metadata": {
    "slideshow": {
     "slide_type": "fragment"
    }
   },
   "source": [
    "There are various ways to insert booleans:\n",
    "\n",
    "- True/False\n",
    "- variables (i.e. the value of variable)\n",
    "- Numbers (1 is True; 0 is False)\n",
    "- Empty objects (you will learn more about these later; [], {}, None, '')\n",
    "- Comparisons between things:\n",
    "    - 1 > 2\n",
    "    - 1 == 2\n",
    "    - 1 >= 2\n",
    "    - 1 != 2\n",
    "    - 1 is 2 (be careful! this looks at the memory id of the object)\n",
    "    - 1 is not 2\n",
    "    - 1 in 2 (works only in lists, strings, and other iterable objects)\n",
    "- Evalueated values (1 + 2)"
   ]
  },
  {
   "cell_type": "markdown",
   "metadata": {
    "slideshow": {
     "slide_type": "fragment"
    }
   },
   "source": [
    "__Note:__ [Operator Precedence](http://docs.python.org/2.7/reference/expressions.html#operator-precedence)"
   ]
  },
  {
   "cell_type": "markdown",
   "metadata": {
    "slideshow": {
     "slide_type": "subslide"
    }
   },
   "source": [
    "## Breakout\n",
    "\n",
    "---\n",
    "\n",
    "We're going to create a simple traffic light with three options: Red, Yellow, and Green. Create three variables to store which lights are on. These variables will hold only True/False values, or you can get creative with the conditions you put in them.\n",
    "\n",
    "After setting the three variables, write one conditional per light to test the values of these and print out the street light as such:\n",
    "\n",
    "Red: Off\n",
    "\n",
    "Yellow: Off\n",
    "\n",
    "Green: On\n",
    "\n",
    "Don't worry about formatting either. As long as you can tell which ones are off/on, that's sufficient.\n",
    "\n",
    "It's a simple interface, but you can easily get more creative with this application.\n",
    "\n",
    "For instance, what if you named the variables top, middle, and bottom and still want to print out the color names, as before?"
   ]
  },
  {
   "cell_type": "markdown",
   "metadata": {
    "slideshow": {
     "slide_type": "subslide"
    }
   },
   "source": [
    "### Combining conditionals\n",
    "\n",
    "---"
   ]
  },
  {
   "cell_type": "markdown",
   "metadata": {
    "slideshow": {
     "slide_type": "fragment"
    }
   },
   "source": [
    "You can combine Boolean logic as well! With the words `and` or `or`, you can have even more complex logic built in. But remember, just like math, there is [Operator Precedence](http://docs.python.org/2.7/reference/expressions.html#operator-precedence)."
   ]
  },
  {
   "cell_type": "code",
   "execution_count": 11,
   "metadata": {
    "collapsed": false,
    "slideshow": {
     "slide_type": "fragment"
    }
   },
   "outputs": [
    {
     "name": "stdout",
     "output_type": "stream",
     "text": [
      "Combined logic is fun!\n"
     ]
    }
   ],
   "source": [
    "if (1 != 2) or False:\n",
    "    print('Combined logic is fun!')"
   ]
  },
  {
   "cell_type": "markdown",
   "metadata": {
    "slideshow": {
     "slide_type": "slide"
    }
   },
   "source": [
    "### Iterative Programming\n",
    "\n",
    "---"
   ]
  },
  {
   "cell_type": "markdown",
   "metadata": {
    "slideshow": {
     "slide_type": "fragment"
    }
   },
   "source": [
    "![Point to the board.](http://www.thedoghousediaries.com/dhdcomics/2011-03-28-e1660dc.png)"
   ]
  },
  {
   "cell_type": "markdown",
   "metadata": {
    "slideshow": {
     "slide_type": "subslide"
    }
   },
   "source": [
    "### Purpose\n",
    "\n",
    "The purpose of iterative programming, i.e., loops, is to remove redundant code. It does not replace the functionality of the code; rather, it makes a programmer's life easier.\n",
    "\n",
    "---"
   ]
  },
  {
   "cell_type": "markdown",
   "metadata": {
    "slideshow": {
     "slide_type": "fragment"
    }
   },
   "source": [
    "##### Example\n",
    "\n",
    "Add 1 four times to iteself.\n",
    "\n",
    "1 + 1 + 1 + 1 + 1 = 5\n",
    "\n",
    "If we were to try this in Python, it might look like this:\n",
    "\n",
    "value = 1  \n",
    "value = value + 1 __(do this step four times)__  \n",
    "print(value) # should print the value 5"
   ]
  },
  {
   "cell_type": "markdown",
   "metadata": {
    "slideshow": {
     "slide_type": "subslide"
    }
   },
   "source": [
    "### the `for` loop\n",
    "\n",
    "---\n",
    "\n",
    "The for loop iterates over a given number of items or for a set number of times. We loop through/over what is called an iterable which is important later in your learning of Python."
   ]
  },
  {
   "cell_type": "code",
   "execution_count": 15,
   "metadata": {
    "collapsed": false,
    "slideshow": {
     "slide_type": "fragment"
    }
   },
   "outputs": [
    {
     "name": "stdout",
     "output_type": "stream",
     "text": [
      "Value: 5\n"
     ]
    }
   ],
   "source": [
    "value = 1\n",
    "\n",
    "for n in [0,1,2,3]:\n",
    "    value = value + 1\n",
    "\n",
    "print('Value: ' + str(value))"
   ]
  },
  {
   "cell_type": "code",
   "execution_count": null,
   "metadata": {
    "collapsed": true,
    "slideshow": {
     "slide_type": "skip"
    }
   },
   "outputs": [],
   "source": [
    "value = 1\n",
    "\n",
    "# range(5) is the following list: [0,1,2,3,4]\n",
    "for n in range(5):\n",
    "    value = value + 1\n",
    "\n",
    "print('Value: ' + str(value))"
   ]
  },
  {
   "cell_type": "code",
   "execution_count": 16,
   "metadata": {
    "collapsed": false,
    "slideshow": {
     "slide_type": "fragment"
    }
   },
   "outputs": [
    {
     "name": "stdout",
     "output_type": "stream",
     "text": [
      "word\n",
      "1\n",
      "('set', 'of', 'strings')\n",
      "['a', 'list', 'of', 'animals']\n",
      "<object object at 0x103f17190>\n"
     ]
    }
   ],
   "source": [
    "iterable = ['word',1, ('set','of','strings'), ['a','list','of','animals'], object()]\n",
    "\n",
    "for item in iterable:\n",
    "    # statement, eg\n",
    "    # check something and/or...\n",
    "    # do something...\n",
    "    print item"
   ]
  },
  {
   "cell_type": "code",
   "execution_count": null,
   "metadata": {
    "collapsed": true,
    "slideshow": {
     "slide_type": "skip"
    }
   },
   "outputs": [],
   "source": [
    "iterable = ['word',1, ('set','of','strings'), ['a','list','of','animals'], object()]\n",
    "\n",
    "for item in iterable:\n",
    "    # statement...\n",
    "    # statement...\n",
    "    # statement...\n",
    "    \n",
    "    # can change the behavior via\n",
    "    continue\n",
    "    # or pass\n",
    "    # or break"
   ]
  },
  {
   "cell_type": "markdown",
   "metadata": {
    "slideshow": {
     "slide_type": "skip"
    }
   },
   "source": [
    "## Breakout\n",
    "\n",
    "---\n",
    "\n",
    "Correct the prior for loop with a conditional to produce a value of 5. (_Hint:_ Use the `break` command after you create your conditional.) You could modify the range function, but do not do that and claim victory so quickly."
   ]
  },
  {
   "cell_type": "markdown",
   "metadata": {
    "collapsed": true,
    "slideshow": {
     "slide_type": "subslide"
    }
   },
   "source": [
    "### the `while` loop\n",
    "\n",
    "---\n",
    "\n",
    "What if you don't know how many times you want to do something, but you know if you want to keep doing it? \n",
    "\n",
    "Iteration with a while loop continues as long as the given Boolean expression is met."
   ]
  },
  {
   "cell_type": "code",
   "execution_count": 17,
   "metadata": {
    "collapsed": false,
    "scrolled": true,
    "slideshow": {
     "slide_type": "fragment"
    }
   },
   "outputs": [
    {
     "name": "stdout",
     "output_type": "stream",
     "text": [
      "i: 4\n",
      "Value: 5\n"
     ]
    }
   ],
   "source": [
    "i = 0\n",
    "value = 1\n",
    "\n",
    "while i < 4:\n",
    "    i = i + 1\n",
    "    value = value + 1\n",
    "\n",
    "print('i: ' + str(i))\n",
    "print('Value: ' + str(value))"
   ]
  },
  {
   "cell_type": "markdown",
   "metadata": {
    "slideshow": {
     "slide_type": "subslide"
    }
   },
   "source": [
    "# Warning!\n",
    "Think about your code before you run it. Without close inspection, you can create an infinite loop in your program.\n",
    "\n",
    "---"
   ]
  },
  {
   "cell_type": "code",
   "execution_count": 18,
   "metadata": {
    "collapsed": true,
    "slideshow": {
     "slide_type": "fragment"
    }
   },
   "outputs": [],
   "source": [
    "# endless loop example (You have been warned!)\n",
    "# while True:\n",
    "#     do something..."
   ]
  },
  {
   "cell_type": "markdown",
   "metadata": {
    "slideshow": {
     "slide_type": "subslide"
    }
   },
   "source": [
    "### one more loop type: nested loops\n",
    "\n",
    "---\n",
    "\n",
    "As your programs become more and more complex, you will need to iterate over multiple things at once, such as subitems of an iterable's item. We can do this with nested loops.\n",
    "\n",
    "One example of this is 2D data (or a matrix). We can loop over the matrix by the columns then rows, or vice versa."
   ]
  },
  {
   "cell_type": "markdown",
   "metadata": {
    "slideshow": {
     "slide_type": "subslide"
    }
   },
   "source": [
    "## Breakout\n",
    "\n",
    "---\n",
    "\n",
    "Use either a `for` loop or a `while` loop or a nested loop to print out only the non-zero elements of this two-dimensional list:"
   ]
  },
  {
   "cell_type": "code",
   "execution_count": 20,
   "metadata": {
    "collapsed": true
   },
   "outputs": [],
   "source": [
    "a = [\n",
    "    [0,0,0,0,1],\n",
    "    [0,0,0,2,0],\n",
    "    [0,0,3,0,0],\n",
    "    [0,4,0,0,0],\n",
    "    [5,0,0,0,0]\n",
    "]"
   ]
  },
  {
   "cell_type": "code",
   "execution_count": 31,
   "metadata": {
    "collapsed": false,
    "slideshow": {
     "slide_type": "skip"
    }
   },
   "outputs": [
    {
     "name": "stdout",
     "output_type": "stream",
     "text": [
      "<type 'list'>\n",
      "1\n",
      "2\n",
      "3\n",
      "4\n",
      "5\n"
     ]
    }
   ],
   "source": [
    "print type(a)\n",
    "for row in a:\n",
    "    #print row\n",
    "    for col in row:\n",
    "        #print col\n",
    "        if col != 0:\n",
    "            print col"
   ]
  },
  {
   "cell_type": "code",
   "execution_count": null,
   "metadata": {
    "collapsed": true
   },
   "outputs": [],
   "source": []
  }
 ],
 "metadata": {
  "celltoolbar": "Slideshow",
  "kernelspec": {
   "display_name": "Python 2",
   "language": "python",
   "name": "python2"
  },
  "language_info": {
   "codemirror_mode": {
    "name": "ipython",
    "version": 2
   },
   "file_extension": ".py",
   "mimetype": "text/x-python",
   "name": "python",
   "nbconvert_exporter": "python",
   "pygments_lexer": "ipython2",
   "version": "2.7.11"
  }
 },
 "nbformat": 4,
 "nbformat_minor": 0
}
