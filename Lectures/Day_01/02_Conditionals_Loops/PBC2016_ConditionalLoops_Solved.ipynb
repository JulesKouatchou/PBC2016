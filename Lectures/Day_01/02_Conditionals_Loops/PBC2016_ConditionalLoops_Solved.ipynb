{
 "cells": [
  {
   "cell_type": "markdown",
   "metadata": {
    "slideshow": {
     "slide_type": "slide"
    }
   },
   "source": [
    "# Answers!"
   ]
  },
  {
   "cell_type": "markdown",
   "metadata": {
    "slideshow": {
     "slide_type": "slide"
    }
   },
   "source": [
    "## Breakout\n",
    "\n",
    "---\n",
    "\n",
    "We're going to create a simple traffic light with three options: Red, Yellow, and Green. Create three variables (top, middle, bottom, for example) to store which lights are on. These variables will hold only True/False values, or you can get creative with the conditions you put in them.\n",
    "\n",
    "After setting the three variables, write one conditional per light to test the values of these and print out the street light as such:\n",
    "\n",
    "Red: Off\n",
    "Yellow: Off\n",
    "Green: On\n",
    "\n",
    "Don't worry about formatting either. As long as you can tell which ones are off/on, that's good.\n",
    "\n",
    "It's a simple interface, but you can easily get more creative with this application."
   ]
  },
  {
   "cell_type": "markdown",
   "metadata": {
    "slideshow": {
     "slide_type": "subslide"
    }
   },
   "source": [
    "## Breakout - Answer\n",
    "\n",
    "---"
   ]
  },
  {
   "cell_type": "code",
   "execution_count": null,
   "metadata": {
    "collapsed": true,
    "slideshow": {
     "slide_type": "fragment"
    }
   },
   "outputs": [],
   "source": [
    "top = False\n",
    "middle = False\n",
    "bottom = True\n",
    "\n",
    "print 'Red:',\n",
    "if top:\n",
    "    print 'On'\n",
    "else:\n",
    "    print 'Off'\n",
    "\n",
    "print 'Yellow:',\n",
    "if middle:\n",
    "    print 'On'\n",
    "else:\n",
    "    print 'Off'\n",
    "\n",
    "print 'Green:',\n",
    "if bottom:\n",
    "    print 'On'\n",
    "else:\n",
    "    print 'Off'"
   ]
  },
  {
   "cell_type": "markdown",
   "metadata": {
    "slideshow": {
     "slide_type": "slide"
    }
   },
   "source": [
    "## Breakout\n",
    "\n",
    "---\n",
    "\n",
    "Correct the prior for loop with a conditional to produce a value of 5. (_Hint:_ Use the `break` command after you create your conditional.) You could modify the range function, but do not do that and claim victory so quickly."
   ]
  },
  {
   "cell_type": "markdown",
   "metadata": {
    "slideshow": {
     "slide_type": "subslide"
    }
   },
   "source": [
    "## Breakout - Answer\n",
    "\n",
    "---"
   ]
  },
  {
   "cell_type": "code",
   "execution_count": null,
   "metadata": {
    "collapsed": false,
    "slideshow": {
     "slide_type": "fragment"
    }
   },
   "outputs": [],
   "source": [
    "value = 1\n",
    "\n",
    "# range(5) is the following list: [0,1,2,3,4]\n",
    "for i in range(5):\n",
    "    if value == 5:\n",
    "        break\n",
    "    value = value + 1\n",
    "\n",
    "print('Value: ' + str(value))"
   ]
  },
  {
   "cell_type": "markdown",
   "metadata": {
    "slideshow": {
     "slide_type": "slide"
    }
   },
   "source": [
    "## Breakout\n",
    "\n",
    "---\n",
    "\n",
    "Use either a `for` loop or a `while` loop to print out only the non-zero elements of this two-dimensional list:"
   ]
  },
  {
   "cell_type": "code",
   "execution_count": null,
   "metadata": {
    "collapsed": true
   },
   "outputs": [],
   "source": [
    "a = [\n",
    "    [0,0,0,0,1],\n",
    "    [0,0,0,2,0],\n",
    "    [0,0,3,0,0],\n",
    "    [0,4,0,0,0],\n",
    "    [5,0,0,0,0]\n",
    "]"
   ]
  },
  {
   "cell_type": "markdown",
   "metadata": {
    "slideshow": {
     "slide_type": "subslide"
    }
   },
   "source": [
    "## Breakout - Answer\n",
    "\n",
    "---"
   ]
  },
  {
   "cell_type": "code",
   "execution_count": null,
   "metadata": {
    "collapsed": false,
    "slideshow": {
     "slide_type": "fragment"
    }
   },
   "outputs": [],
   "source": [
    "a = [\n",
    "    [0,0,0,0,1],\n",
    "    [0,0,0,2,0],\n",
    "    [0,0,3,0,0],\n",
    "    [0,4,0,0,0],\n",
    "    [5,0,0,0,0]\n",
    "]\n",
    "\n",
    "for row in a:\n",
    "    for item in row:\n",
    "        if item != 0:\n",
    "            print item"
   ]
  }
 ],
 "metadata": {
  "celltoolbar": "Slideshow",
  "kernelspec": {
   "display_name": "Python 2",
   "language": "python",
   "name": "python2"
  },
  "language_info": {
   "codemirror_mode": {
    "name": "ipython",
    "version": 2
   },
   "file_extension": ".py",
   "mimetype": "text/x-python",
   "name": "python",
   "nbconvert_exporter": "python",
   "pygments_lexer": "ipython2",
   "version": "2.7.11"
  }
 },
 "nbformat": 4,
 "nbformat_minor": 0
}
