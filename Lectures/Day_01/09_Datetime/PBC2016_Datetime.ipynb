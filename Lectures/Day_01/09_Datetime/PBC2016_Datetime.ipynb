{
 "metadata": {
  "name": "",
  "signature": "sha256:eb40877d101e0895fb093edb671c4af52c42896ff991eea20ac0515b2bcf9037"
 },
 "nbformat": 3,
 "nbformat_minor": 0,
 "worksheets": [
  {
   "cells": [
    {
     "cell_type": "markdown",
     "metadata": {},
     "source": [
      "<CENTER>\n",
      "<H1>\n",
      "<font color='blue'>NASA Goddard Space Flight Center </font> <BR>\n",
      "    Python User Group <BR>\n",
      "Python Boot Camp <br>\n",
      "</H1>\n",
      "</CENTER>"
     ]
    },
    {
     "cell_type": "heading",
     "level": 1,
     "metadata": {},
     "source": [
      "datetime Module"
     ]
    },
    {
     "cell_type": "heading",
     "level": 2,
     "metadata": {},
     "source": [
      "<font color='red'>What will be Covered?</font>"
     ]
    },
    {
     "cell_type": "markdown",
     "metadata": {},
     "source": [
      "<OL>\n",
      "<LI> Times\n",
      "<LI> Dates\n",
      "<LI> timedeltas\n",
      "<LI> Date Arithmetic\n",
      "<LI> Comparing Values\n",
      "<LI> Combining Dates and Times\n",
      "<LI> Formating and Parsing\n",
      "</OL>"
     ]
    },
    {
     "cell_type": "heading",
     "level": 2,
     "metadata": {},
     "source": [
      "<font color='red'>Reference Documents</font>"
     ]
    },
    {
     "cell_type": "markdown",
     "metadata": {},
     "source": [
      "<OL>\n",
      "<LI> <A HREF=\"http://pleac.sourceforge.net/pleac_python/datesandtimes.html\">Dates and Times</A>\n",
      "<LI> <A HREF=\"http://www.marinamele.com/2014/03/13-useful-tips-about-python-datetime.html\">Usedul Tips about Python datetime Objects</A>\n",
      "<LI> <A HREF=\"https://pymotw.com/2/datetime/\">datetime - Date/Time Value Manipulation</A>\n",
      "</OL>"
     ]
    },
    {
     "cell_type": "heading",
     "level": 2,
     "metadata": {},
     "source": [
      "<font color='red'>What is the datetime Module?</font>"
     ]
    },
    {
     "cell_type": "markdown",
     "metadata": {},
     "source": [
      "The <B>datetime</B> module provides a number of types to deal with dates, times, and time intervals. It contains the following type:\n",
      "<UL>\n",
      "<LI> The <B>datetime</B> type represents a date and a time during that day.\n",
      "<LI> The <B>date</B> type represents just a date, between year 1 and 9999 \n",
      "<LI> The <B>time</B> type represents a time, independent of the date.\n",
      "<LI> The <B>timedelta</B> type represents the difference between two time or date objects.\n",
      "<LI> The <B>tzinfo</B> type is used to implement timezone support for time and datetime objects\n",
      "</UL>"
     ]
    },
    {
     "cell_type": "heading",
     "level": 2,
     "metadata": {},
     "source": [
      "<font color='red'>Times</font>"
     ]
    },
    {
     "cell_type": "markdown",
     "metadata": {},
     "source": [
      "Time values are represented with the <B>time</B> class. Times have attributes for hour, minute, second, and microsecond. "
     ]
    },
    {
     "cell_type": "code",
     "collapsed": false,
     "input": [
      "import datetime\n",
      "\n",
      "t = datetime.time(1, 2, 3)\n",
      "print t\n",
      "print 'hour  :', t.hour\n",
      "print 'minute:', t.minute\n",
      "print 'second:', t.second\n",
      "print 'microsecond:', t.microsecond\n",
      "print 'tzinfo:', t.tzinfo"
     ],
     "language": "python",
     "metadata": {},
     "outputs": [
      {
       "output_type": "stream",
       "stream": "stdout",
       "text": [
        "01:02:03\n",
        "hour  : 1\n",
        "minute: 2\n",
        "second: 3\n",
        "microsecond: 0\n",
        "tzinfo: None\n"
       ]
      }
     ],
     "prompt_number": 1
    },
    {
     "cell_type": "markdown",
     "metadata": {},
     "source": [
      "The variable <B>t</B> only holds values of time, and not a date associated with the time.\n",
      "<P>\n",
      "You can get the valid range of times in a single day:"
     ]
    },
    {
     "cell_type": "code",
     "collapsed": false,
     "input": [
      "print 'Earliest  :', datetime.time.min\n",
      "print 'Latest    :', datetime.time.max\n",
      "print 'Resolution:', datetime.time.resolution"
     ],
     "language": "python",
     "metadata": {},
     "outputs": []
    },
    {
     "cell_type": "markdown",
     "metadata": {},
     "source": [
      "Note that the resolution for time is limited to whole microseconds."
     ]
    },
    {
     "cell_type": "heading",
     "level": 2,
     "metadata": {},
     "source": [
      "<font color='red'>Dates</font>"
     ]
    },
    {
     "cell_type": "markdown",
     "metadata": {},
     "source": [
      "Calendar date values are represented with the <B>date</B> class.\n",
      "<P>\n",
      "It is easy to create a date representing today\u2019s date using the <B>today()</B> class method."
     ]
    },
    {
     "cell_type": "code",
     "collapsed": false,
     "input": [
      "today = datetime.date.today()\n",
      "print 'today:  ', today\n",
      "print 'ctime:  ', today.ctime()\n",
      "print 'tuple:  ', today.timetuple()\n",
      "print 'ordinal:', today.toordinal()\n",
      "print 'Year:   ', today.year\n",
      "print 'Mon:    ', today.month\n",
      "print 'Day :   ', today.day"
     ],
     "language": "python",
     "metadata": {},
     "outputs": []
    },
    {
     "cell_type": "markdown",
     "metadata": {},
     "source": [
      "There are also class methods for creating instances from integers (using proleptic Gregorian ordinal values, which starts counting from Jan. 1 of the year 1) or POSIX timestamp values.\n",
      "<P>\n",
      "The following example illustrates the different value types used by <B>fromordinal()</B> and <B>fromtimestamp()</B>."
     ]
    },
    {
     "cell_type": "code",
     "collapsed": false,
     "input": [
      "import time\n",
      "\n",
      "o = 733114\n",
      "print 'o:', o\n",
      "print 'fromordinal(o):', datetime.date.fromordinal(o)\n",
      "t = time.time()\n",
      "print 't:', t\n",
      "print 'fromtimestamp(t):', datetime.date.fromtimestamp(t)"
     ],
     "language": "python",
     "metadata": {},
     "outputs": []
    },
    {
     "cell_type": "markdown",
     "metadata": {},
     "source": [
      "We can also determine the range of date values:"
     ]
    },
    {
     "cell_type": "code",
     "collapsed": false,
     "input": [
      "print 'Earliest  :', datetime.date.min\n",
      "print 'Latest    :', datetime.date.max\n",
      "print 'Resolution:', datetime.date.resolution"
     ],
     "language": "python",
     "metadata": {},
     "outputs": []
    },
    {
     "cell_type": "markdown",
     "metadata": {},
     "source": [
      "Note too that the resolution for dates is a whole day.\n",
      "<P>\n",
      "Another way to create new date instances uses the <B>replace()</B> method of an existing date. For example, you can change the year, leaving the day and month alone."
     ]
    },
    {
     "cell_type": "code",
     "collapsed": false,
     "input": [
      "d1 = datetime.date(2008, 3, 12)\n",
      "print 'd1:', d1\n",
      "\n",
      "d2 = d1.replace(year=2009)\n",
      "print 'd2:', d2"
     ],
     "language": "python",
     "metadata": {},
     "outputs": []
    },
    {
     "cell_type": "heading",
     "level": 2,
     "metadata": {},
     "source": [
      "<font color='red'>timedeltas</font>"
     ]
    },
    {
     "cell_type": "markdown",
     "metadata": {},
     "source": [
      "We can use <B>datetime</B> to perform basic arithmetic on date values via the <B>timedelta</B> class."
     ]
    },
    {
     "cell_type": "code",
     "collapsed": false,
     "input": [
      "print \"microseconds:\", datetime.timedelta(microseconds=1)\n",
      "print \"milliseconds:\", datetime.timedelta(milliseconds=1)\n",
      "print \"seconds     :\", datetime.timedelta(seconds=1)\n",
      "print \"minutes     :\", datetime.timedelta(minutes=1)\n",
      "print \"hours       :\", datetime.timedelta(hours=1)\n",
      "print \"days        :\", datetime.timedelta(days=1)\n",
      "print \"weeks       :\", datetime.timedelta(weeks=1)"
     ],
     "language": "python",
     "metadata": {},
     "outputs": []
    },
    {
     "cell_type": "heading",
     "level": 2,
     "metadata": {},
     "source": [
      "<font color='red'>Date Arithmetic</font>"
     ]
    },
    {
     "cell_type": "markdown",
     "metadata": {},
     "source": [
      "Date math uses the standard arithmetic operators. The following example with date objects illustrates using <B>timedelta</B> objects to compute new dates, and subtracting date instances to produce timedeltas (including a negative delta value)."
     ]
    },
    {
     "cell_type": "code",
     "collapsed": false,
     "input": [
      "today = datetime.date.today()\n",
      "print 'Today    :', today\n",
      "\n",
      "one_day = datetime.timedelta(days=1)\n",
      "print 'One day  :', one_day\n",
      "\n",
      "yesterday = today - one_day\n",
      "print 'Yesterday:', yesterday\n",
      "\n",
      "tomorrow = today + one_day\n",
      "print 'Tomorrow :', tomorrow\n",
      "\n",
      "print 'tomorrow - yesterday:', tomorrow - yesterday\n",
      "print 'yesterday - tomorrow:', yesterday - tomorrow"
     ],
     "language": "python",
     "metadata": {},
     "outputs": []
    },
    {
     "cell_type": "heading",
     "level": 2,
     "metadata": {},
     "source": [
      "<font color='red'>Comparing Values</font>"
     ]
    },
    {
     "cell_type": "markdown",
     "metadata": {},
     "source": [
      "Both date and time values can be compared using the standard operators to determine which is earlier or later."
     ]
    },
    {
     "cell_type": "code",
     "collapsed": false,
     "input": [
      "print 'Times:'\n",
      "t1 = datetime.time(12, 55, 0)\n",
      "print '\\tt1:', t1\n",
      "t2 = datetime.time(13, 5, 0)\n",
      "print '\\tt2:', t2\n",
      "print '\\tt1 < t2:', t1 < t2\n",
      "\n",
      "print 'Dates:'\n",
      "d1 = datetime.date.today()\n",
      "print '\\td1:', d1\n",
      "d2 = datetime.date.today() + datetime.timedelta(days=1)\n",
      "print '\\td2:', d2\n",
      "print '\\td1 > d2:', d1 > d2"
     ],
     "language": "python",
     "metadata": {},
     "outputs": []
    },
    {
     "cell_type": "heading",
     "level": 2,
     "metadata": {},
     "source": [
      "<font color='red'>Combining Dates and Times</font>"
     ]
    },
    {
     "cell_type": "markdown",
     "metadata": {},
     "source": [
      "We can use the datetime class to hold values consisting of both date and time components. "
     ]
    },
    {
     "cell_type": "code",
     "collapsed": false,
     "input": [
      "print 'Now    :', datetime.datetime.now()\n",
      "print 'Today  :', datetime.datetime.today()\n",
      "print 'UTC Now:', datetime.datetime.utcnow()\n",
      "\n",
      "d = datetime.datetime.now()\n",
      "for attr in [ 'year', 'month', 'day', 'hour', 'minute', 'second', 'microsecond']:\n",
      "    print attr, ':', getattr(d, attr)"
     ],
     "language": "python",
     "metadata": {},
     "outputs": []
    },
    {
     "cell_type": "code",
     "collapsed": false,
     "input": [
      "NOW = datetime.datetime.now()\n",
      " \n",
      "print \"Current date & time = %s \" %NOW\n",
      "print \"Date and time in ISO format = %s\" %NOW.isoformat() \n",
      "print \"Current year = %s \" %NOW.year \n",
      "print \"Current month = %s \" %NOW.month\n",
      "print \"Current date (day) =  %s \" %NOW.day\n",
      "print \"dd/mm/yyyy format = %s/%s/%s\" % (NOW.day, NOW.month, NOW.year)\n",
      "print \"Current hour = %s \" %NOW.hour\n",
      "print \"Current minute = %s \" %NOW.minute\n",
      "print \"Current second = %s\" %NOW.second\n",
      "print \"hh:mm:ss format = %s:%s:%s\" % (NOW.hour, NOW.month, NOW.second)"
     ],
     "language": "python",
     "metadata": {},
     "outputs": []
    },
    {
     "cell_type": "markdown",
     "metadata": {},
     "source": [
      "Just as with date, datetime provides convenient class methods for creating new instances. It also includes <B>fromordinal()</B> and <B>fromtimestamp()</B>. In addition, <B>combine()</B> can be useful if you already have a date instance and time instance and want to create a datetime."
     ]
    },
    {
     "cell_type": "code",
     "collapsed": false,
     "input": [
      "t = datetime.time(1, 2, 3)\n",
      "print 't :', t\n",
      "\n",
      "d = datetime.date.today()\n",
      "print 'd :', d\n",
      "\n",
      "dt = datetime.datetime.combine(d, t)\n",
      "print 'dt:', dt"
     ],
     "language": "python",
     "metadata": {},
     "outputs": []
    },
    {
     "cell_type": "heading",
     "level": 2,
     "metadata": {},
     "source": [
      "<font color='red'>Formating and Parsing</font>"
     ]
    },
    {
     "cell_type": "markdown",
     "metadata": {},
     "source": [
      "The default string representation of a datetime object uses the format: YYYY-MM-DDTHH:MM:SS.mmmmmm \n",
      "<P>\n",
      "Alternate formats can be generated using <B>strftime()</B>. If your input data includes timestamp values parsable with <B>time.strptime()</B>, then <B>datetime.strptime()</B> is a convenient way to convert them to datetime instances."
     ]
    },
    {
     "cell_type": "code",
     "collapsed": false,
     "input": [
      "format = \"%a %b %d %H:%M:%S %Y\"\n",
      "\n",
      "today = datetime.datetime.today()\n",
      "print 'ISO     :', today\n",
      "\n",
      "s = today.strftime(format)\n",
      "print 'strftime:', s\n",
      "\n",
      "d = datetime.datetime.strptime(s, format)\n",
      "print 'strptime:', d.strftime(format)"
     ],
     "language": "python",
     "metadata": {},
     "outputs": []
    },
    {
     "cell_type": "heading",
     "level": 3,
     "metadata": {},
     "source": [
      "Problem 1"
     ]
    },
    {
     "cell_type": "markdown",
     "metadata": {},
     "source": [
      "Write a function (add_Years) that adds numYears to a date object."
     ]
    },
    {
     "cell_type": "heading",
     "level": 4,
     "metadata": {},
     "source": [
      "Solution"
     ]
    },
    {
     "cell_type": "code",
     "collapsed": false,
     "input": [
      "def add_Years (myDate, numYears):\n",
      "    return myDate.replace(year =myDate.year + numYears)"
     ],
     "language": "python",
     "metadata": {},
     "outputs": [],
     "prompt_number": 21
    },
    {
     "cell_type": "heading",
     "level": 3,
     "metadata": {},
     "source": [
      "Problem 2"
     ]
    },
    {
     "cell_type": "markdown",
     "metadata": {},
     "source": [
      "Write a function (add_Months) that adds numMonths to a date object."
     ]
    },
    {
     "cell_type": "heading",
     "level": 4,
     "metadata": {},
     "source": [
      "Solution"
     ]
    },
    {
     "cell_type": "code",
     "collapsed": false,
     "input": [
      "import datetime\n",
      "\n",
      "def add_Months(myDate, numMonths):\n",
      "    m = myDate.month + numMonths\n",
      "    year  = m / 12\n",
      "    month = m % 12\n",
      "    if month == 0:\n",
      "       month = 12\n",
      "       year -= 1\n",
      "    try:\n",
      "        newDate = datetime.date(myDate.year+year, month, myDate.day)\n",
      "    except ValueError:\n",
      "        import calendar\n",
      "        # determine the total number of days in a new month\n",
      "        m1, d1 = calendar.monthrange(myDate.year+year, month)\n",
      "        newDate = datetime.date(myDate.year+year, month, d1)\n",
      "    return newDate"
     ],
     "language": "python",
     "metadata": {},
     "outputs": [],
     "prompt_number": 38
    },
    {
     "cell_type": "heading",
     "level": 3,
     "metadata": {},
     "source": [
      "Problem 3"
     ]
    },
    {
     "cell_type": "markdown",
     "metadata": {},
     "source": [
      "Write a function (add_Days) that adds numDays to a date object."
     ]
    },
    {
     "cell_type": "heading",
     "level": 4,
     "metadata": {},
     "source": [
      "Solution"
     ]
    },
    {
     "cell_type": "code",
     "collapsed": false,
     "input": [
      "def add_Days (myDate, numDays):\n",
      "    return myDate + datetime.timedelta(days=numDays)"
     ],
     "language": "python",
     "metadata": {},
     "outputs": [],
     "prompt_number": 25
    },
    {
     "cell_type": "heading",
     "level": 3,
     "metadata": {},
     "source": [
      "Problem 4"
     ]
    },
    {
     "cell_type": "markdown",
     "metadata": {},
     "source": [
      "Write a function (increment_Date):\n",
      "<UL> \n",
      "<LI> That has as arguments refDate (in the format YYYYMMDD), numYears, numMonths and numDays, and \n",
      "<LI> That adds numYears, numMonths and numDays to refDate.\n",
      "<LI> That returns a new date in the format YYYYMMDD.\n",
      "</UL>\n",
      "<P>\n",
      "Note that Years, Months and Days can be negative numbers."
     ]
    },
    {
     "cell_type": "heading",
     "level": 4,
     "metadata": {},
     "source": [
      "Solution"
     ]
    },
    {
     "cell_type": "code",
     "collapsed": false,
     "input": [
      "import datetime\n",
      "\n",
      "def increment_Date(Date, numYears=0, numMonths=0, numDays=0):\n",
      "    # Extract the year, the month and day from Date\n",
      "    y = Date / 10000\n",
      "    m = (Date % 10000) / 100\n",
      "    d = Date % 100\n",
      "    \n",
      "    # Determine the current date object\n",
      "    curDate = datetime.date(y, m, d)\n",
      "    \n",
      "    # Increment the date\n",
      "    curDate = add_Years (curDate, numYears)\n",
      "    curDate = add_Months(curDate, numMonths)\n",
      "    curDate = add_Days  (curDate, numDays)\n",
      "    \n",
      "    # Extract the new year, month and day\n",
      "    curY = curDate.year\n",
      "    curM = curDate.month\n",
      "    curD = curDate.day\n",
      "    \n",
      "    # Compute the new date in the format YYYYMMDD\n",
      "    newDate = 10000*curY + 100*curM + curD\n",
      "    \n",
      "    return newDate\n",
      "\n",
      "print increment_Date(20001231, numMonths=-15, numDays=7)"
     ],
     "language": "python",
     "metadata": {},
     "outputs": [
      {
       "output_type": "stream",
       "stream": "stdout",
       "text": [
        "19991007\n"
       ]
      }
     ],
     "prompt_number": 39
    },
    {
     "cell_type": "code",
     "collapsed": false,
     "input": [],
     "language": "python",
     "metadata": {},
     "outputs": []
    }
   ],
   "metadata": {}
  }
 ]
}